{
 "cells": [
  {
   "cell_type": "code",
   "execution_count": 21,
   "metadata": {},
   "outputs": [],
   "source": [
    "import pandas as pd\n",
    "import numpy as np\n",
    "import xgboost as xgb\n",
    "import catboost as cb\n",
    "import lightgbm as lgbm\n",
    "from sklearn.model_selection import GridSearchCV, RandomizedSearchCV, TimeSeriesSplit\n",
    "from sklearn.metrics import r2_score, mean_squared_error, mean_absolute_error\n",
    "import math\n",
    "import scipy.stats as st"
   ]
  },
  {
   "cell_type": "code",
   "execution_count": 2,
   "metadata": {},
   "outputs": [
    {
     "name": "stderr",
     "output_type": "stream",
     "text": [
      "/Library/Frameworks/Python.framework/Versions/3.6/lib/python3.6/site-packages/IPython/core/interactiveshell.py:2728: DtypeWarning: Columns (7) have mixed types. Specify dtype option on import or set low_memory=False.\n",
      "  interactivity=interactivity, compiler=compiler, result=result)\n"
     ]
    }
   ],
   "source": [
    "train_rossman = pd.read_csv('/Users/cmcnamara/Downloads/Kaggle Rossman/train.csv')\n",
    "store_rossman = pd.read_csv('/Users/cmcnamara/Downloads/Kaggle Rossman/store.csv')"
   ]
  },
  {
   "cell_type": "code",
   "execution_count": 3,
   "metadata": {},
   "outputs": [],
   "source": [
    "train_rossman = pd.merge(train_rossman, store_rossman, on='Store', how='left').fillna(0)"
   ]
  },
  {
   "cell_type": "code",
   "execution_count": 4,
   "metadata": {},
   "outputs": [],
   "source": [
    "train_rossman['StateHoliday'] = train_rossman['StateHoliday'].astype('category').cat.codes\n",
    "train_rossman['StoreType'] = train_rossman['StoreType'].astype('category').cat.codes\n",
    "train_rossman['Assortment'] = train_rossman['Assortment'].astype('category').cat.codes\n",
    "train_rossman['Promo2SinceWeek'] = train_rossman['Promo2SinceWeek'].astype(int)\n",
    "train_rossman['Promo2SinceYear'] = train_rossman['Promo2SinceYear'].astype(int)\n",
    "train_rossman['CompeititonDistance'] = train_rossman['CompetitionDistance'].astype(int)\n",
    "train_rossman['CompetitionOpenSinceMonth'] = train_rossman['CompetitionOpenSinceMonth'].astype(int)\n",
    "train_rossman['CompetitionOpenSinceYear'] = train_rossman[\"CompetitionOpenSinceYear\"].astype(int)\n",
    "train_rossman['PromoInterval'] = train_rossman['PromoInterval'].astype('category').cat.codes\n",
    "train_rossman['Date'] = pd.to_datetime(train_rossman['Date'])"
   ]
  },
  {
   "cell_type": "code",
   "execution_count": 5,
   "metadata": {},
   "outputs": [],
   "source": [
    "test_rossman = train_rossman.iloc[np.where(train_rossman.Date.dt.year == 2015)[0], :]\n",
    "train_rossman = train_rossman.iloc[np.where(train_rossman.Date.dt.year == 2014)[0], :]"
   ]
  },
  {
   "cell_type": "code",
   "execution_count": 6,
   "metadata": {},
   "outputs": [],
   "source": [
    "train_rossman = train_rossman.iloc[::-1]\n",
    "test_rossman = test_rossman.iloc[::-1]"
   ]
  },
  {
   "cell_type": "markdown",
   "metadata": {},
   "source": [
    "Note that there are a few problems when comparing the different algorithms (xgboost, lightgbm, catboost).\n",
    "\n",
    "* The first is that they take the input data in differently. While  xgboost and lightgbm have wrappers to handle pandas dataframes directly, catboost does not. Therefore, I will use their native data wrapper for each algorithm.\n",
    "* The second is that they do not grow the trees the same.\n",
    "\n",
    "Nonetheless, I will try to ensure that each algorithm is as close to one another as possible for maximum accuracy.\""
   ]
  },
  {
   "cell_type": "code",
   "execution_count": 7,
   "metadata": {},
   "outputs": [],
   "source": [
    "train_y = train_rossman['Sales']\n",
    "train_x = train_rossman.drop(['Sales', 'Date'], axis=1)\n",
    "params = {\"max_depth\": [5,10, 15],\n",
    "         \"learning_rate\": [0.01, 0.05, 0.1],\n",
    "         \"n_estimators\": [100, 250]}\n",
    "params_cb = {'depth': [5, 10, 15],\n",
    "            'learning_rate': [0.01, 0.05, 0.1],\n",
    "            'iterations': [100, 250]}\n",
    "test_y = test_rossman['Sales']\n",
    "test_x = test_rossman.drop(['Sales', 'Date'], axis=1)\n",
    "n_splits = 3\n",
    "max_train_size = len(train_x) // (n_splits+1)"
   ]
  },
  {
   "cell_type": "code",
   "execution_count": 8,
   "metadata": {},
   "outputs": [
    {
     "data": {
      "text/plain": [
       "(373855, 17)"
      ]
     },
     "execution_count": 8,
     "metadata": {},
     "output_type": "execute_result"
    }
   ],
   "source": [
    "train_x.shape"
   ]
  },
  {
   "cell_type": "code",
   "execution_count": 9,
   "metadata": {},
   "outputs": [
    {
     "data": {
      "text/plain": [
       "(236380, 17)"
      ]
     },
     "execution_count": 9,
     "metadata": {},
     "output_type": "execute_result"
    }
   ],
   "source": [
    "test_x.shape"
   ]
  },
  {
   "cell_type": "markdown",
   "metadata": {},
   "source": [
    "# Grid Search"
   ]
  },
  {
   "cell_type": "markdown",
   "metadata": {},
   "source": [
    "### xgboost"
   ]
  },
  {
   "cell_type": "code",
   "execution_count": 11,
   "metadata": {},
   "outputs": [
    {
     "name": "stdout",
     "output_type": "stream",
     "text": [
      "Fitting 3 folds for each of 18 candidates, totalling 54 fits\n"
     ]
    },
    {
     "name": "stderr",
     "output_type": "stream",
     "text": [
      "[Parallel(n_jobs=1)]: Done  54 out of  54 | elapsed: 34.4min finished\n"
     ]
    },
    {
     "name": "stdout",
     "output_type": "stream",
     "text": [
      "CPU times: user 35min 56s, sys: 15.7 s, total: 36min 12s\n",
      "Wall time: 38min 1s\n"
     ]
    }
   ],
   "source": [
    "%%time\n",
    "model_xg = xgb.XGBRegressor()\n",
    "grid_search_xg = GridSearchCV(model_xg, param_grid=params, cv=TimeSeriesSplit(n_splits=n_splits, max_train_size=max_train_size), verbose=1, n_jobs=1)\n",
    "grid_search_xg.fit(train_x, train_y)"
   ]
  },
  {
   "cell_type": "markdown",
   "metadata": {},
   "source": [
    "### lightgbm"
   ]
  },
  {
   "cell_type": "code",
   "execution_count": 12,
   "metadata": {},
   "outputs": [
    {
     "name": "stdout",
     "output_type": "stream",
     "text": [
      "Fitting 3 folds for each of 18 candidates, totalling 54 fits\n"
     ]
    },
    {
     "name": "stderr",
     "output_type": "stream",
     "text": [
      "[Parallel(n_jobs=1)]: Done  54 out of  54 | elapsed:  4.0min finished\n"
     ]
    },
    {
     "name": "stdout",
     "output_type": "stream",
     "text": [
      "CPU times: user 3min 55s, sys: 4.46 s, total: 4min\n",
      "Wall time: 4min 6s\n"
     ]
    }
   ],
   "source": [
    "%%time\n",
    "model_lg = lgbm.LGBMRegressor()\n",
    "grid_search_lg = GridSearchCV(model_lg, param_grid=params, cv=TimeSeriesSplit(n_splits=n_splits, max_train_size=max_train_size), verbose=1, n_jobs=1)\n",
    "grid_search_lg.fit(train_x, train_y)"
   ]
  },
  {
   "cell_type": "markdown",
   "metadata": {},
   "source": [
    "### catboost"
   ]
  },
  {
   "cell_type": "code",
   "execution_count": 13,
   "metadata": {},
   "outputs": [
    {
     "name": "stdout",
     "output_type": "stream",
     "text": [
      "Fitting 3 folds for each of 18 candidates, totalling 54 fits\n"
     ]
    },
    {
     "name": "stderr",
     "output_type": "stream",
     "text": [
      "[Parallel(n_jobs=1)]: Done  54 out of  54 | elapsed: 31.8min finished\n"
     ]
    },
    {
     "name": "stdout",
     "output_type": "stream",
     "text": [
      "CPU times: user 50min 41s, sys: 24min 51s, total: 1h 15min 32s\n",
      "Wall time: 32min\n"
     ]
    }
   ],
   "source": [
    "%%time\n",
    "model_cb = cb.CatBoostRegressor(verbose=False)\n",
    "grid_search_cb = GridSearchCV(model_cb, param_grid=params_cb, cv=TimeSeriesSplit(n_splits=n_splits, max_train_size=max_train_size), verbose=1, n_jobs=1)\n",
    "grid_search_cb.fit(train_x, train_y)"
   ]
  },
  {
   "cell_type": "markdown",
   "metadata": {},
   "source": [
    "## Predictions"
   ]
  },
  {
   "cell_type": "code",
   "execution_count": 23,
   "metadata": {},
   "outputs": [
    {
     "name": "stdout",
     "output_type": "stream",
     "text": [
      "XGBoost R2 Score: 0.9845042161602857\n",
      "LightGBM R2 Score: 0.9593680458739346\n",
      "CatBoost R2 Score: 0.3924172059353608\n",
      "\n",
      "XGBoost RMSE Score: 478.0346380049253\n",
      "LightGBM RMSE Score: 774.0810688834093\n",
      "CatBoost RMSE Score: 2993.335008461103\n",
      "\n",
      "XGBoost MAE Score: 304.35978959594553\n",
      "LightGBM MAE Score: 524.8717335935854\n",
      "CatBoost MAE Score: 2274.958012699857\n",
      "\n"
     ]
    }
   ],
   "source": [
    "predict_y_xg = grid_search_xg.predict(test_x)\n",
    "predict_y_lg = grid_search_lg.predict(test_x)\n",
    "predict_y_cb = grid_search_cb.predict(test_x)\n",
    "\n",
    "print('XGBoost R2 Score: {}'.format(r2_score(test_y, predict_y_xg)))\n",
    "print('LightGBM R2 Score: {}'.format(r2_score(test_y, predict_y_lg)))\n",
    "print('CatBoost R2 Score: {}\\n'.format(r2_score(test_y, predict_y_cb)))\n",
    "\n",
    "print('XGBoost RMSE Score: {}'.format(math.sqrt(mean_squared_error(test_y, predict_y_xg))))\n",
    "print('LightGBM RMSE Score: {}'.format(math.sqrt(mean_squared_error(test_y, predict_y_lg))))\n",
    "print('CatBoost RMSE Score: {}\\n'.format(math.sqrt(mean_squared_error(test_y, predict_y_cb))))\n",
    "\n",
    "print('XGBoost MAE Score: {}'.format(mean_absolute_error(test_y, predict_y_xg)))\n",
    "print('LightGBM MAE Score: {}'.format(mean_absolute_error(test_y, predict_y_lg)))\n",
    "print('CatBoost MAE Score: {}\\n'.format(mean_absolute_error(test_y, predict_y_cb)))"
   ]
  },
  {
   "cell_type": "markdown",
   "metadata": {},
   "source": [
    "# Randomized Search"
   ]
  },
  {
   "cell_type": "code",
   "execution_count": 15,
   "metadata": {},
   "outputs": [],
   "source": [
    "params = {'max_depth': st.randint(3, 16),\n",
    "          'learning_rate': st.uniform(0.01, 0.4),\n",
    "          'n_estimators': st.randint(100, 500)\n",
    "         }\n",
    "\n",
    "params_cb = {'depth': st.randint(3,16),\n",
    "            'learning_rate': st.uniform(0.01, 0.4),\n",
    "            'iterations': st.randint(100, 500)\n",
    "            }"
   ]
  },
  {
   "cell_type": "markdown",
   "metadata": {},
   "source": [
    "### xgboost"
   ]
  },
  {
   "cell_type": "code",
   "execution_count": 16,
   "metadata": {},
   "outputs": [
    {
     "name": "stdout",
     "output_type": "stream",
     "text": [
      "Fitting 3 folds for each of 5 candidates, totalling 15 fits\n"
     ]
    },
    {
     "name": "stderr",
     "output_type": "stream",
     "text": [
      "[Parallel(n_jobs=1)]: Done  15 out of  15 | elapsed: 24.8min finished\n"
     ]
    },
    {
     "name": "stdout",
     "output_type": "stream",
     "text": [
      "CPU times: user 27min 21s, sys: 11.2 s, total: 27min 32s\n",
      "Wall time: 28min 42s\n"
     ]
    }
   ],
   "source": [
    "%%time\n",
    "model_xg = xgb.XGBRegressor()\n",
    "rand_search_xg = RandomizedSearchCV(model_xg, params, n_jobs=1, cv=TimeSeriesSplit(n_splits=n_splits, max_train_size=max_train_size), n_iter=5, verbose=1)\n",
    "rand_search_xg.fit(train_x, train_y)"
   ]
  },
  {
   "cell_type": "markdown",
   "metadata": {},
   "source": [
    "### lightgbm"
   ]
  },
  {
   "cell_type": "code",
   "execution_count": 17,
   "metadata": {},
   "outputs": [
    {
     "name": "stdout",
     "output_type": "stream",
     "text": [
      "Fitting 3 folds for each of 5 candidates, totalling 15 fits\n"
     ]
    },
    {
     "name": "stderr",
     "output_type": "stream",
     "text": [
      "[Parallel(n_jobs=1)]: Done  15 out of  15 | elapsed:  1.7min finished\n"
     ]
    },
    {
     "name": "stdout",
     "output_type": "stream",
     "text": [
      "CPU times: user 1min 46s, sys: 1.91 s, total: 1min 48s\n",
      "Wall time: 1min 55s\n"
     ]
    }
   ],
   "source": [
    "%%time\n",
    "model_lg = lgbm.LGBMRegressor()\n",
    "rand_search_lg = RandomizedSearchCV(model_lg, params, n_jobs=1, cv=TimeSeriesSplit(n_splits=n_splits, max_train_size=max_train_size), n_iter=5, verbose=1)\n",
    "rand_search_lg.fit(train_x, train_y)"
   ]
  },
  {
   "cell_type": "markdown",
   "metadata": {},
   "source": [
    "### catboost"
   ]
  },
  {
   "cell_type": "code",
   "execution_count": 19,
   "metadata": {},
   "outputs": [
    {
     "name": "stdout",
     "output_type": "stream",
     "text": [
      "Fitting 3 folds for each of 5 candidates, totalling 15 fits\n"
     ]
    },
    {
     "name": "stderr",
     "output_type": "stream",
     "text": [
      "[Parallel(n_jobs=1)]: Done  15 out of  15 | elapsed:  9.0min finished\n"
     ]
    },
    {
     "name": "stdout",
     "output_type": "stream",
     "text": [
      "CPU times: user 20min 16s, sys: 5min 5s, total: 25min 22s\n",
      "Wall time: 10min 42s\n"
     ]
    }
   ],
   "source": [
    "%%time\n",
    "model_cb = cb.CatBoostRegressor(verbose=False)\n",
    "rand_search_cb = RandomizedSearchCV(model_cb, params_cb, n_jobs=1, cv=TimeSeriesSplit(n_splits=n_splits, max_train_size=max_train_size), n_iter=5, verbose=1)\n",
    "rand_search_cb.fit(train_x, train_y)"
   ]
  },
  {
   "cell_type": "code",
   "execution_count": 22,
   "metadata": {},
   "outputs": [
    {
     "name": "stdout",
     "output_type": "stream",
     "text": [
      "XGBoost R2 Score: 0.9840236061052743\n",
      "LightGBM R2 Score: 0.9719304142665414\n",
      "CatBoost R2 Score: 0.963735923696809\n",
      "\n",
      "XGBoost RMSE Score: 485.39128148570666\n",
      "LightGBM RMSE Score: 643.3844988655625\n",
      "CatBoost RMSE Score: 731.2921331651366\n",
      "\n",
      "XGBoost MAE Score: 303.40760768053696\n",
      "LightGBM MAE Score: 442.83291006743093\n",
      "CatBoost MAE Score: 491.7908597475108\n",
      "\n"
     ]
    }
   ],
   "source": [
    "predict_y_xg = rand_search_xg.predict(test_x)\n",
    "predict_y_lg = rand_search_lg.predict(test_x)\n",
    "predict_y_cb = rand_search_cb.predict(test_x)\n",
    "\n",
    "print('XGBoost R2 Score: {}'.format(r2_score(test_y, predict_y_xg)))\n",
    "print('LightGBM R2 Score: {}'.format(r2_score(test_y, predict_y_lg)))\n",
    "print('CatBoost R2 Score: {}\\n'.format(r2_score(test_y, predict_y_cb)))\n",
    "\n",
    "print('XGBoost RMSE Score: {}'.format(math.sqrt(mean_squared_error(test_y, predict_y_xg))))\n",
    "print('LightGBM RMSE Score: {}'.format(math.sqrt(mean_squared_error(test_y, predict_y_lg))))\n",
    "print('CatBoost RMSE Score: {}\\n'.format(math.sqrt(mean_squared_error(test_y, predict_y_cb))))\n",
    "\n",
    "print('XGBoost MAE Score: {}'.format(mean_absolute_error(test_y, predict_y_xg)))\n",
    "print('LightGBM MAE Score: {}'.format(mean_absolute_error(test_y, predict_y_lg)))\n",
    "print('CatBoost MAE Score: {}\\n'.format(mean_absolute_error(test_y, predict_y_cb)))"
   ]
  },
  {
   "cell_type": "markdown",
   "metadata": {},
   "source": [
    "# Early Stopping"
   ]
  },
  {
   "cell_type": "markdown",
   "metadata": {},
   "source": [
    "### xgboost"
   ]
  },
  {
   "cell_type": "code",
   "execution_count": 24,
   "metadata": {},
   "outputs": [],
   "source": [
    "train_xg = xgb.DMatrix(train_x, train_y)\n",
    "params_xg = {\"objective\": 'reg:linear',\n",
    "             'eval_metric': 'rmse'\n",
    "}\n",
    "validation_xg = xgb.DMatrix(test_x, test_y)\n",
    "watchlist  = [(train_xg,'train'),(validation_xg,'eval')]"
   ]
  },
  {
   "cell_type": "code",
   "execution_count": 27,
   "metadata": {},
   "outputs": [
    {
     "name": "stdout",
     "output_type": "stream",
     "text": [
      "[0]\ttrain-rmse:4987.38\teval-rmse:5045.6\n",
      "Multiple eval metrics have been passed: 'eval-rmse' will be used for early stopping.\n",
      "\n",
      "Will train until eval-rmse hasn't improved in 10 rounds.\n",
      "[10]\ttrain-rmse:930.629\teval-rmse:989.363\n",
      "[20]\ttrain-rmse:803.924\teval-rmse:848.51\n",
      "[30]\ttrain-rmse:723.601\teval-rmse:769.458\n",
      "[40]\ttrain-rmse:662.337\teval-rmse:708.054\n",
      "[50]\ttrain-rmse:611.971\teval-rmse:661.209\n",
      "[60]\ttrain-rmse:576.525\teval-rmse:629.574\n",
      "[70]\ttrain-rmse:555.81\teval-rmse:610.509\n",
      "[80]\ttrain-rmse:535.494\teval-rmse:590.706\n",
      "[90]\ttrain-rmse:522.09\teval-rmse:579.964\n",
      "[100]\ttrain-rmse:506.527\teval-rmse:565.162\n",
      "[110]\ttrain-rmse:494.181\teval-rmse:555.372\n",
      "[120]\ttrain-rmse:482.999\teval-rmse:545.271\n",
      "[130]\ttrain-rmse:474.449\teval-rmse:538.903\n",
      "[140]\ttrain-rmse:467.323\teval-rmse:532.778\n",
      "[150]\ttrain-rmse:460.324\teval-rmse:528.181\n",
      "[160]\ttrain-rmse:454.31\teval-rmse:523.906\n",
      "[170]\ttrain-rmse:445.942\teval-rmse:517.821\n",
      "[180]\ttrain-rmse:440.297\teval-rmse:514.189\n",
      "[190]\ttrain-rmse:436.293\teval-rmse:512.824\n",
      "[200]\ttrain-rmse:431.75\teval-rmse:509.156\n",
      "[210]\ttrain-rmse:427.46\teval-rmse:506.417\n",
      "[220]\ttrain-rmse:424.038\teval-rmse:504.456\n",
      "[230]\ttrain-rmse:420.614\teval-rmse:501.706\n",
      "[240]\ttrain-rmse:416.751\teval-rmse:499.572\n",
      "[250]\ttrain-rmse:413.776\teval-rmse:498.07\n",
      "[260]\ttrain-rmse:411.047\teval-rmse:496.288\n",
      "[270]\ttrain-rmse:408.431\teval-rmse:494.922\n",
      "[280]\ttrain-rmse:405.63\teval-rmse:493.342\n",
      "[290]\ttrain-rmse:403.211\teval-rmse:491.928\n",
      "[300]\ttrain-rmse:400.81\teval-rmse:490.982\n",
      "[310]\ttrain-rmse:398.788\teval-rmse:490.077\n",
      "[320]\ttrain-rmse:397.422\teval-rmse:489.429\n",
      "[330]\ttrain-rmse:395.495\teval-rmse:488.368\n",
      "[340]\ttrain-rmse:393.23\teval-rmse:487.045\n",
      "[350]\ttrain-rmse:391.171\teval-rmse:486.039\n",
      "[360]\ttrain-rmse:389.257\teval-rmse:485.497\n",
      "[370]\ttrain-rmse:387.744\teval-rmse:485.09\n",
      "[380]\ttrain-rmse:386.165\teval-rmse:484.297\n",
      "[390]\ttrain-rmse:384.535\teval-rmse:483.599\n",
      "[400]\ttrain-rmse:382.631\teval-rmse:482.753\n",
      "[410]\ttrain-rmse:381.324\teval-rmse:482.702\n",
      "[420]\ttrain-rmse:380.251\teval-rmse:482.341\n",
      "[430]\ttrain-rmse:378.802\teval-rmse:481.628\n",
      "[440]\ttrain-rmse:376.948\teval-rmse:480.597\n",
      "[450]\ttrain-rmse:375.606\teval-rmse:480.829\n",
      "Stopping. Best iteration:\n",
      "[441]\ttrain-rmse:376.862\teval-rmse:480.588\n",
      "\n",
      "CPU times: user 3min 14s, sys: 1.32 s, total: 3min 16s\n",
      "Wall time: 3min 25s\n"
     ]
    }
   ],
   "source": [
    "%%time\n",
    "model_xg = xgb.train(params_xg, train_xg, num_boost_round=9999, evals=watchlist, early_stopping_rounds=10, verbose_eval=10)"
   ]
  },
  {
   "cell_type": "markdown",
   "metadata": {},
   "source": [
    "### lightgbm"
   ]
  },
  {
   "cell_type": "code",
   "execution_count": 28,
   "metadata": {},
   "outputs": [],
   "source": [
    "train_lg = lgbm.Dataset(train_x, train_y)\n",
    "params_lg = {'task': 'train',\n",
    "            'objective': 'regression',\n",
    "            'metric': 'rmse'}\n",
    "validation_lg = lgbm.Dataset(test_x, test_y, reference=train_lg)"
   ]
  },
  {
   "cell_type": "code",
   "execution_count": 29,
   "metadata": {},
   "outputs": [
    {
     "name": "stdout",
     "output_type": "stream",
     "text": [
      "Training until validation scores don't improve for 10 rounds.\n",
      "[10]\tvalid_0's rmse: 3195.7\n",
      "[20]\tvalid_0's rmse: 2650.39\n",
      "[30]\tvalid_0's rmse: 2184.9\n",
      "[40]\tvalid_0's rmse: 1805.55\n",
      "[50]\tvalid_0's rmse: 1522.29\n",
      "[60]\tvalid_0's rmse: 1366.67\n",
      "[70]\tvalid_0's rmse: 1262.68\n",
      "[80]\tvalid_0's rmse: 1192.87\n",
      "[90]\tvalid_0's rmse: 1137.61\n",
      "[100]\tvalid_0's rmse: 1090.43\n",
      "[110]\tvalid_0's rmse: 1055.47\n",
      "[120]\tvalid_0's rmse: 1025.11\n",
      "[130]\tvalid_0's rmse: 994.572\n",
      "[140]\tvalid_0's rmse: 970.561\n",
      "[150]\tvalid_0's rmse: 950.721\n",
      "[160]\tvalid_0's rmse: 929.36\n",
      "[170]\tvalid_0's rmse: 907.945\n",
      "[180]\tvalid_0's rmse: 891.272\n",
      "[190]\tvalid_0's rmse: 872.588\n",
      "[200]\tvalid_0's rmse: 853.214\n",
      "[210]\tvalid_0's rmse: 838.696\n",
      "[220]\tvalid_0's rmse: 825.127\n",
      "[230]\tvalid_0's rmse: 810.659\n",
      "[240]\tvalid_0's rmse: 798.012\n",
      "[250]\tvalid_0's rmse: 781.202\n",
      "[260]\tvalid_0's rmse: 765.121\n",
      "[270]\tvalid_0's rmse: 751.779\n",
      "[280]\tvalid_0's rmse: 736.216\n",
      "[290]\tvalid_0's rmse: 725.488\n",
      "[300]\tvalid_0's rmse: 711.786\n",
      "[310]\tvalid_0's rmse: 699.94\n",
      "[320]\tvalid_0's rmse: 688.294\n",
      "[330]\tvalid_0's rmse: 675.513\n",
      "[340]\tvalid_0's rmse: 663.221\n",
      "[350]\tvalid_0's rmse: 656.173\n",
      "[360]\tvalid_0's rmse: 646.443\n",
      "[370]\tvalid_0's rmse: 638.675\n",
      "[380]\tvalid_0's rmse: 629.629\n",
      "[390]\tvalid_0's rmse: 623.716\n",
      "[400]\tvalid_0's rmse: 613.665\n",
      "[410]\tvalid_0's rmse: 607.892\n",
      "[420]\tvalid_0's rmse: 602.657\n",
      "[430]\tvalid_0's rmse: 598.61\n",
      "[440]\tvalid_0's rmse: 592.824\n",
      "[450]\tvalid_0's rmse: 585.677\n",
      "[460]\tvalid_0's rmse: 581.339\n",
      "[470]\tvalid_0's rmse: 577.459\n",
      "[480]\tvalid_0's rmse: 572.967\n",
      "[490]\tvalid_0's rmse: 568.675\n",
      "[500]\tvalid_0's rmse: 566.195\n",
      "[510]\tvalid_0's rmse: 562.16\n",
      "[520]\tvalid_0's rmse: 559.117\n",
      "[530]\tvalid_0's rmse: 556.109\n",
      "[540]\tvalid_0's rmse: 552.945\n",
      "[550]\tvalid_0's rmse: 549.283\n",
      "[560]\tvalid_0's rmse: 546.182\n",
      "[570]\tvalid_0's rmse: 542.45\n",
      "[580]\tvalid_0's rmse: 540.608\n",
      "[590]\tvalid_0's rmse: 538.078\n",
      "[600]\tvalid_0's rmse: 536.125\n",
      "[610]\tvalid_0's rmse: 534.38\n",
      "[620]\tvalid_0's rmse: 531.711\n",
      "[630]\tvalid_0's rmse: 529.867\n",
      "[640]\tvalid_0's rmse: 528.001\n",
      "[650]\tvalid_0's rmse: 525.741\n",
      "[660]\tvalid_0's rmse: 523.959\n",
      "[670]\tvalid_0's rmse: 521.76\n",
      "[680]\tvalid_0's rmse: 520.322\n",
      "[690]\tvalid_0's rmse: 518.284\n",
      "[700]\tvalid_0's rmse: 517.473\n",
      "[710]\tvalid_0's rmse: 515.949\n",
      "[720]\tvalid_0's rmse: 514.589\n",
      "[730]\tvalid_0's rmse: 513.591\n",
      "[740]\tvalid_0's rmse: 513.054\n",
      "[750]\tvalid_0's rmse: 511.663\n",
      "[760]\tvalid_0's rmse: 510.374\n",
      "[770]\tvalid_0's rmse: 509.102\n",
      "[780]\tvalid_0's rmse: 508.513\n",
      "[790]\tvalid_0's rmse: 507.409\n",
      "[800]\tvalid_0's rmse: 506.508\n",
      "[810]\tvalid_0's rmse: 505.474\n",
      "[820]\tvalid_0's rmse: 504.573\n",
      "[830]\tvalid_0's rmse: 503.903\n",
      "[840]\tvalid_0's rmse: 502.904\n",
      "[850]\tvalid_0's rmse: 501.828\n",
      "[860]\tvalid_0's rmse: 501.151\n",
      "[870]\tvalid_0's rmse: 500.721\n",
      "[880]\tvalid_0's rmse: 499.655\n",
      "[890]\tvalid_0's rmse: 498.683\n",
      "[900]\tvalid_0's rmse: 498.282\n",
      "[910]\tvalid_0's rmse: 497.418\n",
      "[920]\tvalid_0's rmse: 496.686\n",
      "[930]\tvalid_0's rmse: 496.288\n",
      "[940]\tvalid_0's rmse: 495.471\n",
      "[950]\tvalid_0's rmse: 495.073\n",
      "[960]\tvalid_0's rmse: 494.669\n",
      "[970]\tvalid_0's rmse: 494.231\n",
      "[980]\tvalid_0's rmse: 493.84\n",
      "[990]\tvalid_0's rmse: 493.439\n",
      "[1000]\tvalid_0's rmse: 492.959\n",
      "[1010]\tvalid_0's rmse: 492.43\n",
      "[1020]\tvalid_0's rmse: 492.007\n",
      "[1030]\tvalid_0's rmse: 491.58\n",
      "[1040]\tvalid_0's rmse: 491.021\n",
      "[1050]\tvalid_0's rmse: 490.798\n",
      "[1060]\tvalid_0's rmse: 490.441\n",
      "[1070]\tvalid_0's rmse: 490.084\n",
      "[1080]\tvalid_0's rmse: 489.447\n",
      "[1090]\tvalid_0's rmse: 489.047\n",
      "[1100]\tvalid_0's rmse: 488.601\n",
      "[1110]\tvalid_0's rmse: 488.25\n",
      "[1120]\tvalid_0's rmse: 487.902\n",
      "[1130]\tvalid_0's rmse: 487.618\n",
      "[1140]\tvalid_0's rmse: 487.365\n",
      "[1150]\tvalid_0's rmse: 487.11\n",
      "[1160]\tvalid_0's rmse: 486.837\n",
      "[1170]\tvalid_0's rmse: 486.359\n",
      "[1180]\tvalid_0's rmse: 486.031\n",
      "[1190]\tvalid_0's rmse: 485.796\n",
      "[1200]\tvalid_0's rmse: 485.317\n",
      "[1210]\tvalid_0's rmse: 485.095\n",
      "[1220]\tvalid_0's rmse: 484.736\n",
      "[1230]\tvalid_0's rmse: 484.434\n",
      "[1240]\tvalid_0's rmse: 484.127\n",
      "[1250]\tvalid_0's rmse: 484.16\n",
      "[1260]\tvalid_0's rmse: 483.785\n",
      "[1270]\tvalid_0's rmse: 483.429\n",
      "[1280]\tvalid_0's rmse: 483.19\n",
      "[1290]\tvalid_0's rmse: 482.864\n",
      "[1300]\tvalid_0's rmse: 482.749\n",
      "[1310]\tvalid_0's rmse: 482.517\n",
      "[1320]\tvalid_0's rmse: 482.305\n",
      "[1330]\tvalid_0's rmse: 482.007\n",
      "[1340]\tvalid_0's rmse: 481.857\n",
      "[1350]\tvalid_0's rmse: 481.57\n",
      "[1360]\tvalid_0's rmse: 481.25\n",
      "[1370]\tvalid_0's rmse: 481.053\n",
      "[1380]\tvalid_0's rmse: 481.054\n",
      "[1390]\tvalid_0's rmse: 480.862\n",
      "[1400]\tvalid_0's rmse: 480.659\n",
      "[1410]\tvalid_0's rmse: 480.417\n",
      "[1420]\tvalid_0's rmse: 480.416\n",
      "[1430]\tvalid_0's rmse: 480.178\n",
      "[1440]\tvalid_0's rmse: 479.93\n",
      "[1450]\tvalid_0's rmse: 479.746\n",
      "[1460]\tvalid_0's rmse: 479.59\n",
      "[1470]\tvalid_0's rmse: 479.405\n",
      "[1480]\tvalid_0's rmse: 479.249\n",
      "[1490]\tvalid_0's rmse: 479.087\n",
      "[1500]\tvalid_0's rmse: 478.857\n",
      "[1510]\tvalid_0's rmse: 478.758\n",
      "[1520]\tvalid_0's rmse: 478.569\n",
      "[1530]\tvalid_0's rmse: 478.422\n",
      "[1540]\tvalid_0's rmse: 478.114\n",
      "[1550]\tvalid_0's rmse: 478.019\n",
      "[1560]\tvalid_0's rmse: 477.905\n",
      "[1570]\tvalid_0's rmse: 477.747\n",
      "[1580]\tvalid_0's rmse: 477.586\n",
      "[1590]\tvalid_0's rmse: 477.492\n",
      "[1600]\tvalid_0's rmse: 477.318\n",
      "[1610]\tvalid_0's rmse: 477.15\n",
      "[1620]\tvalid_0's rmse: 477.086\n",
      "[1630]\tvalid_0's rmse: 476.954\n",
      "[1640]\tvalid_0's rmse: 476.822\n",
      "[1650]\tvalid_0's rmse: 476.73\n",
      "[1660]\tvalid_0's rmse: 476.615\n",
      "[1670]\tvalid_0's rmse: 476.581\n",
      "[1680]\tvalid_0's rmse: 476.517\n",
      "[1690]\tvalid_0's rmse: 476.467\n",
      "[1700]\tvalid_0's rmse: 476.352\n",
      "[1710]\tvalid_0's rmse: 476.212\n",
      "[1720]\tvalid_0's rmse: 476.027\n",
      "[1730]\tvalid_0's rmse: 475.958\n",
      "[1740]\tvalid_0's rmse: 475.881\n",
      "[1750]\tvalid_0's rmse: 475.73\n",
      "[1760]\tvalid_0's rmse: 475.706\n",
      "[1770]\tvalid_0's rmse: 475.567\n",
      "[1780]\tvalid_0's rmse: 475.529\n",
      "[1790]\tvalid_0's rmse: 475.476\n",
      "[1800]\tvalid_0's rmse: 475.377\n",
      "[1810]\tvalid_0's rmse: 475.263\n",
      "[1820]\tvalid_0's rmse: 475.286\n",
      "Early stopping, best iteration is:\n",
      "[1816]\tvalid_0's rmse: 475.219\n",
      "CPU times: user 1min 9s, sys: 843 ms, total: 1min 10s\n",
      "Wall time: 1min 14s\n"
     ]
    }
   ],
   "source": [
    "%%time\n",
    "model_lg = lgbm.train(params_lg, train_lg, valid_sets=validation_lg, num_boost_round=9999, early_stopping_rounds=10, verbose_eval=10)"
   ]
  },
  {
   "cell_type": "markdown",
   "metadata": {},
   "source": [
    "### catboost"
   ]
  },
  {
   "cell_type": "code",
   "execution_count": 33,
   "metadata": {},
   "outputs": [],
   "source": [
    "train_cb = cb.Pool(train_x, train_y)\n",
    "params_cb = {'eval_metric': 'RMSE',\n",
    "            'od_type': 'Iter',\n",
    "             'iterations': 9999,\n",
    "            'od_wait': 10,\n",
    "            'use_best_model': True,\n",
    "            'verbose': True,\n",
    "            'metric_period': 10}\n",
    "validation_cb = cb.Pool(test_x, test_y)"
   ]
  },
  {
   "cell_type": "code",
   "execution_count": 35,
   "metadata": {},
   "outputs": [
    {
     "name": "stdout",
     "output_type": "stream",
     "text": [
      "0:\tlearn: 6808.5689370\ttest: 6825.4965985\tbest: 6825.4965985 (0)\ttotal: 171ms\tremaining: 28m 30s\n",
      "10:\tlearn: 5124.2334305\ttest: 5174.5227115\tbest: 5174.5227115 (10)\ttotal: 1.54s\tremaining: 23m 23s\n",
      "20:\tlearn: 3900.9914280\ttest: 3973.3945981\tbest: 3973.3945981 (20)\ttotal: 2.86s\tremaining: 22m 37s\n",
      "30:\tlearn: 3020.9756988\ttest: 3108.4337596\tbest: 3108.4337596 (30)\ttotal: 4.22s\tremaining: 22m 36s\n",
      "40:\tlearn: 2396.1067380\ttest: 2493.1494135\tbest: 2493.1494135 (40)\ttotal: 6.34s\tremaining: 25m 39s\n",
      "50:\tlearn: 1954.7600308\ttest: 2054.7789450\tbest: 2054.7789450 (50)\ttotal: 8.34s\tremaining: 27m 6s\n",
      "60:\tlearn: 1653.1360472\ttest: 1749.7227026\tbest: 1749.7227026 (60)\ttotal: 9.84s\tremaining: 26m 43s\n",
      "70:\tlearn: 1449.4264552\ttest: 1539.7236115\tbest: 1539.7236115 (70)\ttotal: 11.3s\tremaining: 26m 17s\n",
      "80:\tlearn: 1314.5819511\ttest: 1395.6599879\tbest: 1395.6599879 (80)\ttotal: 12.6s\tremaining: 25m 45s\n",
      "90:\tlearn: 1223.4455743\ttest: 1296.1249770\tbest: 1296.1249770 (90)\ttotal: 14.2s\tremaining: 25m 40s\n",
      "100:\tlearn: 1159.7007263\ttest: 1224.5625019\tbest: 1224.5625019 (100)\ttotal: 15.7s\tremaining: 25m 37s\n",
      "110:\tlearn: 1117.6286519\ttest: 1174.9089743\tbest: 1174.9089743 (110)\ttotal: 17.1s\tremaining: 25m 27s\n",
      "120:\tlearn: 1085.5744755\ttest: 1136.6222236\tbest: 1136.6222236 (120)\ttotal: 18.5s\tremaining: 25m 8s\n",
      "130:\tlearn: 1062.2467967\ttest: 1109.0764452\tbest: 1109.0764452 (130)\ttotal: 20s\tremaining: 25m 10s\n",
      "140:\tlearn: 1043.8770492\ttest: 1087.5166619\tbest: 1087.5166619 (140)\ttotal: 21.4s\tremaining: 24m 53s\n",
      "150:\tlearn: 1027.8987322\ttest: 1069.7181136\tbest: 1069.7181136 (150)\ttotal: 23.4s\tremaining: 25m 25s\n",
      "160:\tlearn: 1014.7367880\ttest: 1054.5066371\tbest: 1054.5066371 (160)\ttotal: 25.6s\tremaining: 26m 3s\n",
      "170:\tlearn: 1002.5664634\ttest: 1040.9259963\tbest: 1040.9259963 (170)\ttotal: 27.3s\tremaining: 26m 9s\n",
      "180:\tlearn: 992.3431961\ttest: 1029.8670039\tbest: 1029.8670039 (180)\ttotal: 28.9s\tremaining: 26m 6s\n",
      "190:\tlearn: 982.4715691\ttest: 1019.7397892\tbest: 1019.7397892 (190)\ttotal: 30.5s\tremaining: 26m 8s\n",
      "200:\tlearn: 974.6427850\ttest: 1011.6964641\tbest: 1011.6964641 (200)\ttotal: 31.9s\tremaining: 25m 55s\n",
      "210:\tlearn: 967.1192017\ttest: 1003.6306204\tbest: 1003.6306204 (210)\ttotal: 33.7s\tremaining: 26m 1s\n",
      "220:\tlearn: 960.0736353\ttest: 995.9943674\tbest: 995.9943674 (220)\ttotal: 35.2s\tremaining: 25m 59s\n",
      "230:\tlearn: 954.0114507\ttest: 989.6802087\tbest: 989.6802087 (230)\ttotal: 36.6s\tremaining: 25m 45s\n",
      "240:\tlearn: 947.7414835\ttest: 983.3019478\tbest: 983.3019478 (240)\ttotal: 37.9s\tremaining: 25m 33s\n",
      "250:\tlearn: 941.4501238\ttest: 976.5560743\tbest: 976.5560743 (250)\ttotal: 39.2s\tremaining: 25m 22s\n",
      "260:\tlearn: 935.4123236\ttest: 969.9258332\tbest: 969.9258332 (260)\ttotal: 40.5s\tremaining: 25m 12s\n",
      "270:\tlearn: 929.4592884\ttest: 963.8395132\tbest: 963.8395132 (270)\ttotal: 41.9s\tremaining: 25m 2s\n",
      "280:\tlearn: 924.6778498\ttest: 958.7260235\tbest: 958.7260235 (280)\ttotal: 43.2s\tremaining: 24m 53s\n",
      "290:\tlearn: 919.3756895\ttest: 953.3117056\tbest: 953.3117056 (290)\ttotal: 44.6s\tremaining: 24m 46s\n",
      "300:\tlearn: 914.6802856\ttest: 948.0957838\tbest: 948.0957838 (300)\ttotal: 45.9s\tremaining: 24m 38s\n",
      "310:\tlearn: 910.3934069\ttest: 944.2036678\tbest: 944.2036678 (310)\ttotal: 47.2s\tremaining: 24m 30s\n",
      "320:\tlearn: 906.0486162\ttest: 939.4909944\tbest: 939.4909944 (320)\ttotal: 48.5s\tremaining: 24m 23s\n",
      "330:\tlearn: 901.6703295\ttest: 935.1802120\tbest: 935.1802120 (330)\ttotal: 49.9s\tremaining: 24m 16s\n",
      "340:\tlearn: 897.4486962\ttest: 930.6772158\tbest: 930.6772158 (340)\ttotal: 51.2s\tremaining: 24m 9s\n",
      "350:\tlearn: 893.0703028\ttest: 926.4767636\tbest: 926.4767636 (350)\ttotal: 52.5s\tremaining: 24m 3s\n",
      "360:\tlearn: 887.9629861\ttest: 921.6758938\tbest: 921.6758938 (360)\ttotal: 53.8s\tremaining: 23m 57s\n",
      "370:\tlearn: 884.0793649\ttest: 917.9178545\tbest: 917.9178545 (370)\ttotal: 55.2s\tremaining: 23m 51s\n",
      "380:\tlearn: 879.5636367\ttest: 913.6265372\tbest: 913.6265372 (380)\ttotal: 56.5s\tremaining: 23m 45s\n",
      "390:\tlearn: 875.5934322\ttest: 909.3560170\tbest: 909.3560170 (390)\ttotal: 57.8s\tremaining: 23m 39s\n",
      "400:\tlearn: 871.6066243\ttest: 905.3501754\tbest: 905.3501754 (400)\ttotal: 59.1s\tremaining: 23m 33s\n",
      "410:\tlearn: 867.4184263\ttest: 901.2666687\tbest: 901.2666687 (410)\ttotal: 1m\tremaining: 23m 29s\n",
      "420:\tlearn: 863.7184419\ttest: 897.4409555\tbest: 897.4409555 (420)\ttotal: 1m 1s\tremaining: 23m 24s\n",
      "430:\tlearn: 860.0149045\ttest: 893.8272878\tbest: 893.8272878 (430)\ttotal: 1m 3s\tremaining: 23m 19s\n",
      "440:\tlearn: 856.5254659\ttest: 889.9312916\tbest: 889.9312916 (440)\ttotal: 1m 4s\tremaining: 23m 14s\n",
      "450:\tlearn: 852.8503446\ttest: 885.8017635\tbest: 885.8017635 (450)\ttotal: 1m 5s\tremaining: 23m 12s\n",
      "460:\tlearn: 848.7808128\ttest: 881.9188394\tbest: 881.9188394 (460)\ttotal: 1m 7s\tremaining: 23m 8s\n",
      "470:\tlearn: 845.3902795\ttest: 878.7019723\tbest: 878.7019723 (470)\ttotal: 1m 8s\tremaining: 23m 5s\n",
      "480:\tlearn: 841.8539763\ttest: 875.1596768\tbest: 875.1596768 (480)\ttotal: 1m 9s\tremaining: 23m 1s\n",
      "490:\tlearn: 838.9928331\ttest: 872.5763235\tbest: 872.5763235 (490)\ttotal: 1m 11s\tremaining: 22m 57s\n",
      "500:\tlearn: 835.8820478\ttest: 869.6722702\tbest: 869.6722702 (500)\ttotal: 1m 12s\tremaining: 22m 52s\n",
      "510:\tlearn: 832.5563039\ttest: 866.3389059\tbest: 866.3389059 (510)\ttotal: 1m 13s\tremaining: 22m 48s\n",
      "520:\tlearn: 829.2615594\ttest: 862.6494863\tbest: 862.6494863 (520)\ttotal: 1m 15s\tremaining: 22m 45s\n",
      "530:\tlearn: 826.0237975\ttest: 859.1998030\tbest: 859.1998030 (530)\ttotal: 1m 16s\tremaining: 22m 42s\n",
      "540:\tlearn: 822.9350980\ttest: 856.1980840\tbest: 856.1980840 (540)\ttotal: 1m 17s\tremaining: 22m 38s\n",
      "550:\tlearn: 820.0609368\ttest: 853.1853223\tbest: 853.1853223 (550)\ttotal: 1m 19s\tremaining: 22m 35s\n",
      "560:\tlearn: 817.2923368\ttest: 850.4952304\tbest: 850.4952304 (560)\ttotal: 1m 20s\tremaining: 22m 31s\n",
      "570:\tlearn: 814.2314220\ttest: 847.4377383\tbest: 847.4377383 (570)\ttotal: 1m 21s\tremaining: 22m 28s\n",
      "580:\tlearn: 811.1222748\ttest: 844.1109407\tbest: 844.1109407 (580)\ttotal: 1m 22s\tremaining: 22m 25s\n",
      "590:\tlearn: 807.7728302\ttest: 840.6146048\tbest: 840.6146048 (590)\ttotal: 1m 24s\tremaining: 22m 21s\n",
      "600:\tlearn: 805.6502388\ttest: 838.8443327\tbest: 838.8443327 (600)\ttotal: 1m 25s\tremaining: 22m 18s\n",
      "610:\tlearn: 803.0916147\ttest: 836.2755004\tbest: 836.2755004 (610)\ttotal: 1m 26s\tremaining: 22m 15s\n",
      "620:\tlearn: 800.7131656\ttest: 834.0544900\tbest: 834.0544900 (620)\ttotal: 1m 28s\tremaining: 22m 12s\n",
      "630:\tlearn: 798.1753126\ttest: 831.7920727\tbest: 831.7920727 (630)\ttotal: 1m 29s\tremaining: 22m 9s\n",
      "640:\tlearn: 795.6032382\ttest: 829.1101616\tbest: 829.1101616 (640)\ttotal: 1m 30s\tremaining: 22m 6s\n",
      "650:\tlearn: 792.9572084\ttest: 826.4717379\tbest: 826.4717379 (650)\ttotal: 1m 32s\tremaining: 22m 4s\n",
      "660:\tlearn: 789.9978111\ttest: 823.6142923\tbest: 823.6142923 (660)\ttotal: 1m 33s\tremaining: 22m 1s\n",
      "670:\tlearn: 787.6676113\ttest: 821.1770171\tbest: 821.1770171 (670)\ttotal: 1m 34s\tremaining: 21m 58s\n",
      "680:\tlearn: 784.7717094\ttest: 818.1207903\tbest: 818.1207903 (680)\ttotal: 1m 36s\tremaining: 21m 55s\n",
      "690:\tlearn: 782.2663612\ttest: 815.7469626\tbest: 815.7469626 (690)\ttotal: 1m 37s\tremaining: 21m 52s\n",
      "700:\tlearn: 779.6206605\ttest: 812.9918296\tbest: 812.9918296 (700)\ttotal: 1m 38s\tremaining: 21m 49s\n",
      "710:\tlearn: 777.2159171\ttest: 810.5992050\tbest: 810.5992050 (710)\ttotal: 1m 40s\tremaining: 21m 47s\n",
      "720:\tlearn: 774.3352700\ttest: 807.6579935\tbest: 807.6579935 (720)\ttotal: 1m 41s\tremaining: 21m 44s\n",
      "730:\tlearn: 772.2311051\ttest: 806.0772981\tbest: 806.0772981 (730)\ttotal: 1m 42s\tremaining: 21m 41s\n",
      "740:\tlearn: 769.8600630\ttest: 803.4798233\tbest: 803.4798233 (740)\ttotal: 1m 43s\tremaining: 21m 39s\n",
      "750:\tlearn: 767.5508808\ttest: 801.2633998\tbest: 801.2633998 (750)\ttotal: 1m 45s\tremaining: 21m 37s\n",
      "760:\tlearn: 765.1638614\ttest: 798.8282739\tbest: 798.8282739 (760)\ttotal: 1m 46s\tremaining: 21m 34s\n",
      "770:\tlearn: 763.1982014\ttest: 797.0639720\tbest: 797.0639720 (770)\ttotal: 1m 47s\tremaining: 21m 32s\n",
      "780:\tlearn: 760.7774236\ttest: 794.7026026\tbest: 794.7026026 (780)\ttotal: 1m 49s\tremaining: 21m 30s\n",
      "790:\tlearn: 758.4131479\ttest: 792.3890458\tbest: 792.3890458 (790)\ttotal: 1m 50s\tremaining: 21m 27s\n",
      "800:\tlearn: 756.2680569\ttest: 790.4349986\tbest: 790.4349986 (800)\ttotal: 1m 51s\tremaining: 21m 25s\n",
      "810:\tlearn: 754.4741302\ttest: 788.5497773\tbest: 788.5497773 (810)\ttotal: 1m 53s\tremaining: 21m 23s\n",
      "820:\tlearn: 752.1194234\ttest: 786.1050060\tbest: 786.1050060 (820)\ttotal: 1m 54s\tremaining: 21m 20s\n",
      "830:\tlearn: 749.5715368\ttest: 783.6121873\tbest: 783.6121873 (830)\ttotal: 1m 55s\tremaining: 21m 18s\n"
     ]
    },
    {
     "name": "stdout",
     "output_type": "stream",
     "text": [
      "840:\tlearn: 747.0514349\ttest: 781.2266553\tbest: 781.2266553 (840)\ttotal: 1m 57s\tremaining: 21m 15s\n",
      "850:\tlearn: 745.0495937\ttest: 779.1704437\tbest: 779.1704437 (850)\ttotal: 1m 58s\tremaining: 21m 13s\n",
      "860:\tlearn: 742.7602236\ttest: 776.9232446\tbest: 776.9232446 (860)\ttotal: 1m 59s\tremaining: 21m 11s\n",
      "870:\tlearn: 740.5004813\ttest: 774.7673216\tbest: 774.7673216 (870)\ttotal: 2m 1s\tremaining: 21m 9s\n",
      "880:\tlearn: 738.1533387\ttest: 772.5196296\tbest: 772.5196296 (880)\ttotal: 2m 2s\tremaining: 21m 6s\n",
      "890:\tlearn: 736.0227063\ttest: 770.3733704\tbest: 770.3733704 (890)\ttotal: 2m 3s\tremaining: 21m 4s\n",
      "900:\tlearn: 733.8174695\ttest: 768.3759670\tbest: 768.3759670 (900)\ttotal: 2m 5s\tremaining: 21m 2s\n",
      "910:\tlearn: 731.3765413\ttest: 766.0285132\tbest: 766.0285132 (910)\ttotal: 2m 6s\tremaining: 21m\n",
      "920:\tlearn: 729.6430777\ttest: 764.3623789\tbest: 764.3623789 (920)\ttotal: 2m 7s\tremaining: 20m 58s\n",
      "930:\tlearn: 727.7488258\ttest: 762.6307045\tbest: 762.6307045 (930)\ttotal: 2m 8s\tremaining: 20m 56s\n",
      "940:\tlearn: 725.7466643\ttest: 760.5924188\tbest: 760.5924188 (940)\ttotal: 2m 10s\tremaining: 20m 54s\n",
      "950:\tlearn: 724.1677504\ttest: 759.1166145\tbest: 759.1166145 (950)\ttotal: 2m 11s\tremaining: 20m 51s\n",
      "960:\tlearn: 722.4191223\ttest: 757.5624069\tbest: 757.5396911 (959)\ttotal: 2m 12s\tremaining: 20m 49s\n",
      "970:\tlearn: 720.2986228\ttest: 755.4004424\tbest: 755.4004424 (970)\ttotal: 2m 14s\tremaining: 20m 47s\n",
      "980:\tlearn: 718.4826358\ttest: 753.6896273\tbest: 753.6896273 (980)\ttotal: 2m 15s\tremaining: 20m 45s\n",
      "990:\tlearn: 716.7427951\ttest: 752.0467640\tbest: 752.0467640 (990)\ttotal: 2m 16s\tremaining: 20m 43s\n",
      "1000:\tlearn: 714.8542126\ttest: 750.1256909\tbest: 750.1256909 (1000)\ttotal: 2m 18s\tremaining: 20m 41s\n",
      "1010:\tlearn: 713.1034057\ttest: 748.2888984\tbest: 748.2888984 (1010)\ttotal: 2m 19s\tremaining: 20m 39s\n",
      "1020:\tlearn: 711.4614431\ttest: 746.6702551\tbest: 746.6702551 (1020)\ttotal: 2m 20s\tremaining: 20m 37s\n",
      "1030:\tlearn: 709.5425358\ttest: 744.7391567\tbest: 744.7391567 (1030)\ttotal: 2m 22s\tremaining: 20m 35s\n",
      "1040:\tlearn: 707.7085891\ttest: 742.8699401\tbest: 742.8699401 (1040)\ttotal: 2m 23s\tremaining: 20m 33s\n",
      "1050:\tlearn: 705.5149036\ttest: 740.5530261\tbest: 740.5530261 (1050)\ttotal: 2m 24s\tremaining: 20m 31s\n",
      "1060:\tlearn: 703.5273637\ttest: 738.4866866\tbest: 738.4866866 (1060)\ttotal: 2m 25s\tremaining: 20m 29s\n",
      "1070:\tlearn: 701.9222863\ttest: 736.9579384\tbest: 736.9579384 (1070)\ttotal: 2m 27s\tremaining: 20m 27s\n",
      "1080:\tlearn: 700.2762449\ttest: 735.3060244\tbest: 735.3060244 (1080)\ttotal: 2m 28s\tremaining: 20m 25s\n",
      "1090:\tlearn: 698.8363639\ttest: 733.9097006\tbest: 733.9097006 (1090)\ttotal: 2m 29s\tremaining: 20m 23s\n",
      "1100:\tlearn: 696.8731258\ttest: 732.0303837\tbest: 732.0303837 (1100)\ttotal: 2m 31s\tremaining: 20m 22s\n",
      "1110:\tlearn: 695.5755003\ttest: 730.8975742\tbest: 730.8975742 (1110)\ttotal: 2m 32s\tremaining: 20m 20s\n",
      "1120:\tlearn: 694.1849964\ttest: 729.5935259\tbest: 729.5935259 (1120)\ttotal: 2m 33s\tremaining: 20m 18s\n",
      "1130:\tlearn: 692.5795978\ttest: 728.0918417\tbest: 728.0918417 (1130)\ttotal: 2m 35s\tremaining: 20m 16s\n",
      "1140:\tlearn: 690.9123813\ttest: 726.3503395\tbest: 726.3503395 (1140)\ttotal: 2m 36s\tremaining: 20m 14s\n",
      "1150:\tlearn: 689.2464981\ttest: 724.8187776\tbest: 724.8187776 (1150)\ttotal: 2m 37s\tremaining: 20m 12s\n",
      "1160:\tlearn: 687.6265939\ttest: 723.1631717\tbest: 723.1631717 (1160)\ttotal: 2m 38s\tremaining: 20m 10s\n",
      "1170:\tlearn: 686.0445009\ttest: 721.6100477\tbest: 721.6100477 (1170)\ttotal: 2m 40s\tremaining: 20m 8s\n",
      "1180:\tlearn: 684.3712843\ttest: 719.9003880\tbest: 719.9003880 (1180)\ttotal: 2m 41s\tremaining: 20m 6s\n",
      "1190:\tlearn: 682.9381535\ttest: 718.3944255\tbest: 718.3944255 (1190)\ttotal: 2m 42s\tremaining: 20m 4s\n",
      "1200:\tlearn: 681.5407836\ttest: 717.0010221\tbest: 717.0010221 (1200)\ttotal: 2m 44s\tremaining: 20m 3s\n",
      "1210:\tlearn: 679.9593342\ttest: 715.2877819\tbest: 715.2877819 (1210)\ttotal: 2m 45s\tremaining: 20m 1s\n",
      "1220:\tlearn: 678.5772709\ttest: 713.9268871\tbest: 713.9268871 (1220)\ttotal: 2m 46s\tremaining: 19m 59s\n",
      "1230:\tlearn: 676.9223189\ttest: 712.2053204\tbest: 712.2053204 (1230)\ttotal: 2m 48s\tremaining: 19m 57s\n",
      "1240:\tlearn: 675.5412630\ttest: 710.9620741\tbest: 710.9620741 (1240)\ttotal: 2m 49s\tremaining: 19m 56s\n",
      "1250:\tlearn: 674.0554982\ttest: 709.5547351\tbest: 709.5547351 (1250)\ttotal: 2m 50s\tremaining: 19m 54s\n",
      "1260:\tlearn: 672.8541192\ttest: 708.5188416\tbest: 708.5188416 (1260)\ttotal: 2m 52s\tremaining: 19m 52s\n",
      "1270:\tlearn: 671.6446826\ttest: 707.4334749\tbest: 707.4334749 (1270)\ttotal: 2m 53s\tremaining: 19m 50s\n",
      "1280:\tlearn: 670.3146051\ttest: 706.0417342\tbest: 706.0417342 (1280)\ttotal: 2m 54s\tremaining: 19m 48s\n",
      "1290:\tlearn: 668.8677344\ttest: 704.6602095\tbest: 704.6602095 (1290)\ttotal: 2m 55s\tremaining: 19m 46s\n",
      "1300:\tlearn: 667.6096433\ttest: 703.3442167\tbest: 703.3442167 (1300)\ttotal: 2m 57s\tremaining: 19m 45s\n",
      "1310:\tlearn: 666.1305807\ttest: 701.9811920\tbest: 701.9811920 (1310)\ttotal: 2m 58s\tremaining: 19m 43s\n",
      "1320:\tlearn: 664.8182047\ttest: 700.7804712\tbest: 700.7804712 (1320)\ttotal: 2m 59s\tremaining: 19m 41s\n",
      "1330:\tlearn: 663.3882110\ttest: 699.1502874\tbest: 699.1502874 (1330)\ttotal: 3m 1s\tremaining: 19m 39s\n",
      "1340:\tlearn: 662.2176987\ttest: 698.0439598\tbest: 698.0439598 (1340)\ttotal: 3m 2s\tremaining: 19m 38s\n",
      "1350:\tlearn: 660.7903220\ttest: 696.6878947\tbest: 696.6878947 (1350)\ttotal: 3m 3s\tremaining: 19m 36s\n",
      "1360:\tlearn: 659.5356421\ttest: 695.5319397\tbest: 695.5319397 (1360)\ttotal: 3m 5s\tremaining: 19m 34s\n",
      "1370:\tlearn: 658.1621491\ttest: 694.0971299\tbest: 694.0971299 (1370)\ttotal: 3m 6s\tremaining: 19m 33s\n",
      "1380:\tlearn: 656.6671342\ttest: 692.4972123\tbest: 692.4972123 (1380)\ttotal: 3m 7s\tremaining: 19m 32s\n",
      "1390:\tlearn: 655.4794103\ttest: 691.4151590\tbest: 691.4151590 (1390)\ttotal: 3m 9s\tremaining: 19m 32s\n",
      "1400:\tlearn: 654.0044479\ttest: 689.9367454\tbest: 689.9367454 (1400)\ttotal: 3m 11s\tremaining: 19m 33s\n",
      "1410:\tlearn: 652.6348939\ttest: 688.6375772\tbest: 688.6375772 (1410)\ttotal: 3m 13s\tremaining: 19m 35s\n",
      "1420:\tlearn: 651.2845379\ttest: 687.2510396\tbest: 687.2510396 (1420)\ttotal: 3m 14s\tremaining: 19m 35s\n",
      "1430:\tlearn: 650.2627697\ttest: 686.3590971\tbest: 686.3590971 (1430)\ttotal: 3m 16s\tremaining: 19m 33s\n",
      "1440:\tlearn: 649.2989644\ttest: 685.4010403\tbest: 685.3666498 (1439)\ttotal: 3m 17s\tremaining: 19m 32s\n",
      "1450:\tlearn: 648.3699138\ttest: 684.6335070\tbest: 684.6333313 (1449)\ttotal: 3m 19s\tremaining: 19m 32s\n",
      "1460:\tlearn: 647.0766805\ttest: 683.4341522\tbest: 683.4341522 (1460)\ttotal: 3m 20s\tremaining: 19m 32s\n",
      "1470:\tlearn: 645.8881243\ttest: 682.2350048\tbest: 682.2350048 (1470)\ttotal: 3m 21s\tremaining: 19m 30s\n",
      "1480:\tlearn: 644.5351624\ttest: 680.8762404\tbest: 680.8762404 (1480)\ttotal: 3m 23s\tremaining: 19m 29s\n",
      "1490:\tlearn: 643.4967065\ttest: 679.8720554\tbest: 679.8720554 (1490)\ttotal: 3m 24s\tremaining: 19m 27s\n",
      "1500:\tlearn: 642.3237615\ttest: 678.7753871\tbest: 678.7753871 (1500)\ttotal: 3m 25s\tremaining: 19m 25s\n",
      "1510:\tlearn: 641.3563154\ttest: 677.8366161\tbest: 677.8366161 (1510)\ttotal: 3m 27s\tremaining: 19m 24s\n",
      "1520:\tlearn: 640.3959222\ttest: 676.9026599\tbest: 676.9026599 (1520)\ttotal: 3m 28s\tremaining: 19m 22s\n",
      "1530:\tlearn: 639.1535970\ttest: 675.6370561\tbest: 675.6370561 (1530)\ttotal: 3m 30s\tremaining: 19m 22s\n",
      "1540:\tlearn: 638.0417842\ttest: 674.5748685\tbest: 674.5748685 (1540)\ttotal: 3m 31s\tremaining: 19m 21s\n",
      "1550:\tlearn: 637.2367195\ttest: 673.7975526\tbest: 673.7975526 (1550)\ttotal: 3m 32s\tremaining: 19m 19s\n",
      "1560:\tlearn: 636.1805376\ttest: 672.6842413\tbest: 672.6842413 (1560)\ttotal: 3m 34s\tremaining: 19m 17s\n",
      "1570:\tlearn: 635.4165539\ttest: 672.0168160\tbest: 672.0168160 (1570)\ttotal: 3m 35s\tremaining: 19m 16s\n",
      "1580:\tlearn: 634.4663382\ttest: 671.1501070\tbest: 671.1501070 (1580)\ttotal: 3m 36s\tremaining: 19m 14s\n",
      "1590:\tlearn: 633.5663433\ttest: 670.3088550\tbest: 670.3088550 (1590)\ttotal: 3m 38s\tremaining: 19m 13s\n",
      "1600:\tlearn: 632.6152829\ttest: 669.4095139\tbest: 669.4095139 (1600)\ttotal: 3m 39s\tremaining: 19m 11s\n",
      "1610:\tlearn: 631.5741341\ttest: 668.4271318\tbest: 668.4271318 (1610)\ttotal: 3m 40s\tremaining: 19m 9s\n",
      "1620:\tlearn: 630.4809732\ttest: 667.3862880\tbest: 667.3862880 (1620)\ttotal: 3m 42s\tremaining: 19m 8s\n",
      "1630:\tlearn: 629.3843469\ttest: 666.3513083\tbest: 666.3513083 (1630)\ttotal: 3m 43s\tremaining: 19m 6s\n",
      "1640:\tlearn: 628.3710755\ttest: 665.3614879\tbest: 665.3614879 (1640)\ttotal: 3m 44s\tremaining: 19m 5s\n",
      "1650:\tlearn: 627.4339388\ttest: 664.4889695\tbest: 664.4889695 (1650)\ttotal: 3m 46s\tremaining: 19m 3s\n"
     ]
    },
    {
     "name": "stdout",
     "output_type": "stream",
     "text": [
      "1660:\tlearn: 626.3721908\ttest: 663.4519778\tbest: 663.4519778 (1660)\ttotal: 3m 47s\tremaining: 19m 2s\n",
      "1670:\tlearn: 625.3221724\ttest: 662.4582136\tbest: 662.4582136 (1670)\ttotal: 3m 48s\tremaining: 19m\n",
      "1680:\tlearn: 624.3475536\ttest: 661.4701340\tbest: 661.4701340 (1680)\ttotal: 3m 50s\tremaining: 18m 59s\n",
      "1690:\tlearn: 623.4834435\ttest: 660.6341630\tbest: 660.6341630 (1690)\ttotal: 3m 51s\tremaining: 18m 57s\n",
      "1700:\tlearn: 622.3849876\ttest: 659.6037808\tbest: 659.6037808 (1700)\ttotal: 3m 52s\tremaining: 18m 55s\n",
      "1710:\tlearn: 621.4149818\ttest: 658.5499723\tbest: 658.5499723 (1710)\ttotal: 3m 54s\tremaining: 18m 54s\n",
      "1720:\tlearn: 620.7049178\ttest: 657.9651616\tbest: 657.9651616 (1720)\ttotal: 3m 55s\tremaining: 18m 52s\n",
      "1730:\tlearn: 619.6190881\ttest: 656.8495542\tbest: 656.8495542 (1730)\ttotal: 3m 56s\tremaining: 18m 50s\n",
      "1740:\tlearn: 618.7917295\ttest: 655.9342365\tbest: 655.9342365 (1740)\ttotal: 3m 58s\tremaining: 18m 49s\n",
      "1750:\tlearn: 618.0497305\ttest: 655.2685423\tbest: 655.2685423 (1750)\ttotal: 3m 59s\tremaining: 18m 47s\n",
      "1760:\tlearn: 617.1705947\ttest: 654.3773207\tbest: 654.3773207 (1760)\ttotal: 4m\tremaining: 18m 46s\n",
      "1770:\tlearn: 616.2984160\ttest: 653.5933595\tbest: 653.5933595 (1770)\ttotal: 4m 2s\tremaining: 18m 44s\n",
      "1780:\tlearn: 615.3964198\ttest: 652.7051753\tbest: 652.7051753 (1780)\ttotal: 4m 3s\tremaining: 18m 42s\n",
      "1790:\tlearn: 614.3161457\ttest: 651.6540072\tbest: 651.6540072 (1790)\ttotal: 4m 4s\tremaining: 18m 41s\n",
      "1800:\tlearn: 613.5387580\ttest: 650.9766924\tbest: 650.9766924 (1800)\ttotal: 4m 5s\tremaining: 18m 39s\n",
      "1810:\tlearn: 612.7669581\ttest: 650.2003076\tbest: 650.2003076 (1810)\ttotal: 4m 7s\tremaining: 18m 37s\n",
      "1820:\tlearn: 612.0884090\ttest: 649.6471624\tbest: 649.6471624 (1820)\ttotal: 4m 8s\tremaining: 18m 36s\n",
      "1830:\tlearn: 611.1986906\ttest: 648.8142786\tbest: 648.8142786 (1830)\ttotal: 4m 9s\tremaining: 18m 34s\n",
      "1840:\tlearn: 610.3800231\ttest: 648.0267697\tbest: 648.0267697 (1840)\ttotal: 4m 11s\tremaining: 18m 32s\n",
      "1850:\tlearn: 609.6049629\ttest: 647.1964335\tbest: 647.1964335 (1850)\ttotal: 4m 12s\tremaining: 18m 31s\n",
      "1860:\tlearn: 608.9930498\ttest: 646.7163740\tbest: 646.7163740 (1860)\ttotal: 4m 13s\tremaining: 18m 29s\n",
      "1870:\tlearn: 608.2517514\ttest: 646.0749621\tbest: 646.0749621 (1870)\ttotal: 4m 15s\tremaining: 18m 28s\n",
      "1880:\tlearn: 607.5040206\ttest: 645.3701384\tbest: 645.3701384 (1880)\ttotal: 4m 16s\tremaining: 18m 27s\n",
      "1890:\tlearn: 606.7448065\ttest: 644.6582186\tbest: 644.6582186 (1890)\ttotal: 4m 17s\tremaining: 18m 25s\n",
      "1900:\tlearn: 605.7838649\ttest: 643.9217271\tbest: 643.9217271 (1900)\ttotal: 4m 19s\tremaining: 18m 24s\n",
      "1910:\tlearn: 604.8648041\ttest: 643.0491521\tbest: 643.0491521 (1910)\ttotal: 4m 20s\tremaining: 18m 22s\n",
      "1920:\tlearn: 604.1655563\ttest: 642.3272557\tbest: 642.3272557 (1920)\ttotal: 4m 21s\tremaining: 18m 21s\n",
      "1930:\tlearn: 603.4402854\ttest: 641.6593350\tbest: 641.6593350 (1930)\ttotal: 4m 23s\tremaining: 18m 19s\n",
      "1940:\tlearn: 602.6025370\ttest: 640.9093244\tbest: 640.9093244 (1940)\ttotal: 4m 24s\tremaining: 18m 18s\n",
      "1950:\tlearn: 601.7488440\ttest: 639.9977347\tbest: 639.9977347 (1950)\ttotal: 4m 25s\tremaining: 18m 16s\n",
      "1960:\tlearn: 601.0026385\ttest: 639.2951368\tbest: 639.2951368 (1960)\ttotal: 4m 27s\tremaining: 18m 15s\n",
      "1970:\tlearn: 600.2939209\ttest: 638.6737074\tbest: 638.6737074 (1970)\ttotal: 4m 28s\tremaining: 18m 13s\n",
      "1980:\tlearn: 599.8387094\ttest: 638.2868500\tbest: 638.2868500 (1980)\ttotal: 4m 29s\tremaining: 18m 12s\n",
      "1990:\tlearn: 599.1311045\ttest: 637.6532446\tbest: 637.6532446 (1990)\ttotal: 4m 31s\tremaining: 18m 10s\n",
      "2000:\tlearn: 598.5634362\ttest: 637.1498388\tbest: 637.1498388 (2000)\ttotal: 4m 32s\tremaining: 18m 9s\n",
      "2010:\tlearn: 597.8871242\ttest: 636.4299426\tbest: 636.4299426 (2010)\ttotal: 4m 33s\tremaining: 18m 7s\n",
      "2020:\tlearn: 596.8934126\ttest: 635.3175816\tbest: 635.3175816 (2020)\ttotal: 4m 35s\tremaining: 18m 6s\n",
      "2030:\tlearn: 596.2530856\ttest: 634.6234790\tbest: 634.6234790 (2030)\ttotal: 4m 36s\tremaining: 18m 4s\n",
      "2040:\tlearn: 595.7174610\ttest: 634.1402583\tbest: 634.1402583 (2040)\ttotal: 4m 37s\tremaining: 18m 2s\n",
      "2050:\tlearn: 594.7975004\ttest: 633.3215649\tbest: 633.3215649 (2050)\ttotal: 4m 39s\tremaining: 18m 1s\n",
      "2060:\tlearn: 594.0851418\ttest: 632.6365537\tbest: 632.6365537 (2060)\ttotal: 4m 40s\tremaining: 17m 59s\n",
      "2070:\tlearn: 593.4370700\ttest: 632.1274081\tbest: 632.1274081 (2070)\ttotal: 4m 41s\tremaining: 17m 58s\n",
      "2080:\tlearn: 592.6690434\ttest: 631.3845871\tbest: 631.3845871 (2080)\ttotal: 4m 42s\tremaining: 17m 56s\n",
      "2090:\tlearn: 592.0126433\ttest: 630.7031401\tbest: 630.7031401 (2090)\ttotal: 4m 44s\tremaining: 17m 55s\n",
      "2100:\tlearn: 591.3279847\ttest: 630.0518186\tbest: 630.0518186 (2100)\ttotal: 4m 45s\tremaining: 17m 53s\n",
      "2110:\tlearn: 590.8057159\ttest: 629.5496925\tbest: 629.5496925 (2110)\ttotal: 4m 46s\tremaining: 17m 52s\n",
      "2120:\tlearn: 589.9182531\ttest: 628.6304855\tbest: 628.6304855 (2120)\ttotal: 4m 48s\tremaining: 17m 50s\n",
      "2130:\tlearn: 589.2249943\ttest: 627.9347359\tbest: 627.9347359 (2130)\ttotal: 4m 49s\tremaining: 17m 49s\n",
      "2140:\tlearn: 588.5276048\ttest: 627.2176705\tbest: 627.2176705 (2140)\ttotal: 4m 50s\tremaining: 17m 47s\n",
      "2150:\tlearn: 587.8447153\ttest: 626.5438860\tbest: 626.5438860 (2150)\ttotal: 4m 52s\tremaining: 17m 45s\n",
      "2160:\tlearn: 587.3243801\ttest: 626.1134889\tbest: 626.1134889 (2160)\ttotal: 4m 53s\tremaining: 17m 44s\n",
      "2170:\tlearn: 586.7365516\ttest: 625.6149702\tbest: 625.6149702 (2170)\ttotal: 4m 54s\tremaining: 17m 42s\n",
      "2180:\tlearn: 585.8547760\ttest: 624.7358482\tbest: 624.7358482 (2180)\ttotal: 4m 56s\tremaining: 17m 41s\n",
      "2190:\tlearn: 585.2625986\ttest: 624.1484971\tbest: 624.1484971 (2190)\ttotal: 4m 57s\tremaining: 17m 39s\n",
      "2200:\tlearn: 584.5960101\ttest: 623.5982208\tbest: 623.5982208 (2200)\ttotal: 4m 58s\tremaining: 17m 38s\n",
      "2210:\tlearn: 583.9197284\ttest: 622.9565923\tbest: 622.9565923 (2210)\ttotal: 4m 59s\tremaining: 17m 36s\n",
      "2220:\tlearn: 583.4184100\ttest: 622.5785126\tbest: 622.5785126 (2220)\ttotal: 5m 1s\tremaining: 17m 35s\n",
      "2230:\tlearn: 582.8105686\ttest: 621.9078879\tbest: 621.9078879 (2230)\ttotal: 5m 2s\tremaining: 17m 33s\n",
      "2240:\tlearn: 582.3013012\ttest: 621.4942575\tbest: 621.4942575 (2240)\ttotal: 5m 3s\tremaining: 17m 32s\n",
      "2250:\tlearn: 581.6104993\ttest: 620.8234843\tbest: 620.8234843 (2250)\ttotal: 5m 5s\tremaining: 17m 30s\n",
      "2260:\tlearn: 580.9293134\ttest: 620.2183190\tbest: 620.1586747 (2259)\ttotal: 5m 6s\tremaining: 17m 29s\n",
      "2270:\tlearn: 580.4706422\ttest: 619.7782807\tbest: 619.7562289 (2269)\ttotal: 5m 7s\tremaining: 17m 27s\n",
      "2280:\tlearn: 580.1094982\ttest: 619.5133481\tbest: 619.5133481 (2280)\ttotal: 5m 9s\tremaining: 17m 26s\n",
      "2290:\tlearn: 579.5535954\ttest: 619.0093852\tbest: 619.0093852 (2290)\ttotal: 5m 10s\tremaining: 17m 24s\n",
      "2300:\tlearn: 578.9830535\ttest: 618.5222605\tbest: 618.5222605 (2300)\ttotal: 5m 11s\tremaining: 17m 23s\n",
      "2310:\tlearn: 578.5542638\ttest: 618.1232079\tbest: 618.1232079 (2310)\ttotal: 5m 13s\tremaining: 17m 21s\n",
      "2320:\tlearn: 578.0109021\ttest: 617.6307194\tbest: 617.6307194 (2320)\ttotal: 5m 14s\tremaining: 17m 20s\n",
      "2330:\tlearn: 577.5616325\ttest: 617.2617244\tbest: 617.2530747 (2329)\ttotal: 5m 15s\tremaining: 17m 18s\n",
      "2340:\tlearn: 577.0205239\ttest: 616.7688154\tbest: 616.7688154 (2340)\ttotal: 5m 17s\tremaining: 17m 17s\n",
      "2350:\tlearn: 576.3990591\ttest: 616.2757715\tbest: 616.2757715 (2350)\ttotal: 5m 18s\tremaining: 17m 15s\n",
      "2360:\tlearn: 575.8096216\ttest: 615.6626630\tbest: 615.6626630 (2360)\ttotal: 5m 19s\tremaining: 17m 14s\n",
      "2370:\tlearn: 575.3206928\ttest: 615.2542813\tbest: 615.2542813 (2370)\ttotal: 5m 21s\tremaining: 17m 12s\n",
      "2380:\tlearn: 574.7626139\ttest: 614.7887278\tbest: 614.7887278 (2380)\ttotal: 5m 22s\tremaining: 17m 11s\n",
      "2390:\tlearn: 574.3507655\ttest: 614.4254433\tbest: 614.4254433 (2390)\ttotal: 5m 23s\tremaining: 17m 9s\n",
      "2400:\tlearn: 573.6522575\ttest: 613.7552274\tbest: 613.7552274 (2400)\ttotal: 5m 24s\tremaining: 17m 8s\n",
      "2410:\tlearn: 573.1167887\ttest: 613.3337305\tbest: 613.3337305 (2410)\ttotal: 5m 26s\tremaining: 17m 6s\n",
      "2420:\tlearn: 572.6848225\ttest: 613.0186389\tbest: 613.0186389 (2420)\ttotal: 5m 27s\tremaining: 17m 5s\n",
      "2430:\tlearn: 572.3118855\ttest: 612.6502808\tbest: 612.6502808 (2430)\ttotal: 5m 28s\tremaining: 17m 3s\n",
      "2440:\tlearn: 571.8962600\ttest: 612.2855543\tbest: 612.2703541 (2439)\ttotal: 5m 30s\tremaining: 17m 2s\n",
      "2450:\tlearn: 571.4126954\ttest: 611.8766412\tbest: 611.8766412 (2450)\ttotal: 5m 31s\tremaining: 17m\n",
      "2460:\tlearn: 571.0027467\ttest: 611.5163503\tbest: 611.5163503 (2460)\ttotal: 5m 32s\tremaining: 16m 59s\n",
      "2470:\tlearn: 570.6163953\ttest: 611.2605736\tbest: 611.2605736 (2470)\ttotal: 5m 34s\tremaining: 16m 57s\n"
     ]
    },
    {
     "name": "stdout",
     "output_type": "stream",
     "text": [
      "2480:\tlearn: 570.0863455\ttest: 610.7320685\tbest: 610.7320685 (2480)\ttotal: 5m 35s\tremaining: 16m 56s\n",
      "2490:\tlearn: 569.6219031\ttest: 610.2968213\tbest: 610.2968213 (2490)\ttotal: 5m 36s\tremaining: 16m 54s\n",
      "2500:\tlearn: 569.2565860\ttest: 609.9693176\tbest: 609.9693176 (2500)\ttotal: 5m 38s\tremaining: 16m 53s\n",
      "2510:\tlearn: 568.8745443\ttest: 609.6826241\tbest: 609.6826241 (2510)\ttotal: 5m 39s\tremaining: 16m 51s\n",
      "2520:\tlearn: 568.4778801\ttest: 609.4382844\tbest: 609.4382844 (2520)\ttotal: 5m 40s\tremaining: 16m 50s\n",
      "2530:\tlearn: 568.0230529\ttest: 609.0676271\tbest: 609.0676271 (2530)\ttotal: 5m 41s\tremaining: 16m 49s\n",
      "2540:\tlearn: 567.6371866\ttest: 608.6853816\tbest: 608.6853816 (2540)\ttotal: 5m 43s\tremaining: 16m 47s\n",
      "2550:\tlearn: 567.1725244\ttest: 608.2679871\tbest: 608.2679871 (2550)\ttotal: 5m 44s\tremaining: 16m 46s\n",
      "2560:\tlearn: 566.7631383\ttest: 607.8678522\tbest: 607.8678522 (2560)\ttotal: 5m 45s\tremaining: 16m 44s\n",
      "2570:\tlearn: 566.0706135\ttest: 607.1799417\tbest: 607.1799417 (2570)\ttotal: 5m 47s\tremaining: 16m 43s\n",
      "2580:\tlearn: 565.6207536\ttest: 606.8027431\tbest: 606.8027431 (2580)\ttotal: 5m 48s\tremaining: 16m 41s\n",
      "2590:\tlearn: 565.1749232\ttest: 606.4097209\tbest: 606.4097209 (2590)\ttotal: 5m 49s\tremaining: 16m 40s\n",
      "2600:\tlearn: 564.7180820\ttest: 605.9895560\tbest: 605.9895560 (2600)\ttotal: 5m 51s\tremaining: 16m 38s\n",
      "2610:\tlearn: 564.2032653\ttest: 605.5432952\tbest: 605.5432952 (2610)\ttotal: 5m 52s\tremaining: 16m 37s\n",
      "2620:\tlearn: 563.7042806\ttest: 605.0722573\tbest: 605.0722573 (2620)\ttotal: 5m 53s\tremaining: 16m 35s\n",
      "2630:\tlearn: 563.2577007\ttest: 604.6200136\tbest: 604.6200136 (2630)\ttotal: 5m 55s\tremaining: 16m 34s\n",
      "2640:\tlearn: 562.7949590\ttest: 604.1829337\tbest: 604.1829337 (2640)\ttotal: 5m 56s\tremaining: 16m 33s\n",
      "2650:\tlearn: 562.3027986\ttest: 603.7564239\tbest: 603.7564239 (2650)\ttotal: 5m 57s\tremaining: 16m 31s\n",
      "2660:\tlearn: 561.9630286\ttest: 603.4928573\tbest: 603.4928573 (2660)\ttotal: 5m 59s\tremaining: 16m 30s\n",
      "2670:\tlearn: 561.5373827\ttest: 603.0686493\tbest: 603.0686493 (2670)\ttotal: 6m\tremaining: 16m 28s\n",
      "2680:\tlearn: 560.9543492\ttest: 602.5947217\tbest: 602.5947217 (2680)\ttotal: 6m 1s\tremaining: 16m 27s\n",
      "2690:\tlearn: 560.4730610\ttest: 602.1641431\tbest: 602.1641431 (2690)\ttotal: 6m 2s\tremaining: 16m 25s\n",
      "2700:\tlearn: 560.1413826\ttest: 601.9078673\tbest: 601.8962996 (2699)\ttotal: 6m 4s\tremaining: 16m 24s\n",
      "2710:\tlearn: 559.5687427\ttest: 601.4243626\tbest: 601.4071226 (2709)\ttotal: 6m 5s\tremaining: 16m 22s\n",
      "2720:\tlearn: 559.0606583\ttest: 600.8789526\tbest: 600.8789526 (2720)\ttotal: 6m 6s\tremaining: 16m 21s\n",
      "2730:\tlearn: 558.6195104\ttest: 600.4460767\tbest: 600.4460767 (2730)\ttotal: 6m 8s\tremaining: 16m 19s\n",
      "2740:\tlearn: 558.3295579\ttest: 600.2034458\tbest: 600.2034458 (2740)\ttotal: 6m 9s\tremaining: 16m 18s\n",
      "2750:\tlearn: 558.0258103\ttest: 599.9680372\tbest: 599.9680372 (2750)\ttotal: 6m 10s\tremaining: 16m 16s\n",
      "2760:\tlearn: 557.5069347\ttest: 599.4851567\tbest: 599.4851567 (2760)\ttotal: 6m 12s\tremaining: 16m 15s\n",
      "2770:\tlearn: 557.1622509\ttest: 599.1793846\tbest: 599.1600763 (2769)\ttotal: 6m 13s\tremaining: 16m 13s\n",
      "2780:\tlearn: 556.7798272\ttest: 598.8593431\tbest: 598.8563631 (2777)\ttotal: 6m 14s\tremaining: 16m 12s\n",
      "2790:\tlearn: 556.4571942\ttest: 598.5897363\tbest: 598.5897363 (2790)\ttotal: 6m 16s\tremaining: 16m 11s\n",
      "2800:\tlearn: 556.0007136\ttest: 598.1612166\tbest: 598.1612166 (2800)\ttotal: 6m 17s\tremaining: 16m 9s\n",
      "2810:\tlearn: 555.5909073\ttest: 597.8011670\tbest: 597.8011670 (2810)\ttotal: 6m 18s\tremaining: 16m 8s\n",
      "2820:\tlearn: 555.2490886\ttest: 597.5189916\tbest: 597.5189916 (2820)\ttotal: 6m 19s\tremaining: 16m 6s\n",
      "2830:\tlearn: 554.9668963\ttest: 597.3383411\tbest: 597.3383411 (2830)\ttotal: 6m 21s\tremaining: 16m 5s\n",
      "2840:\tlearn: 554.5441628\ttest: 596.8899736\tbest: 596.8899736 (2840)\ttotal: 6m 22s\tremaining: 16m 3s\n",
      "2850:\tlearn: 554.2350489\ttest: 596.6666147\tbest: 596.6666147 (2850)\ttotal: 6m 23s\tremaining: 16m 2s\n",
      "2860:\tlearn: 553.8240885\ttest: 596.2231260\tbest: 596.2231260 (2860)\ttotal: 6m 25s\tremaining: 16m 1s\n",
      "2870:\tlearn: 553.4134588\ttest: 595.8782888\tbest: 595.8782888 (2870)\ttotal: 6m 26s\tremaining: 15m 59s\n",
      "2880:\tlearn: 553.0465563\ttest: 595.5877472\tbest: 595.5877472 (2880)\ttotal: 6m 27s\tremaining: 15m 58s\n",
      "2890:\tlearn: 552.5462430\ttest: 595.1993597\tbest: 595.1993597 (2890)\ttotal: 6m 29s\tremaining: 15m 56s\n",
      "2900:\tlearn: 552.1177474\ttest: 594.8871671\tbest: 594.8871671 (2900)\ttotal: 6m 30s\tremaining: 15m 55s\n",
      "2910:\tlearn: 551.7290606\ttest: 594.5420685\tbest: 594.5420685 (2910)\ttotal: 6m 31s\tremaining: 15m 53s\n",
      "2920:\tlearn: 551.2314123\ttest: 594.1947032\tbest: 594.1947032 (2920)\ttotal: 6m 33s\tremaining: 15m 52s\n",
      "2930:\tlearn: 550.8681125\ttest: 593.8722985\tbest: 593.8722985 (2930)\ttotal: 6m 34s\tremaining: 15m 51s\n",
      "2940:\tlearn: 550.4697841\ttest: 593.5693095\tbest: 593.5693095 (2940)\ttotal: 6m 35s\tremaining: 15m 49s\n",
      "2950:\tlearn: 550.1128495\ttest: 593.2498133\tbest: 593.2498133 (2950)\ttotal: 6m 37s\tremaining: 15m 48s\n",
      "2960:\tlearn: 549.7637978\ttest: 592.9129372\tbest: 592.9129372 (2960)\ttotal: 6m 38s\tremaining: 15m 46s\n",
      "2970:\tlearn: 549.4758493\ttest: 592.7212584\tbest: 592.7054289 (2968)\ttotal: 6m 39s\tremaining: 15m 45s\n",
      "2980:\tlearn: 549.1234390\ttest: 592.3616321\tbest: 592.3616321 (2980)\ttotal: 6m 40s\tremaining: 15m 43s\n",
      "2990:\tlearn: 548.6663442\ttest: 591.9509605\tbest: 591.9509605 (2990)\ttotal: 6m 42s\tremaining: 15m 42s\n",
      "3000:\tlearn: 548.2542363\ttest: 591.6153981\tbest: 591.6153981 (3000)\ttotal: 6m 43s\tremaining: 15m 41s\n",
      "3010:\tlearn: 547.8360540\ttest: 591.2395027\tbest: 591.2395027 (3010)\ttotal: 6m 44s\tremaining: 15m 39s\n",
      "3020:\tlearn: 547.4895264\ttest: 590.9695307\tbest: 590.9695307 (3020)\ttotal: 6m 46s\tremaining: 15m 38s\n",
      "3030:\tlearn: 547.1606671\ttest: 590.6093022\tbest: 590.6093022 (3030)\ttotal: 6m 47s\tremaining: 15m 36s\n",
      "3040:\tlearn: 546.8186278\ttest: 590.2662219\tbest: 590.2662219 (3040)\ttotal: 6m 48s\tremaining: 15m 35s\n",
      "3050:\tlearn: 546.5123819\ttest: 590.0656375\tbest: 590.0656375 (3050)\ttotal: 6m 50s\tremaining: 15m 34s\n",
      "3060:\tlearn: 546.1216729\ttest: 589.6972954\tbest: 589.6972954 (3060)\ttotal: 6m 51s\tremaining: 15m 32s\n",
      "3070:\tlearn: 545.8862982\ttest: 589.4780997\tbest: 589.4780997 (3070)\ttotal: 6m 52s\tremaining: 15m 31s\n",
      "3080:\tlearn: 545.5190677\ttest: 589.1465570\tbest: 589.1465570 (3080)\ttotal: 6m 54s\tremaining: 15m 30s\n",
      "3090:\tlearn: 545.2578751\ttest: 588.9332935\tbest: 588.9332935 (3090)\ttotal: 6m 55s\tremaining: 15m 28s\n",
      "3100:\tlearn: 544.9425272\ttest: 588.6633610\tbest: 588.6633610 (3100)\ttotal: 6m 56s\tremaining: 15m 27s\n",
      "3110:\tlearn: 544.5882369\ttest: 588.4173564\tbest: 588.3826138 (3108)\ttotal: 6m 58s\tremaining: 15m 25s\n",
      "3120:\tlearn: 544.3191940\ttest: 588.1556693\tbest: 588.1556693 (3120)\ttotal: 6m 59s\tremaining: 15m 24s\n",
      "3130:\tlearn: 544.0647643\ttest: 587.9790007\tbest: 587.9790007 (3130)\ttotal: 7m\tremaining: 15m 23s\n",
      "3140:\tlearn: 543.7328838\ttest: 587.6956247\tbest: 587.6956247 (3140)\ttotal: 7m 2s\tremaining: 15m 21s\n",
      "3150:\tlearn: 543.4709192\ttest: 587.5014399\tbest: 587.4959117 (3149)\ttotal: 7m 3s\tremaining: 15m 20s\n",
      "3160:\tlearn: 543.1920907\ttest: 587.2837096\tbest: 587.2747201 (3159)\ttotal: 7m 4s\tremaining: 15m 18s\n",
      "3170:\tlearn: 542.9238260\ttest: 587.0403013\tbest: 587.0403013 (3170)\ttotal: 7m 6s\tremaining: 15m 17s\n",
      "3180:\tlearn: 542.6600509\ttest: 586.8841987\tbest: 586.8841987 (3180)\ttotal: 7m 7s\tremaining: 15m 16s\n",
      "3190:\tlearn: 542.3661015\ttest: 586.6631248\tbest: 586.6631248 (3190)\ttotal: 7m 8s\tremaining: 15m 14s\n",
      "3200:\tlearn: 542.0416884\ttest: 586.4048035\tbest: 586.4048035 (3200)\ttotal: 7m 10s\tremaining: 15m 13s\n",
      "3210:\tlearn: 541.5245079\ttest: 585.9667303\tbest: 585.9667303 (3210)\ttotal: 7m 11s\tremaining: 15m 11s\n",
      "3220:\tlearn: 541.0982614\ttest: 585.6136477\tbest: 585.6136477 (3220)\ttotal: 7m 12s\tremaining: 15m 10s\n",
      "3230:\tlearn: 540.7859988\ttest: 585.3243665\tbest: 585.3243665 (3230)\ttotal: 7m 13s\tremaining: 15m 8s\n",
      "3240:\tlearn: 540.4665026\ttest: 585.0362957\tbest: 585.0362957 (3240)\ttotal: 7m 15s\tremaining: 15m 7s\n",
      "3250:\tlearn: 540.0937944\ttest: 584.6720541\tbest: 584.6720541 (3250)\ttotal: 7m 16s\tremaining: 15m 6s\n",
      "3260:\tlearn: 539.7915113\ttest: 584.4216813\tbest: 584.4216813 (3260)\ttotal: 7m 17s\tremaining: 15m 4s\n",
      "3270:\tlearn: 539.5021007\ttest: 584.1425156\tbest: 584.1425156 (3270)\ttotal: 7m 19s\tremaining: 15m 3s\n",
      "3280:\tlearn: 539.1046210\ttest: 583.7231369\tbest: 583.7231369 (3280)\ttotal: 7m 20s\tremaining: 15m 1s\n",
      "3290:\tlearn: 538.7590301\ttest: 583.4225477\tbest: 583.4225477 (3290)\ttotal: 7m 21s\tremaining: 15m\n"
     ]
    },
    {
     "name": "stdout",
     "output_type": "stream",
     "text": [
      "3300:\tlearn: 538.4463637\ttest: 583.1018523\tbest: 583.1018523 (3300)\ttotal: 7m 23s\tremaining: 14m 59s\n",
      "3310:\tlearn: 538.1911259\ttest: 582.9212773\tbest: 582.9212773 (3310)\ttotal: 7m 24s\tremaining: 14m 57s\n",
      "3320:\tlearn: 537.9682579\ttest: 582.8819108\tbest: 582.8215136 (3312)\ttotal: 7m 25s\tremaining: 14m 56s\n",
      "Stopped by overfitting detector  (10 iterations wait)\n",
      "\n",
      "bestTest = 582.8215136\n",
      "bestIteration = 3312\n",
      "\n",
      "Shrink model to first 3313 iterations.\n",
      "CPU times: user 18min 25s, sys: 1min 52s, total: 20min 18s\n",
      "Wall time: 7min 33s\n"
     ]
    }
   ],
   "source": [
    "%%time\n",
    "model_cb = cb.train(train_cb, params_cb, eval_set=validation_cb)"
   ]
  },
  {
   "cell_type": "code",
   "execution_count": null,
   "metadata": {},
   "outputs": [],
   "source": []
  }
 ],
 "metadata": {
  "kernelspec": {
   "display_name": "Python 3",
   "language": "python",
   "name": "python3"
  },
  "language_info": {
   "codemirror_mode": {
    "name": "ipython",
    "version": 3
   },
   "file_extension": ".py",
   "mimetype": "text/x-python",
   "name": "python",
   "nbconvert_exporter": "python",
   "pygments_lexer": "ipython3",
   "version": "3.6.3"
  }
 },
 "nbformat": 4,
 "nbformat_minor": 2
}
