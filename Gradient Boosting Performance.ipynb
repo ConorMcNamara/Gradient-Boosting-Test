{
 "cells": [
  {
   "cell_type": "code",
   "execution_count": 11,
   "metadata": {},
   "outputs": [],
   "source": [
    "import pandas as pd\n",
    "import numpy as np\n",
    "import xgboost as xgb\n",
    "import catboost as cb\n",
    "import lightgbm as lgbm\n",
    "from sklearn.model_selection import GridSearchCV, RandomizedSearchCV, TimeSeriesSplit\n",
    "from sklearn.metrics import r2_score, mean_squared_error, mean_absolute_error\n",
    "import math\n",
    "import scipy.stats as st\n",
    "from skopt import BayesSearchCV\n",
    "from skopt.space import Integer"
   ]
  },
  {
   "cell_type": "code",
   "execution_count": 2,
   "metadata": {},
   "outputs": [
    {
     "name": "stdout",
     "output_type": "stream",
     "text": [
      "0.13.1\n",
      "2.2.3\n",
      "0.81\n"
     ]
    }
   ],
   "source": [
    "print(cb.__version__)\n",
    "print(lgbm.__version__)\n",
    "print(xgb.__version__)"
   ]
  },
  {
   "cell_type": "code",
   "execution_count": 2,
   "metadata": {},
   "outputs": [
    {
     "name": "stderr",
     "output_type": "stream",
     "text": [
      "/Library/Frameworks/Python.framework/Versions/3.7/lib/python3.7/site-packages/IPython/core/interactiveshell.py:3020: DtypeWarning: Columns (7) have mixed types. Specify dtype option on import or set low_memory=False.\n",
      "  interactivity=interactivity, compiler=compiler, result=result)\n"
     ]
    }
   ],
   "source": [
    "train_rossman = pd.read_csv('/Users/cmcnamara/Downloads/Kaggle Rossman/train.csv')\n",
    "store_rossman = pd.read_csv('/Users/cmcnamara/Downloads/Kaggle Rossman/store.csv')"
   ]
  },
  {
   "cell_type": "code",
   "execution_count": 3,
   "metadata": {},
   "outputs": [],
   "source": [
    "train_rossman = pd.merge(train_rossman, store_rossman, on='Store', how='left').fillna(0)"
   ]
  },
  {
   "cell_type": "code",
   "execution_count": 4,
   "metadata": {},
   "outputs": [],
   "source": [
    "train_rossman['StateHoliday'] = train_rossman['StateHoliday'].astype('category').cat.codes\n",
    "train_rossman['StoreType'] = train_rossman['StoreType'].astype('category').cat.codes\n",
    "train_rossman['Assortment'] = train_rossman['Assortment'].astype('category').cat.codes\n",
    "train_rossman['Promo2SinceWeek'] = train_rossman['Promo2SinceWeek'].astype(int)\n",
    "train_rossman['Promo2SinceYear'] = train_rossman['Promo2SinceYear'].astype(int)\n",
    "train_rossman['CompeititonDistance'] = train_rossman['CompetitionDistance'].astype(int)\n",
    "train_rossman['CompetitionOpenSinceMonth'] = train_rossman['CompetitionOpenSinceMonth'].astype(int)\n",
    "train_rossman['CompetitionOpenSinceYear'] = train_rossman[\"CompetitionOpenSinceYear\"].astype(int)\n",
    "train_rossman['PromoInterval'] = train_rossman['PromoInterval'].astype('category').cat.codes\n",
    "train_rossman['Date'] = pd.to_datetime(train_rossman['Date'])"
   ]
  },
  {
   "cell_type": "code",
   "execution_count": 5,
   "metadata": {},
   "outputs": [],
   "source": [
    "test_rossman = train_rossman.iloc[np.where(train_rossman.Date.dt.year == 2015)[0], :]\n",
    "train_rossman = train_rossman.iloc[np.where(train_rossman.Date.dt.year == 2014)[0], :]"
   ]
  },
  {
   "cell_type": "code",
   "execution_count": 6,
   "metadata": {},
   "outputs": [],
   "source": [
    "train_rossman = train_rossman.iloc[::-1]\n",
    "test_rossman = test_rossman.iloc[::-1]"
   ]
  },
  {
   "cell_type": "markdown",
   "metadata": {},
   "source": [
    "Note that there are a few problems when comparing the different algorithms (xgboost, lightgbm, catboost).\n",
    "\n",
    "* The first is that they take the input data in differently. While  xgboost and lightgbm have wrappers to handle pandas dataframes directly, catboost does not. Therefore, I will use their native data wrapper for each algorithm.\n",
    "* The second is that they do not grow the trees the same.\n",
    "\n",
    "Nonetheless, I will try to ensure that each algorithm is as close to one another as possible for maximum accuracy.\""
   ]
  },
  {
   "cell_type": "code",
   "execution_count": 7,
   "metadata": {},
   "outputs": [],
   "source": [
    "train_y = train_rossman['Sales']\n",
    "train_x = train_rossman.drop(['Sales', 'Date'], axis=1)\n",
    "params = {\"max_depth\": [5,10, 15],\n",
    "         \"learning_rate\": [0.01, 0.05, 0.1],\n",
    "         \"n_estimators\": [100, 250]}\n",
    "params_cb = {'depth': [5, 10, 15],\n",
    "            'learning_rate': [0.01, 0.05, 0.1],\n",
    "            'iterations': [100, 250]}\n",
    "test_y = test_rossman['Sales']\n",
    "test_x = test_rossman.drop(['Sales', 'Date'], axis=1)\n",
    "n_splits = 3\n",
    "max_train_size = len(train_x) // (n_splits+1)"
   ]
  },
  {
   "cell_type": "code",
   "execution_count": 9,
   "metadata": {},
   "outputs": [
    {
     "data": {
      "text/plain": [
       "(373855, 17)"
      ]
     },
     "execution_count": 9,
     "metadata": {},
     "output_type": "execute_result"
    }
   ],
   "source": [
    "train_x.shape"
   ]
  },
  {
   "cell_type": "code",
   "execution_count": 10,
   "metadata": {},
   "outputs": [
    {
     "data": {
      "text/plain": [
       "(236380, 17)"
      ]
     },
     "execution_count": 10,
     "metadata": {},
     "output_type": "execute_result"
    }
   ],
   "source": [
    "test_x.shape"
   ]
  },
  {
   "cell_type": "markdown",
   "metadata": {},
   "source": [
    "# Grid Search"
   ]
  },
  {
   "cell_type": "markdown",
   "metadata": {},
   "source": [
    "### xgboost"
   ]
  },
  {
   "cell_type": "code",
   "execution_count": 11,
   "metadata": {},
   "outputs": [
    {
     "name": "stdout",
     "output_type": "stream",
     "text": [
      "Fitting 3 folds for each of 18 candidates, totalling 54 fits\n"
     ]
    },
    {
     "name": "stderr",
     "output_type": "stream",
     "text": [
      "[Parallel(n_jobs=1)]: Using backend SequentialBackend with 1 concurrent workers.\n",
      "[Parallel(n_jobs=1)]: Done  54 out of  54 | elapsed: 42.3min finished\n"
     ]
    },
    {
     "name": "stdout",
     "output_type": "stream",
     "text": [
      "CPU times: user 46min 36s, sys: 8.97 s, total: 46min 45s\n",
      "Wall time: 46min 57s\n"
     ]
    }
   ],
   "source": [
    "%%time\n",
    "model_xg = xgb.XGBRegressor()\n",
    "grid_search_xg = GridSearchCV(model_xg, param_grid=params, cv=TimeSeriesSplit(n_splits=n_splits, max_train_size=max_train_size), verbose=1, n_jobs=1)\n",
    "grid_search_xg.fit(train_x, train_y)"
   ]
  },
  {
   "cell_type": "markdown",
   "metadata": {},
   "source": [
    "### lightgbm"
   ]
  },
  {
   "cell_type": "code",
   "execution_count": 12,
   "metadata": {},
   "outputs": [
    {
     "name": "stdout",
     "output_type": "stream",
     "text": [
      "Fitting 3 folds for each of 18 candidates, totalling 54 fits\n"
     ]
    },
    {
     "name": "stderr",
     "output_type": "stream",
     "text": [
      "[Parallel(n_jobs=1)]: Using backend SequentialBackend with 1 concurrent workers.\n",
      "[Parallel(n_jobs=1)]: Done  54 out of  54 | elapsed:  1.9min finished\n"
     ]
    },
    {
     "name": "stdout",
     "output_type": "stream",
     "text": [
      "CPU times: user 6min 37s, sys: 5.92 s, total: 6min 43s\n",
      "Wall time: 1min 55s\n"
     ]
    }
   ],
   "source": [
    "%%time\n",
    "model_lg = lgbm.LGBMRegressor()\n",
    "grid_search_lg = GridSearchCV(model_lg, param_grid=params, cv=TimeSeriesSplit(n_splits=n_splits, max_train_size=max_train_size), verbose=1, n_jobs=1)\n",
    "grid_search_lg.fit(train_x, train_y)"
   ]
  },
  {
   "cell_type": "markdown",
   "metadata": {},
   "source": [
    "### catboost"
   ]
  },
  {
   "cell_type": "code",
   "execution_count": 13,
   "metadata": {},
   "outputs": [
    {
     "name": "stdout",
     "output_type": "stream",
     "text": [
      "Fitting 3 folds for each of 18 candidates, totalling 54 fits\n"
     ]
    },
    {
     "name": "stderr",
     "output_type": "stream",
     "text": [
      "[Parallel(n_jobs=1)]: Using backend SequentialBackend with 1 concurrent workers.\n",
      "[Parallel(n_jobs=1)]: Done  54 out of  54 | elapsed: 38.0min finished\n"
     ]
    },
    {
     "name": "stdout",
     "output_type": "stream",
     "text": [
      "CPU times: user 57min 19s, sys: 41min 58s, total: 1h 39min 17s\n",
      "Wall time: 38min 4s\n"
     ]
    }
   ],
   "source": [
    "%%time\n",
    "model_cb = cb.CatBoostRegressor(verbose=False)\n",
    "grid_search_cb = GridSearchCV(model_cb, param_grid=params_cb, cv=TimeSeriesSplit(n_splits=n_splits, max_train_size=max_train_size), verbose=1, n_jobs=1)\n",
    "grid_search_cb.fit(train_x, train_y)"
   ]
  },
  {
   "cell_type": "markdown",
   "metadata": {},
   "source": [
    "## Predictions"
   ]
  },
  {
   "cell_type": "code",
   "execution_count": 14,
   "metadata": {},
   "outputs": [
    {
     "name": "stdout",
     "output_type": "stream",
     "text": [
      "XGBoost R2 Score: 0.9844574591682844\n",
      "LightGBM R2 Score: 0.9768122982657019\n",
      "CatBoost R2 Score: 0.38984165613214683\n",
      "\n",
      "XGBoost RMSE Score: 478.7553058503369\n",
      "LightGBM RMSE Score: 584.7650988998363\n",
      "CatBoost RMSE Score: 2999.6726883567626\n",
      "\n",
      "XGBoost MAE Score: 304.70115830091817\n",
      "LightGBM MAE Score: 397.43611843205383\n",
      "CatBoost MAE Score: 2275.531732568766\n",
      "\n"
     ]
    }
   ],
   "source": [
    "predict_y_xg = grid_search_xg.predict(test_x)\n",
    "predict_y_lg = grid_search_lg.predict(test_x)\n",
    "predict_y_cb = grid_search_cb.predict(test_x)\n",
    "\n",
    "print('XGBoost R2 Score: {}'.format(r2_score(test_y, predict_y_xg)))\n",
    "print('LightGBM R2 Score: {}'.format(r2_score(test_y, predict_y_lg)))\n",
    "print('CatBoost R2 Score: {}\\n'.format(r2_score(test_y, predict_y_cb)))\n",
    "\n",
    "print('XGBoost RMSE Score: {}'.format(math.sqrt(mean_squared_error(test_y, predict_y_xg))))\n",
    "print('LightGBM RMSE Score: {}'.format(math.sqrt(mean_squared_error(test_y, predict_y_lg))))\n",
    "print('CatBoost RMSE Score: {}\\n'.format(math.sqrt(mean_squared_error(test_y, predict_y_cb))))\n",
    "\n",
    "print('XGBoost MAE Score: {}'.format(mean_absolute_error(test_y, predict_y_xg)))\n",
    "print('LightGBM MAE Score: {}'.format(mean_absolute_error(test_y, predict_y_lg)))\n",
    "print('CatBoost MAE Score: {}\\n'.format(mean_absolute_error(test_y, predict_y_cb)))"
   ]
  },
  {
   "cell_type": "markdown",
   "metadata": {},
   "source": [
    "# Randomized Search"
   ]
  },
  {
   "cell_type": "code",
   "execution_count": 15,
   "metadata": {},
   "outputs": [],
   "source": [
    "params = {'max_depth': st.randint(3, 16),\n",
    "          'learning_rate': st.uniform(0.01, 0.4),\n",
    "          'n_estimators': st.randint(100, 500)\n",
    "         }\n",
    "\n",
    "params_cb = {'depth': st.randint(3,16),\n",
    "            'learning_rate': st.uniform(0.01, 0.4),\n",
    "            'iterations': st.randint(100, 500)\n",
    "            }"
   ]
  },
  {
   "cell_type": "markdown",
   "metadata": {},
   "source": [
    "### xgboost"
   ]
  },
  {
   "cell_type": "code",
   "execution_count": 16,
   "metadata": {},
   "outputs": [
    {
     "name": "stdout",
     "output_type": "stream",
     "text": [
      "Fitting 3 folds for each of 5 candidates, totalling 15 fits\n"
     ]
    },
    {
     "name": "stderr",
     "output_type": "stream",
     "text": [
      "[Parallel(n_jobs=1)]: Using backend SequentialBackend with 1 concurrent workers.\n",
      "[Parallel(n_jobs=1)]: Done  15 out of  15 | elapsed: 18.1min finished\n"
     ]
    },
    {
     "name": "stdout",
     "output_type": "stream",
     "text": [
      "CPU times: user 20min 49s, sys: 1.45 s, total: 20min 50s\n",
      "Wall time: 20min 51s\n"
     ]
    }
   ],
   "source": [
    "%%time\n",
    "model_xg = xgb.XGBRegressor()\n",
    "rand_search_xg = RandomizedSearchCV(model_xg, params, n_jobs=1, cv=TimeSeriesSplit(n_splits=n_splits, max_train_size=max_train_size), scoring='neg_mean_squared_error', n_iter=5, verbose=1)\n",
    "rand_search_xg.fit(train_x, train_y)"
   ]
  },
  {
   "cell_type": "markdown",
   "metadata": {},
   "source": [
    "### lightgbm"
   ]
  },
  {
   "cell_type": "code",
   "execution_count": 17,
   "metadata": {},
   "outputs": [
    {
     "name": "stdout",
     "output_type": "stream",
     "text": [
      "Fitting 3 folds for each of 5 candidates, totalling 15 fits\n"
     ]
    },
    {
     "name": "stderr",
     "output_type": "stream",
     "text": [
      "[Parallel(n_jobs=1)]: Using backend SequentialBackend with 1 concurrent workers.\n",
      "[Parallel(n_jobs=1)]: Done  15 out of  15 | elapsed:   34.6s finished\n"
     ]
    },
    {
     "name": "stdout",
     "output_type": "stream",
     "text": [
      "CPU times: user 2min 37s, sys: 1.15 s, total: 2min 38s\n",
      "Wall time: 40.4 s\n"
     ]
    }
   ],
   "source": [
    "%%time\n",
    "model_lg = lgbm.LGBMRegressor()\n",
    "rand_search_lg = RandomizedSearchCV(model_lg, params, n_jobs=1, cv=TimeSeriesSplit(n_splits=n_splits, max_train_size=max_train_size), scoring='neg_mean_squared_error', n_iter=5, verbose=1)\n",
    "rand_search_lg.fit(train_x, train_y)"
   ]
  },
  {
   "cell_type": "markdown",
   "metadata": {},
   "source": [
    "### catboost"
   ]
  },
  {
   "cell_type": "code",
   "execution_count": 18,
   "metadata": {},
   "outputs": [
    {
     "name": "stdout",
     "output_type": "stream",
     "text": [
      "Fitting 3 folds for each of 5 candidates, totalling 15 fits\n"
     ]
    },
    {
     "name": "stderr",
     "output_type": "stream",
     "text": [
      "[Parallel(n_jobs=1)]: Using backend SequentialBackend with 1 concurrent workers.\n",
      "[Parallel(n_jobs=1)]: Done  15 out of  15 | elapsed:  9.7min finished\n"
     ]
    },
    {
     "name": "stdout",
     "output_type": "stream",
     "text": [
      "CPU times: user 17min 52s, sys: 9min 35s, total: 27min 27s\n",
      "Wall time: 9min 59s\n"
     ]
    }
   ],
   "source": [
    "%%time\n",
    "model_cb = cb.CatBoostRegressor(verbose=False)\n",
    "rand_search_cb = RandomizedSearchCV(model_cb, params_cb, n_jobs=1, cv=TimeSeriesSplit(n_splits=n_splits, max_train_size=max_train_size), scoring='neg_mean_squared_error', n_iter=5, verbose=1)\n",
    "rand_search_cb.fit(train_x, train_y)"
   ]
  },
  {
   "cell_type": "code",
   "execution_count": 19,
   "metadata": {},
   "outputs": [
    {
     "name": "stdout",
     "output_type": "stream",
     "text": [
      "XGBoost R2 Score: 0.9816412715286165\n",
      "LightGBM R2 Score: 0.982828346510317\n",
      "CatBoost R2 Score: 0.9798560758457027\n",
      "\n",
      "XGBoost RMSE Score: 520.324039162105\n",
      "LightGBM RMSE Score: 503.2208763464184\n",
      "CatBoost RMSE Score: 545.0352993850663\n",
      "\n",
      "XGBoost MAE Score: 352.0900901997669\n",
      "LightGBM MAE Score: 334.43611951993023\n",
      "CatBoost MAE Score: 365.1795048309185\n",
      "\n"
     ]
    }
   ],
   "source": [
    "predict_y_xg = rand_search_xg.predict(test_x)\n",
    "predict_y_lg = rand_search_lg.predict(test_x)\n",
    "predict_y_cb = rand_search_cb.predict(test_x)\n",
    "\n",
    "print('XGBoost R2 Score: {}'.format(r2_score(test_y, predict_y_xg)))\n",
    "print('LightGBM R2 Score: {}'.format(r2_score(test_y, predict_y_lg)))\n",
    "print('CatBoost R2 Score: {}\\n'.format(r2_score(test_y, predict_y_cb)))\n",
    "\n",
    "print('XGBoost RMSE Score: {}'.format(math.sqrt(mean_squared_error(test_y, predict_y_xg))))\n",
    "print('LightGBM RMSE Score: {}'.format(math.sqrt(mean_squared_error(test_y, predict_y_lg))))\n",
    "print('CatBoost RMSE Score: {}\\n'.format(math.sqrt(mean_squared_error(test_y, predict_y_cb))))\n",
    "\n",
    "print('XGBoost MAE Score: {}'.format(mean_absolute_error(test_y, predict_y_xg)))\n",
    "print('LightGBM MAE Score: {}'.format(mean_absolute_error(test_y, predict_y_lg)))\n",
    "print('CatBoost MAE Score: {}\\n'.format(mean_absolute_error(test_y, predict_y_cb)))"
   ]
  },
  {
   "cell_type": "markdown",
   "metadata": {},
   "source": [
    "# Bayesian Randomized Search"
   ]
  },
  {
   "cell_type": "code",
   "execution_count": 19,
   "metadata": {},
   "outputs": [],
   "source": [
    "params = {'max_depth': Integer(3, 16),\n",
    "          'learning_rate': (0.01, 0.4, 'uniform'),\n",
    "          'n_estimators': Integer(100, 5000)\n",
    "         }\n",
    "\n",
    "params_cb = {'depth': Integer(3, 16),\n",
    "            'learning_rate': (0.01, 0.4, 'uniform'),\n",
    "            'iterations': Integer(100, 5000)\n",
    "            }"
   ]
  },
  {
   "cell_type": "markdown",
   "metadata": {},
   "source": [
    "## xgboost"
   ]
  },
  {
   "cell_type": "code",
   "execution_count": 15,
   "metadata": {},
   "outputs": [
    {
     "name": "stdout",
     "output_type": "stream",
     "text": [
      "Fitting 3 folds for each of 1 candidates, totalling 3 fits\n"
     ]
    },
    {
     "name": "stderr",
     "output_type": "stream",
     "text": [
      "[Parallel(n_jobs=1)]: Using backend SequentialBackend with 1 concurrent workers.\n",
      "[Parallel(n_jobs=1)]: Done   3 out of   3 | elapsed:  2.7min finished\n",
      "[Parallel(n_jobs=1)]: Using backend SequentialBackend with 1 concurrent workers.\n"
     ]
    },
    {
     "name": "stdout",
     "output_type": "stream",
     "text": [
      "Fitting 3 folds for each of 1 candidates, totalling 3 fits\n"
     ]
    },
    {
     "name": "stderr",
     "output_type": "stream",
     "text": [
      "[Parallel(n_jobs=1)]: Done   3 out of   3 | elapsed: 24.8min finished\n",
      "[Parallel(n_jobs=1)]: Using backend SequentialBackend with 1 concurrent workers.\n"
     ]
    },
    {
     "name": "stdout",
     "output_type": "stream",
     "text": [
      "Fitting 3 folds for each of 1 candidates, totalling 3 fits\n"
     ]
    },
    {
     "name": "stderr",
     "output_type": "stream",
     "text": [
      "[Parallel(n_jobs=1)]: Done   3 out of   3 | elapsed:  7.0min finished\n",
      "[Parallel(n_jobs=1)]: Using backend SequentialBackend with 1 concurrent workers.\n"
     ]
    },
    {
     "name": "stdout",
     "output_type": "stream",
     "text": [
      "Fitting 3 folds for each of 1 candidates, totalling 3 fits\n"
     ]
    },
    {
     "name": "stderr",
     "output_type": "stream",
     "text": [
      "[Parallel(n_jobs=1)]: Done   3 out of   3 | elapsed:  2.4min finished\n",
      "[Parallel(n_jobs=1)]: Using backend SequentialBackend with 1 concurrent workers.\n"
     ]
    },
    {
     "name": "stdout",
     "output_type": "stream",
     "text": [
      "Fitting 3 folds for each of 1 candidates, totalling 3 fits\n"
     ]
    },
    {
     "name": "stderr",
     "output_type": "stream",
     "text": [
      "[Parallel(n_jobs=1)]: Done   3 out of   3 | elapsed: 18.3min finished\n"
     ]
    },
    {
     "name": "stdout",
     "output_type": "stream",
     "text": [
      "CPU times: user 1h 4min, sys: 23.2 s, total: 1h 4min 23s\n",
      "Wall time: 1h 6min 11s\n"
     ]
    }
   ],
   "source": [
    "%%time\n",
    "model_xg = xgb.XGBRegressor()\n",
    "bayes_search_xg = BayesSearchCV(model_xg, params, n_jobs=1, cv=TimeSeriesSplit(n_splits=n_splits, max_train_size=max_train_size), scoring='neg_mean_squared_error', n_iter=5, verbose=1)\n",
    "bayes_search_xg.fit(train_x, train_y)"
   ]
  },
  {
   "cell_type": "markdown",
   "metadata": {},
   "source": [
    "## lightgbm"
   ]
  },
  {
   "cell_type": "code",
   "execution_count": 16,
   "metadata": {},
   "outputs": [
    {
     "name": "stdout",
     "output_type": "stream",
     "text": [
      "Fitting 3 folds for each of 1 candidates, totalling 3 fits\n"
     ]
    },
    {
     "name": "stderr",
     "output_type": "stream",
     "text": [
      "[Parallel(n_jobs=1)]: Using backend SequentialBackend with 1 concurrent workers.\n",
      "[Parallel(n_jobs=1)]: Done   3 out of   3 | elapsed:   38.1s finished\n",
      "[Parallel(n_jobs=1)]: Using backend SequentialBackend with 1 concurrent workers.\n"
     ]
    },
    {
     "name": "stdout",
     "output_type": "stream",
     "text": [
      "Fitting 3 folds for each of 1 candidates, totalling 3 fits\n"
     ]
    },
    {
     "name": "stderr",
     "output_type": "stream",
     "text": [
      "[Parallel(n_jobs=1)]: Done   3 out of   3 | elapsed:   36.5s finished\n",
      "[Parallel(n_jobs=1)]: Using backend SequentialBackend with 1 concurrent workers.\n"
     ]
    },
    {
     "name": "stdout",
     "output_type": "stream",
     "text": [
      "Fitting 3 folds for each of 1 candidates, totalling 3 fits\n"
     ]
    },
    {
     "name": "stderr",
     "output_type": "stream",
     "text": [
      "[Parallel(n_jobs=1)]: Done   3 out of   3 | elapsed:   57.7s finished\n",
      "[Parallel(n_jobs=1)]: Using backend SequentialBackend with 1 concurrent workers.\n"
     ]
    },
    {
     "name": "stdout",
     "output_type": "stream",
     "text": [
      "Fitting 3 folds for each of 1 candidates, totalling 3 fits\n"
     ]
    },
    {
     "name": "stderr",
     "output_type": "stream",
     "text": [
      "[Parallel(n_jobs=1)]: Done   3 out of   3 | elapsed:    3.5s finished\n",
      "[Parallel(n_jobs=1)]: Using backend SequentialBackend with 1 concurrent workers.\n"
     ]
    },
    {
     "name": "stdout",
     "output_type": "stream",
     "text": [
      "Fitting 3 folds for each of 1 candidates, totalling 3 fits\n"
     ]
    },
    {
     "name": "stderr",
     "output_type": "stream",
     "text": [
      "[Parallel(n_jobs=1)]: Done   3 out of   3 | elapsed:   13.0s finished\n"
     ]
    },
    {
     "name": "stdout",
     "output_type": "stream",
     "text": [
      "CPU times: user 10min 41s, sys: 5.88 s, total: 10min 47s\n",
      "Wall time: 3min 6s\n"
     ]
    }
   ],
   "source": [
    "%%time\n",
    "model_lg = lgbm.LGBMRegressor()\n",
    "bayes_search_lg = BayesSearchCV(model_lg, params, n_jobs=1, cv=TimeSeriesSplit(n_splits=n_splits, max_train_size=max_train_size), scoring='neg_mean_squared_error', n_iter=5, verbose=1)\n",
    "bayes_search_lg.fit(train_x, train_y)"
   ]
  },
  {
   "cell_type": "markdown",
   "metadata": {},
   "source": [
    "## catboost"
   ]
  },
  {
   "cell_type": "code",
   "execution_count": 21,
   "metadata": {},
   "outputs": [
    {
     "name": "stdout",
     "output_type": "stream",
     "text": [
      "0:\tlearn: 4856.1540562\ttotal: 19.6ms\tremaining: 34.2s\n",
      "1000:\tlearn: 296.4766185\ttotal: 14.5s\tremaining: 10.8s\n",
      "1744:\tlearn: 278.7339886\ttotal: 26.8s\tremaining: 0us\n",
      "0:\tlearn: 5113.6497597\ttotal: 33.3ms\tremaining: 58s\n",
      "1000:\tlearn: 340.6133635\ttotal: 15.9s\tremaining: 11.8s\n",
      "1744:\tlearn: 320.5290109\ttotal: 29.1s\tremaining: 0us\n",
      "0:\tlearn: 5037.4275472\ttotal: 21.2ms\tremaining: 36.9s\n",
      "1000:\tlearn: 316.6158176\ttotal: 15.5s\tremaining: 11.5s\n",
      "1744:\tlearn: 293.3222780\ttotal: 26.7s\tremaining: 0us\n",
      "0:\tlearn: 6092.4622595\ttotal: 110ms\tremaining: 7m 27s\n",
      "1000:\tlearn: 263.4372295\ttotal: 1m 42s\tremaining: 5m 11s\n",
      "2000:\tlearn: 238.0136548\ttotal: 3m 24s\tremaining: 3m 30s\n",
      "3000:\tlearn: 226.6386273\ttotal: 5m 6s\tremaining: 1m 47s\n",
      "4000:\tlearn: 219.7331136\ttotal: 6m 52s\tremaining: 5.97s\n",
      "4058:\tlearn: 219.2853617\ttotal: 6m 58s\tremaining: 0us\n",
      "0:\tlearn: 6409.8125723\ttotal: 102ms\tremaining: 6m 53s\n",
      "1000:\tlearn: 303.6218031\ttotal: 1m 40s\tremaining: 5m 7s\n",
      "2000:\tlearn: 277.3465567\ttotal: 3m 26s\tremaining: 3m 32s\n",
      "3000:\tlearn: 266.4812964\ttotal: 5m 6s\tremaining: 1m 47s\n",
      "4000:\tlearn: 259.7853193\ttotal: 6m 49s\tremaining: 5.93s\n",
      "4058:\tlearn: 259.4975351\ttotal: 6m 54s\tremaining: 0us\n",
      "0:\tlearn: 6322.1725250\ttotal: 119ms\tremaining: 8m 1s\n",
      "1000:\tlearn: 278.3287100\ttotal: 1m 40s\tremaining: 5m 8s\n",
      "2000:\tlearn: 243.7160667\ttotal: 3m 38s\tremaining: 3m 44s\n",
      "3000:\tlearn: 228.9834629\ttotal: 5m 38s\tremaining: 1m 59s\n",
      "4000:\tlearn: 220.8466642\ttotal: 7m 45s\tremaining: 6.75s\n",
      "4058:\tlearn: 220.3518484\ttotal: 7m 52s\tremaining: 0us\n",
      "0:\tlearn: 4256.3449392\ttotal: 14.2ms\tremaining: 14.4s\n",
      "1000:\tlearn: 371.9724583\ttotal: 11.5s\tremaining: 172ms\n",
      "1015:\tlearn: 371.0763027\ttotal: 11.7s\tremaining: 0us\n",
      "0:\tlearn: 4473.9121660\ttotal: 15.6ms\tremaining: 15.8s\n",
      "1000:\tlearn: 419.9572271\ttotal: 11.6s\tremaining: 173ms\n",
      "1015:\tlearn: 418.8150227\ttotal: 11.7s\tremaining: 0us\n",
      "0:\tlearn: 4427.9225126\ttotal: 14.4ms\tremaining: 14.7s\n",
      "1000:\tlearn: 400.0332967\ttotal: 12.1s\tremaining: 181ms\n",
      "1015:\tlearn: 399.0058104\ttotal: 12.3s\tremaining: 0us\n",
      "0:\tlearn: 6181.3694119\ttotal: 38.8ms\tremaining: 1m 25s\n",
      "1000:\tlearn: 313.8844105\ttotal: 38.9s\tremaining: 47s\n",
      "2000:\tlearn: 277.8695181\ttotal: 1m 18s\tremaining: 8.17s\n",
      "2208:\tlearn: 274.4080477\ttotal: 1m 26s\tremaining: 0us\n",
      "0:\tlearn: 6503.2449267\ttotal: 39.2ms\tremaining: 1m 26s\n",
      "1000:\tlearn: 356.4793822\ttotal: 40.3s\tremaining: 48.7s\n",
      "2000:\tlearn: 319.2672771\ttotal: 1m 19s\tremaining: 8.3s\n",
      "2208:\tlearn: 315.1169081\ttotal: 1m 28s\tremaining: 0us\n",
      "0:\tlearn: 6413.9657980\ttotal: 37.6ms\tremaining: 1m 23s\n",
      "1000:\tlearn: 340.7430784\ttotal: 48.4s\tremaining: 58.4s\n",
      "2000:\tlearn: 294.8470579\ttotal: 1m 30s\tremaining: 9.38s\n",
      "2208:\tlearn: 290.0859271\ttotal: 1m 38s\tremaining: 0us\n",
      "0:\tlearn: 4724.0058299\ttotal: 349ms\tremaining: 8m 21s\n",
      "1000:\tlearn: 184.3717618\ttotal: 14m 3s\tremaining: 6m 7s\n",
      "1436:\tlearn: 176.8228795\ttotal: 20m 29s\tremaining: 0us\n",
      "0:\tlearn: 4978.2918178\ttotal: 382ms\tremaining: 9m 8s\n",
      "1000:\tlearn: 221.2631599\ttotal: 12m 43s\tremaining: 5m 32s\n",
      "1436:\tlearn: 215.3575297\ttotal: 19m 9s\tremaining: 0us\n",
      "0:\tlearn: 4911.1706588\ttotal: 475ms\tremaining: 11m 22s\n",
      "1000:\tlearn: 177.5977337\ttotal: 13m 51s\tremaining: 6m 2s\n",
      "1436:\tlearn: 170.5642937\ttotal: 19m 50s\tremaining: 0us\n",
      "0:\tlearn: 5109.5301515\ttotal: 83.2ms\tremaining: 2m 25s\n",
      "1000:\tlearn: 413.6767081\ttotal: 1m 4s\tremaining: 48s\n",
      "1744:\tlearn: 396.8805050\ttotal: 1m 52s\tremaining: 0us\n",
      "CPU times: user 2h 16min 36s, sys: 1h 20min 36s, total: 3h 37min 13s\n",
      "Wall time: 1h 35min 12s\n"
     ]
    }
   ],
   "source": [
    "%%time\n",
    "model_cb = cb.CatBoostRegressor(verbose=1000)\n",
    "bayes_search_cb = BayesSearchCV(model_cb, params_cb, n_jobs=1, cv=TimeSeriesSplit(n_splits=n_splits, max_train_size=max_train_size), scoring='neg_mean_squared_error', n_iter=5, verbose=0)\n",
    "bayes_search_cb.fit(train_x, train_y)"
   ]
  },
  {
   "cell_type": "markdown",
   "metadata": {},
   "source": [
    "## Predictions"
   ]
  },
  {
   "cell_type": "code",
   "execution_count": 22,
   "metadata": {},
   "outputs": [
    {
     "name": "stdout",
     "output_type": "stream",
     "text": [
      "XGBoost R2 Score: 0.9848034829809743\n",
      "LightGBM R2 Score: 0.9850149060972804\n",
      "CatBoost R2 Score: 0.9837376678507641\n",
      "\n",
      "XGBoost RMSE Score: 473.3960414434413\n",
      "LightGBM RMSE Score: 470.0914214999989\n",
      "CatBoost RMSE Score: 489.71567483065314\n",
      "\n",
      "XGBoost MAE Score: 308.78272181417975\n",
      "LightGBM MAE Score: 297.4239127999638\n",
      "CatBoost MAE Score: 316.41304963760973\n",
      "\n"
     ]
    }
   ],
   "source": [
    "predict_y_xg = bayes_search_xg.predict(test_x)\n",
    "predict_y_lg = bayes_search_lg.predict(test_x)\n",
    "predict_y_cb = bayes_search_cb.predict(test_x)\n",
    "\n",
    "print('XGBoost R2 Score: {}'.format(r2_score(test_y, predict_y_xg)))\n",
    "print('LightGBM R2 Score: {}'.format(r2_score(test_y, predict_y_lg)))\n",
    "print('CatBoost R2 Score: {}\\n'.format(r2_score(test_y, predict_y_cb)))\n",
    "\n",
    "print('XGBoost RMSE Score: {}'.format(math.sqrt(mean_squared_error(test_y, predict_y_xg))))\n",
    "print('LightGBM RMSE Score: {}'.format(math.sqrt(mean_squared_error(test_y, predict_y_lg))))\n",
    "print('CatBoost RMSE Score: {}\\n'.format(math.sqrt(mean_squared_error(test_y, predict_y_cb))))\n",
    "\n",
    "print('XGBoost MAE Score: {}'.format(mean_absolute_error(test_y, predict_y_xg)))\n",
    "print('LightGBM MAE Score: {}'.format(mean_absolute_error(test_y, predict_y_lg)))\n",
    "print('CatBoost MAE Score: {}\\n'.format(mean_absolute_error(test_y, predict_y_cb)))"
   ]
  },
  {
   "cell_type": "markdown",
   "metadata": {},
   "source": [
    "# Early Stopping"
   ]
  },
  {
   "cell_type": "markdown",
   "metadata": {},
   "source": [
    "### xgboost"
   ]
  },
  {
   "cell_type": "code",
   "execution_count": 9,
   "metadata": {},
   "outputs": [],
   "source": [
    "train_xg = xgb.DMatrix(train_x, train_y)\n",
    "params_xg = {\"objective\": 'reg:linear',\n",
    "             'eval_metric': 'rmse',\n",
    "             'silent': 1\n",
    "}\n",
    "validation_xg = xgb.DMatrix(test_x, test_y)\n",
    "watchlist  = [(train_xg,'train'),(validation_xg,'eval')]"
   ]
  },
  {
   "cell_type": "code",
   "execution_count": 10,
   "metadata": {},
   "outputs": [
    {
     "name": "stdout",
     "output_type": "stream",
     "text": [
      "[0]\ttrain-rmse:4987.38\teval-rmse:5045.6\n",
      "Multiple eval metrics have been passed: 'eval-rmse' will be used for early stopping.\n",
      "\n",
      "Will train until eval-rmse hasn't improved in 10 rounds.\n",
      "[10]\ttrain-rmse:930.629\teval-rmse:989.363\n",
      "[20]\ttrain-rmse:803.924\teval-rmse:848.51\n",
      "[30]\ttrain-rmse:723.601\teval-rmse:769.458\n",
      "[40]\ttrain-rmse:662.337\teval-rmse:708.054\n",
      "[50]\ttrain-rmse:611.971\teval-rmse:661.209\n",
      "[60]\ttrain-rmse:576.525\teval-rmse:629.574\n",
      "[70]\ttrain-rmse:555.81\teval-rmse:610.509\n",
      "[80]\ttrain-rmse:535.494\teval-rmse:590.706\n",
      "[90]\ttrain-rmse:522.09\teval-rmse:579.964\n",
      "[100]\ttrain-rmse:506.527\teval-rmse:565.162\n",
      "[110]\ttrain-rmse:494.181\teval-rmse:555.372\n",
      "[120]\ttrain-rmse:482.999\teval-rmse:545.271\n",
      "[130]\ttrain-rmse:474.449\teval-rmse:538.903\n",
      "[140]\ttrain-rmse:467.323\teval-rmse:532.778\n",
      "[150]\ttrain-rmse:460.324\teval-rmse:528.181\n",
      "[160]\ttrain-rmse:454.31\teval-rmse:523.906\n",
      "[170]\ttrain-rmse:445.942\teval-rmse:517.821\n",
      "[180]\ttrain-rmse:440.297\teval-rmse:514.189\n",
      "[190]\ttrain-rmse:436.293\teval-rmse:512.824\n",
      "[200]\ttrain-rmse:431.75\teval-rmse:509.156\n",
      "[210]\ttrain-rmse:427.46\teval-rmse:506.417\n",
      "[220]\ttrain-rmse:424.038\teval-rmse:504.456\n",
      "[230]\ttrain-rmse:420.614\teval-rmse:501.706\n",
      "[240]\ttrain-rmse:416.751\teval-rmse:499.572\n",
      "[250]\ttrain-rmse:413.776\teval-rmse:498.07\n",
      "[260]\ttrain-rmse:411.047\teval-rmse:496.288\n",
      "[270]\ttrain-rmse:408.431\teval-rmse:494.922\n",
      "[280]\ttrain-rmse:405.63\teval-rmse:493.342\n",
      "[290]\ttrain-rmse:403.211\teval-rmse:491.928\n",
      "[300]\ttrain-rmse:400.81\teval-rmse:490.982\n",
      "[310]\ttrain-rmse:398.788\teval-rmse:490.077\n",
      "[320]\ttrain-rmse:397.422\teval-rmse:489.429\n",
      "[330]\ttrain-rmse:395.495\teval-rmse:488.368\n",
      "[340]\ttrain-rmse:393.23\teval-rmse:487.045\n",
      "[350]\ttrain-rmse:391.171\teval-rmse:486.039\n",
      "[360]\ttrain-rmse:389.257\teval-rmse:485.497\n",
      "[370]\ttrain-rmse:387.744\teval-rmse:485.09\n",
      "[380]\ttrain-rmse:386.165\teval-rmse:484.297\n",
      "[390]\ttrain-rmse:384.535\teval-rmse:483.599\n",
      "[400]\ttrain-rmse:382.631\teval-rmse:482.753\n",
      "[410]\ttrain-rmse:381.324\teval-rmse:482.702\n",
      "[420]\ttrain-rmse:380.251\teval-rmse:482.341\n",
      "[430]\ttrain-rmse:378.802\teval-rmse:481.628\n",
      "[440]\ttrain-rmse:376.948\teval-rmse:480.597\n",
      "[450]\ttrain-rmse:375.606\teval-rmse:480.829\n",
      "Stopping. Best iteration:\n",
      "[441]\ttrain-rmse:376.862\teval-rmse:480.588\n",
      "\n",
      "CPU times: user 5min 7s, sys: 1.22 s, total: 5min 8s\n",
      "Wall time: 5min 11s\n"
     ]
    }
   ],
   "source": [
    "%%time\n",
    "model_xg = xgb.train(params_xg, train_xg, num_boost_round=9999, evals=watchlist, early_stopping_rounds=10, verbose_eval=10)"
   ]
  },
  {
   "cell_type": "markdown",
   "metadata": {},
   "source": [
    "### lightgbm"
   ]
  },
  {
   "cell_type": "code",
   "execution_count": 11,
   "metadata": {},
   "outputs": [],
   "source": [
    "train_lg = lgbm.Dataset(train_x, train_y)\n",
    "params_lg = {'task': 'train',\n",
    "            'objective': 'regression',\n",
    "            'metric': 'rmse'}\n",
    "validation_lg = lgbm.Dataset(test_x, test_y, reference=train_lg)"
   ]
  },
  {
   "cell_type": "code",
   "execution_count": 12,
   "metadata": {},
   "outputs": [
    {
     "name": "stdout",
     "output_type": "stream",
     "text": [
      "Training until validation scores don't improve for 10 rounds.\n",
      "[10]\tvalid_0's rmse: 1772.68\n",
      "[20]\tvalid_0's rmse: 1181.19\n",
      "[30]\tvalid_0's rmse: 1007.85\n",
      "[40]\tvalid_0's rmse: 934.314\n",
      "[50]\tvalid_0's rmse: 884.104\n",
      "[60]\tvalid_0's rmse: 841.211\n",
      "[70]\tvalid_0's rmse: 806.982\n",
      "[80]\tvalid_0's rmse: 782.903\n",
      "[90]\tvalid_0's rmse: 762.026\n",
      "[100]\tvalid_0's rmse: 743.001\n",
      "[110]\tvalid_0's rmse: 724.934\n",
      "[120]\tvalid_0's rmse: 708.632\n",
      "[130]\tvalid_0's rmse: 696.25\n",
      "[140]\tvalid_0's rmse: 682.187\n",
      "[150]\tvalid_0's rmse: 670.446\n",
      "[160]\tvalid_0's rmse: 657.355\n",
      "[170]\tvalid_0's rmse: 648.667\n",
      "[180]\tvalid_0's rmse: 639.145\n",
      "[190]\tvalid_0's rmse: 629.553\n",
      "[200]\tvalid_0's rmse: 620.95\n",
      "[210]\tvalid_0's rmse: 611.825\n",
      "[220]\tvalid_0's rmse: 605.192\n",
      "[230]\tvalid_0's rmse: 599.403\n",
      "[240]\tvalid_0's rmse: 592.047\n",
      "[250]\tvalid_0's rmse: 586.043\n",
      "[260]\tvalid_0's rmse: 581.254\n",
      "[270]\tvalid_0's rmse: 576.751\n",
      "[280]\tvalid_0's rmse: 572.125\n",
      "[290]\tvalid_0's rmse: 567.635\n",
      "[300]\tvalid_0's rmse: 565.404\n",
      "[310]\tvalid_0's rmse: 560.348\n",
      "[320]\tvalid_0's rmse: 555.83\n",
      "[330]\tvalid_0's rmse: 551.293\n",
      "[340]\tvalid_0's rmse: 546.808\n",
      "[350]\tvalid_0's rmse: 542.654\n",
      "[360]\tvalid_0's rmse: 540.454\n",
      "[370]\tvalid_0's rmse: 536.562\n",
      "[380]\tvalid_0's rmse: 535.061\n",
      "[390]\tvalid_0's rmse: 532.34\n",
      "[400]\tvalid_0's rmse: 529.051\n",
      "[410]\tvalid_0's rmse: 527.265\n",
      "[420]\tvalid_0's rmse: 525.821\n",
      "[430]\tvalid_0's rmse: 523.971\n",
      "[440]\tvalid_0's rmse: 522.617\n",
      "[450]\tvalid_0's rmse: 521.362\n",
      "[460]\tvalid_0's rmse: 519.35\n",
      "[470]\tvalid_0's rmse: 517.642\n",
      "[480]\tvalid_0's rmse: 515.908\n",
      "[490]\tvalid_0's rmse: 514.632\n",
      "[500]\tvalid_0's rmse: 514.617\n",
      "[510]\tvalid_0's rmse: 513.091\n",
      "[520]\tvalid_0's rmse: 511.614\n",
      "[530]\tvalid_0's rmse: 510.016\n",
      "[540]\tvalid_0's rmse: 509.413\n",
      "[550]\tvalid_0's rmse: 508.865\n",
      "[560]\tvalid_0's rmse: 507.806\n",
      "[570]\tvalid_0's rmse: 506.468\n",
      "[580]\tvalid_0's rmse: 505.52\n",
      "[590]\tvalid_0's rmse: 504.803\n",
      "[600]\tvalid_0's rmse: 504.203\n",
      "[610]\tvalid_0's rmse: 503.625\n",
      "[620]\tvalid_0's rmse: 502.4\n",
      "[630]\tvalid_0's rmse: 501.474\n",
      "[640]\tvalid_0's rmse: 500.691\n",
      "[650]\tvalid_0's rmse: 499.81\n",
      "[660]\tvalid_0's rmse: 499.339\n",
      "[670]\tvalid_0's rmse: 498.3\n",
      "[680]\tvalid_0's rmse: 497.453\n",
      "[690]\tvalid_0's rmse: 496.707\n",
      "[700]\tvalid_0's rmse: 496.339\n",
      "[710]\tvalid_0's rmse: 495.633\n",
      "[720]\tvalid_0's rmse: 495.152\n",
      "[730]\tvalid_0's rmse: 494.091\n",
      "[740]\tvalid_0's rmse: 493.618\n",
      "[750]\tvalid_0's rmse: 493.182\n",
      "[760]\tvalid_0's rmse: 492.673\n",
      "[770]\tvalid_0's rmse: 492.195\n",
      "[780]\tvalid_0's rmse: 491.568\n",
      "[790]\tvalid_0's rmse: 491.052\n",
      "[800]\tvalid_0's rmse: 490.749\n",
      "[810]\tvalid_0's rmse: 490.447\n",
      "[820]\tvalid_0's rmse: 490.071\n",
      "[830]\tvalid_0's rmse: 489.697\n",
      "[840]\tvalid_0's rmse: 489.381\n",
      "[850]\tvalid_0's rmse: 488.739\n",
      "[860]\tvalid_0's rmse: 488.464\n",
      "[870]\tvalid_0's rmse: 488.155\n",
      "[880]\tvalid_0's rmse: 487.964\n",
      "[890]\tvalid_0's rmse: 487.589\n",
      "[900]\tvalid_0's rmse: 487.209\n",
      "[910]\tvalid_0's rmse: 486.929\n",
      "[920]\tvalid_0's rmse: 486.697\n",
      "[930]\tvalid_0's rmse: 486.392\n",
      "[940]\tvalid_0's rmse: 485.911\n",
      "[950]\tvalid_0's rmse: 485.527\n",
      "[960]\tvalid_0's rmse: 485.335\n",
      "[970]\tvalid_0's rmse: 485.171\n",
      "[980]\tvalid_0's rmse: 484.719\n",
      "[990]\tvalid_0's rmse: 484.422\n",
      "[1000]\tvalid_0's rmse: 483.938\n",
      "[1010]\tvalid_0's rmse: 483.763\n",
      "[1020]\tvalid_0's rmse: 483.409\n",
      "[1030]\tvalid_0's rmse: 483.145\n",
      "[1040]\tvalid_0's rmse: 482.918\n",
      "[1050]\tvalid_0's rmse: 482.575\n",
      "[1060]\tvalid_0's rmse: 482.162\n",
      "[1070]\tvalid_0's rmse: 482.023\n",
      "[1080]\tvalid_0's rmse: 481.906\n",
      "[1090]\tvalid_0's rmse: 481.779\n",
      "[1100]\tvalid_0's rmse: 481.632\n",
      "[1110]\tvalid_0's rmse: 481.322\n",
      "[1120]\tvalid_0's rmse: 480.902\n",
      "[1130]\tvalid_0's rmse: 480.804\n",
      "[1140]\tvalid_0's rmse: 480.552\n",
      "[1150]\tvalid_0's rmse: 480.433\n",
      "[1160]\tvalid_0's rmse: 480.29\n",
      "[1170]\tvalid_0's rmse: 480.065\n",
      "[1180]\tvalid_0's rmse: 479.742\n",
      "[1190]\tvalid_0's rmse: 479.535\n",
      "[1200]\tvalid_0's rmse: 479.26\n",
      "[1210]\tvalid_0's rmse: 479.066\n",
      "[1220]\tvalid_0's rmse: 478.844\n",
      "[1230]\tvalid_0's rmse: 478.695\n",
      "[1240]\tvalid_0's rmse: 478.563\n",
      "[1250]\tvalid_0's rmse: 478.404\n",
      "[1260]\tvalid_0's rmse: 478.245\n",
      "[1270]\tvalid_0's rmse: 478.029\n",
      "[1280]\tvalid_0's rmse: 477.818\n",
      "[1290]\tvalid_0's rmse: 477.692\n",
      "[1300]\tvalid_0's rmse: 477.716\n",
      "Early stopping, best iteration is:\n",
      "[1296]\tvalid_0's rmse: 477.615\n",
      "CPU times: user 1min 19s, sys: 461 ms, total: 1min 20s\n",
      "Wall time: 20.9 s\n"
     ]
    }
   ],
   "source": [
    "%%time\n",
    "model_lg = lgbm.train(params_lg, train_lg, valid_sets=validation_lg, num_boost_round=9999, early_stopping_rounds=10, verbose_eval=10)"
   ]
  },
  {
   "cell_type": "markdown",
   "metadata": {},
   "source": [
    "### catboost"
   ]
  },
  {
   "cell_type": "code",
   "execution_count": 15,
   "metadata": {},
   "outputs": [],
   "source": [
    "train_cb = cb.Pool(train_x, train_y)\n",
    "params_cb = {'eval_metric': 'RMSE',\n",
    "            'od_type': 'Iter',\n",
    "             'iterations': 9999,\n",
    "            'od_wait': 10,\n",
    "            'use_best_model': True,\n",
    "            'verbose': 10,\n",
    "            'metric_period': 10}\n",
    "validation_cb = cb.Pool(test_x, test_y)"
   ]
  },
  {
   "cell_type": "code",
   "execution_count": 16,
   "metadata": {},
   "outputs": [
    {
     "name": "stderr",
     "output_type": "stream",
     "text": [
      "Warning: Overfitting detector is active, thus evaluation metric is calculated on every iteration. 'metric_period' is ignored for evaluation metric.\n"
     ]
    },
    {
     "name": "stdout",
     "output_type": "stream",
     "text": [
      "0:\tlearn: 6810.0764866\ttest: 6827.7410514\tbest: 6827.7410514 (0)\ttotal: 114ms\tremaining: 19m 1s\n",
      "10:\tlearn: 5130.5640687\ttest: 5182.6285243\tbest: 5182.6285243 (10)\ttotal: 707ms\tremaining: 10m 41s\n",
      "20:\tlearn: 3907.5385344\ttest: 3981.1025695\tbest: 3981.1025695 (20)\ttotal: 1.17s\tremaining: 9m 17s\n",
      "30:\tlearn: 3029.3545621\ttest: 3116.8937823\tbest: 3116.8937823 (30)\ttotal: 1.66s\tremaining: 8m 54s\n",
      "40:\tlearn: 2402.0262843\ttest: 2497.8124817\tbest: 2497.8124817 (40)\ttotal: 2.13s\tremaining: 8m 37s\n",
      "50:\tlearn: 1962.7732155\ttest: 2060.3065656\tbest: 2060.3065656 (50)\ttotal: 2.58s\tremaining: 8m 24s\n",
      "60:\tlearn: 1660.5291298\ttest: 1755.3568194\tbest: 1755.3568194 (60)\ttotal: 3.05s\tremaining: 8m 17s\n",
      "70:\tlearn: 1454.1014148\ttest: 1543.1298546\tbest: 1543.1298546 (70)\ttotal: 3.49s\tremaining: 8m 8s\n",
      "80:\tlearn: 1315.9770891\ttest: 1398.0833191\tbest: 1398.0833191 (80)\ttotal: 3.94s\tremaining: 8m 2s\n",
      "90:\tlearn: 1222.8549363\ttest: 1297.4086883\tbest: 1297.4086883 (90)\ttotal: 4.41s\tremaining: 8m\n",
      "100:\tlearn: 1159.7248967\ttest: 1227.1194479\tbest: 1227.1194479 (100)\ttotal: 4.87s\tremaining: 7m 57s\n",
      "110:\tlearn: 1114.6856633\ttest: 1175.4760825\tbest: 1175.4760825 (110)\ttotal: 5.34s\tremaining: 7m 55s\n",
      "120:\tlearn: 1080.3200902\ttest: 1136.4898701\tbest: 1136.4898701 (120)\ttotal: 5.82s\tremaining: 7m 55s\n",
      "130:\tlearn: 1056.5005185\ttest: 1106.4250213\tbest: 1106.4250213 (130)\ttotal: 6.27s\tremaining: 7m 52s\n",
      "140:\tlearn: 1038.1424108\ttest: 1083.8986934\tbest: 1083.8986934 (140)\ttotal: 6.74s\tremaining: 7m 51s\n",
      "150:\tlearn: 1022.6816527\ttest: 1066.0371907\tbest: 1066.0371907 (150)\ttotal: 7.21s\tremaining: 7m 50s\n",
      "160:\tlearn: 1009.4849818\ttest: 1051.1146258\tbest: 1051.1146258 (160)\ttotal: 7.68s\tremaining: 7m 49s\n",
      "170:\tlearn: 998.4356768\ttest: 1039.0052854\tbest: 1039.0052854 (170)\ttotal: 8.14s\tremaining: 7m 48s\n",
      "180:\tlearn: 987.9453994\ttest: 1027.5625166\tbest: 1027.5625166 (180)\ttotal: 8.59s\tremaining: 7m 46s\n",
      "190:\tlearn: 979.0017493\ttest: 1018.0758578\tbest: 1018.0758578 (190)\ttotal: 9.06s\tremaining: 7m 45s\n",
      "200:\tlearn: 971.4720567\ttest: 1010.5862380\tbest: 1010.5862380 (200)\ttotal: 9.52s\tremaining: 7m 44s\n",
      "210:\tlearn: 964.9600873\ttest: 1003.3820326\tbest: 1003.3820326 (210)\ttotal: 9.98s\tremaining: 7m 42s\n",
      "220:\tlearn: 959.2670489\ttest: 997.2846572\tbest: 997.2846572 (220)\ttotal: 10.4s\tremaining: 7m 40s\n",
      "230:\tlearn: 952.3344418\ttest: 989.9396287\tbest: 989.9396287 (230)\ttotal: 10.8s\tremaining: 7m 38s\n",
      "240:\tlearn: 946.0465936\ttest: 983.7041738\tbest: 983.7041738 (240)\ttotal: 11.4s\tremaining: 7m 40s\n",
      "250:\tlearn: 939.6207392\ttest: 977.2642099\tbest: 977.2642099 (250)\ttotal: 11.8s\tremaining: 7m 39s\n",
      "260:\tlearn: 933.4535809\ttest: 971.2520474\tbest: 971.2520474 (260)\ttotal: 12.3s\tremaining: 7m 37s\n",
      "270:\tlearn: 927.3457608\ttest: 964.8916477\tbest: 964.8916477 (270)\ttotal: 12.7s\tremaining: 7m 36s\n",
      "280:\tlearn: 921.9065086\ttest: 959.3543283\tbest: 959.3543283 (280)\ttotal: 13.2s\tremaining: 7m 34s\n",
      "290:\tlearn: 916.8543572\ttest: 953.8092180\tbest: 953.8092180 (290)\ttotal: 13.7s\tremaining: 7m 36s\n",
      "300:\tlearn: 911.8502720\ttest: 948.6808747\tbest: 948.6808747 (300)\ttotal: 14.1s\tremaining: 7m 35s\n",
      "310:\tlearn: 907.0233175\ttest: 943.7282249\tbest: 943.7282249 (310)\ttotal: 14.6s\tremaining: 7m 34s\n",
      "320:\tlearn: 902.4900086\ttest: 939.5379317\tbest: 939.5379317 (320)\ttotal: 15s\tremaining: 7m 32s\n",
      "330:\tlearn: 897.7701280\ttest: 934.0227718\tbest: 934.0227718 (330)\ttotal: 15.5s\tremaining: 7m 33s\n",
      "340:\tlearn: 892.9962569\ttest: 929.5671751\tbest: 929.5671751 (340)\ttotal: 16s\tremaining: 7m 33s\n",
      "350:\tlearn: 888.8271767\ttest: 925.7176996\tbest: 925.7176996 (350)\ttotal: 16.5s\tremaining: 7m 34s\n",
      "360:\tlearn: 884.5770346\ttest: 920.7978445\tbest: 920.7978445 (360)\ttotal: 17.1s\tremaining: 7m 35s\n",
      "370:\tlearn: 880.2488815\ttest: 916.6870480\tbest: 916.6870480 (370)\ttotal: 17.6s\tremaining: 7m 36s\n",
      "380:\tlearn: 877.1483026\ttest: 913.9356468\tbest: 913.9356468 (380)\ttotal: 18.1s\tremaining: 7m 35s\n",
      "390:\tlearn: 872.8237457\ttest: 909.2261758\tbest: 909.2261758 (390)\ttotal: 18.5s\tremaining: 7m 34s\n",
      "400:\tlearn: 868.9737306\ttest: 905.4958063\tbest: 905.4958063 (400)\ttotal: 18.9s\tremaining: 7m 32s\n",
      "410:\tlearn: 864.3850336\ttest: 901.0053741\tbest: 901.0053741 (410)\ttotal: 19.4s\tremaining: 7m 32s\n",
      "420:\tlearn: 860.6713086\ttest: 897.5652595\tbest: 897.5652595 (420)\ttotal: 19.8s\tremaining: 7m 31s\n",
      "430:\tlearn: 857.4637563\ttest: 894.2914973\tbest: 894.2914973 (430)\ttotal: 20.2s\tremaining: 7m 29s\n",
      "440:\tlearn: 854.2146630\ttest: 891.2200972\tbest: 891.2200972 (440)\ttotal: 20.7s\tremaining: 7m 28s\n",
      "450:\tlearn: 851.0669526\ttest: 888.2839282\tbest: 888.2839282 (450)\ttotal: 21.1s\tremaining: 7m 26s\n",
      "460:\tlearn: 847.3503788\ttest: 884.4760867\tbest: 884.4760867 (460)\ttotal: 21.5s\tremaining: 7m 25s\n",
      "470:\tlearn: 843.7657032\ttest: 881.0907895\tbest: 881.0907895 (470)\ttotal: 22s\tremaining: 7m 24s\n",
      "480:\tlearn: 840.1523092\ttest: 876.8217465\tbest: 876.8217465 (480)\ttotal: 22.4s\tremaining: 7m 23s\n",
      "490:\tlearn: 835.7668792\ttest: 872.4581482\tbest: 872.4581482 (490)\ttotal: 22.9s\tremaining: 7m 22s\n",
      "500:\tlearn: 832.1845134\ttest: 868.8199442\tbest: 868.8199442 (500)\ttotal: 23.3s\tremaining: 7m 21s\n",
      "510:\tlearn: 829.0516844\ttest: 865.9595245\tbest: 865.9595245 (510)\ttotal: 23.7s\tremaining: 7m 19s\n",
      "520:\tlearn: 826.2141837\ttest: 863.0667850\tbest: 863.0667850 (520)\ttotal: 24.1s\tremaining: 7m 18s\n",
      "530:\tlearn: 822.5886487\ttest: 859.3895014\tbest: 859.3895014 (530)\ttotal: 24.5s\tremaining: 7m 17s\n",
      "540:\tlearn: 819.2867656\ttest: 855.8400618\tbest: 855.8400618 (540)\ttotal: 25s\tremaining: 7m 16s\n",
      "550:\tlearn: 816.0562624\ttest: 852.8788938\tbest: 852.8788938 (550)\ttotal: 25.4s\tremaining: 7m 15s\n",
      "560:\tlearn: 813.0340132\ttest: 849.8658184\tbest: 849.8658184 (560)\ttotal: 25.9s\tremaining: 7m 15s\n",
      "570:\tlearn: 810.0192635\ttest: 846.8797011\tbest: 846.8797011 (570)\ttotal: 26.3s\tremaining: 7m 14s\n",
      "580:\tlearn: 807.0867321\ttest: 844.1742692\tbest: 844.1742692 (580)\ttotal: 26.7s\tremaining: 7m 13s\n",
      "590:\tlearn: 804.7334465\ttest: 841.5665231\tbest: 841.5665231 (590)\ttotal: 27.2s\tremaining: 7m 12s\n",
      "600:\tlearn: 802.1457150\ttest: 838.5129698\tbest: 838.5129698 (600)\ttotal: 27.6s\tremaining: 7m 11s\n",
      "610:\tlearn: 799.6714362\ttest: 836.2015703\tbest: 836.2015703 (610)\ttotal: 28s\tremaining: 7m 10s\n",
      "620:\tlearn: 797.0424670\ttest: 833.6029378\tbest: 833.6029378 (620)\ttotal: 28.4s\tremaining: 7m 9s\n",
      "630:\tlearn: 794.8827396\ttest: 831.6347663\tbest: 831.6347663 (630)\ttotal: 28.8s\tremaining: 7m 8s\n",
      "640:\tlearn: 792.3663178\ttest: 829.0574567\tbest: 829.0574567 (640)\ttotal: 29.3s\tremaining: 7m 8s\n",
      "650:\tlearn: 788.9143376\ttest: 825.5017569\tbest: 825.5017569 (650)\ttotal: 29.8s\tremaining: 7m 7s\n",
      "660:\tlearn: 785.6879891\ttest: 822.3480487\tbest: 822.3480487 (660)\ttotal: 30.2s\tremaining: 7m 7s\n",
      "670:\tlearn: 783.2766750\ttest: 819.8073397\tbest: 819.8073397 (670)\ttotal: 30.7s\tremaining: 7m 6s\n",
      "680:\tlearn: 780.3904221\ttest: 816.9436627\tbest: 816.9436627 (680)\ttotal: 31.1s\tremaining: 7m 5s\n",
      "690:\tlearn: 777.5956701\ttest: 814.1928072\tbest: 814.1928072 (690)\ttotal: 31.5s\tremaining: 7m 4s\n",
      "700:\tlearn: 775.5983355\ttest: 812.2330885\tbest: 812.2330885 (700)\ttotal: 31.9s\tremaining: 7m 3s\n",
      "710:\tlearn: 772.8508656\ttest: 809.2773446\tbest: 809.2773446 (710)\ttotal: 32.3s\tremaining: 7m 2s\n",
      "720:\tlearn: 770.1825005\ttest: 806.7710040\tbest: 806.7710040 (720)\ttotal: 32.8s\tremaining: 7m 1s\n",
      "730:\tlearn: 768.1759070\ttest: 804.9909625\tbest: 804.9909625 (730)\ttotal: 33.3s\tremaining: 7m 2s\n",
      "740:\tlearn: 765.3393315\ttest: 802.0691745\tbest: 802.0691745 (740)\ttotal: 33.8s\tremaining: 7m 1s\n",
      "750:\tlearn: 763.0792622\ttest: 799.7724808\tbest: 799.7724808 (750)\ttotal: 34.2s\tremaining: 7m 1s\n",
      "760:\tlearn: 760.7237562\ttest: 797.5256411\tbest: 797.5256411 (760)\ttotal: 34.6s\tremaining: 7m\n",
      "770:\tlearn: 758.3671709\ttest: 795.1429553\tbest: 795.1429553 (770)\ttotal: 35.1s\tremaining: 6m 59s\n",
      "780:\tlearn: 755.6873315\ttest: 792.5602606\tbest: 792.5602606 (780)\ttotal: 35.5s\tremaining: 6m 59s\n",
      "790:\tlearn: 753.5775950\ttest: 790.4745734\tbest: 790.4745734 (790)\ttotal: 36s\tremaining: 6m 58s\n",
      "800:\tlearn: 751.3660624\ttest: 788.4562328\tbest: 788.4562328 (800)\ttotal: 36.5s\tremaining: 6m 58s\n",
      "810:\tlearn: 749.3083396\ttest: 786.3932988\tbest: 786.3932988 (810)\ttotal: 37s\tremaining: 6m 58s\n",
      "820:\tlearn: 747.3817759\ttest: 784.5088799\tbest: 784.5088799 (820)\ttotal: 37.4s\tremaining: 6m 58s\n",
      "830:\tlearn: 745.2962980\ttest: 782.3917366\tbest: 782.3917366 (830)\ttotal: 37.9s\tremaining: 6m 57s\n",
      "840:\tlearn: 743.0188466\ttest: 779.9881283\tbest: 779.9881283 (840)\ttotal: 38.3s\tremaining: 6m 57s\n"
     ]
    },
    {
     "name": "stdout",
     "output_type": "stream",
     "text": [
      "850:\tlearn: 740.7660110\ttest: 777.9346945\tbest: 777.9346945 (850)\ttotal: 38.7s\tremaining: 6m 56s\n",
      "860:\tlearn: 738.6183092\ttest: 775.8176598\tbest: 775.8176598 (860)\ttotal: 39.2s\tremaining: 6m 55s\n",
      "870:\tlearn: 736.7788329\ttest: 774.0944749\tbest: 774.0944749 (870)\ttotal: 39.6s\tremaining: 6m 55s\n",
      "880:\tlearn: 734.8540466\ttest: 772.2045955\tbest: 772.2045955 (880)\ttotal: 40.1s\tremaining: 6m 54s\n",
      "890:\tlearn: 732.8393197\ttest: 770.3438329\tbest: 770.3438329 (890)\ttotal: 40.5s\tremaining: 6m 54s\n",
      "900:\tlearn: 730.6713824\ttest: 768.2028371\tbest: 768.2028371 (900)\ttotal: 40.9s\tremaining: 6m 53s\n",
      "910:\tlearn: 729.0563085\ttest: 766.6125133\tbest: 766.6125133 (910)\ttotal: 41.3s\tremaining: 6m 52s\n",
      "920:\tlearn: 726.7160361\ttest: 764.2564049\tbest: 764.2564049 (920)\ttotal: 41.8s\tremaining: 6m 51s\n",
      "930:\tlearn: 724.1621749\ttest: 761.6468888\tbest: 761.6468888 (930)\ttotal: 42.2s\tremaining: 6m 51s\n",
      "940:\tlearn: 722.2785406\ttest: 759.8527476\tbest: 759.8527476 (940)\ttotal: 42.6s\tremaining: 6m 50s\n",
      "950:\tlearn: 720.0228898\ttest: 757.3436106\tbest: 757.3436106 (950)\ttotal: 43.1s\tremaining: 6m 50s\n",
      "960:\tlearn: 717.7628005\ttest: 755.1455470\tbest: 755.1455470 (960)\ttotal: 43.6s\tremaining: 6m 50s\n",
      "970:\tlearn: 715.6850641\ttest: 753.2145027\tbest: 753.2145027 (970)\ttotal: 44.1s\tremaining: 6m 49s\n",
      "980:\tlearn: 713.5951117\ttest: 751.1682610\tbest: 751.1682610 (980)\ttotal: 44.5s\tremaining: 6m 49s\n",
      "990:\tlearn: 711.5750630\ttest: 749.2765289\tbest: 749.2765289 (990)\ttotal: 44.9s\tremaining: 6m 48s\n",
      "1000:\tlearn: 709.4179236\ttest: 747.1978222\tbest: 747.1978222 (1000)\ttotal: 45.4s\tremaining: 6m 47s\n",
      "1010:\tlearn: 707.8299377\ttest: 745.5556453\tbest: 745.5556453 (1010)\ttotal: 45.8s\tremaining: 6m 47s\n",
      "1020:\tlearn: 706.1297146\ttest: 743.7698454\tbest: 743.7698454 (1020)\ttotal: 46.2s\tremaining: 6m 46s\n",
      "1030:\tlearn: 704.0803593\ttest: 741.7260574\tbest: 741.7260574 (1030)\ttotal: 46.7s\tremaining: 6m 46s\n",
      "1040:\tlearn: 702.2433081\ttest: 739.8862861\tbest: 739.8862861 (1040)\ttotal: 47.1s\tremaining: 6m 45s\n",
      "1050:\tlearn: 700.5566367\ttest: 738.2768717\tbest: 738.2768717 (1050)\ttotal: 47.6s\tremaining: 6m 44s\n",
      "1060:\tlearn: 698.7317425\ttest: 736.5075145\tbest: 736.5075145 (1060)\ttotal: 48s\tremaining: 6m 44s\n",
      "1070:\tlearn: 696.8232414\ttest: 734.7035711\tbest: 734.7035711 (1070)\ttotal: 48.4s\tremaining: 6m 43s\n",
      "1080:\tlearn: 695.3132519\ttest: 733.2445700\tbest: 733.2445700 (1080)\ttotal: 48.8s\tremaining: 6m 42s\n",
      "1090:\tlearn: 694.3159191\ttest: 732.3449400\tbest: 732.3449400 (1090)\ttotal: 49.3s\tremaining: 6m 42s\n",
      "1100:\tlearn: 692.5241796\ttest: 730.5365661\tbest: 730.5365661 (1100)\ttotal: 49.7s\tremaining: 6m 41s\n",
      "1110:\tlearn: 691.1694910\ttest: 729.2709433\tbest: 729.2709433 (1110)\ttotal: 50.1s\tremaining: 6m 41s\n",
      "1120:\tlearn: 689.5632698\ttest: 727.7724523\tbest: 727.7724523 (1120)\ttotal: 50.6s\tremaining: 6m 40s\n",
      "1130:\tlearn: 687.6257122\ttest: 725.8472641\tbest: 725.8472641 (1130)\ttotal: 51s\tremaining: 6m 39s\n",
      "1140:\tlearn: 686.1089510\ttest: 724.3652662\tbest: 724.3652662 (1140)\ttotal: 51.4s\tremaining: 6m 39s\n",
      "1150:\tlearn: 684.4694557\ttest: 722.8998032\tbest: 722.8998032 (1150)\ttotal: 51.9s\tremaining: 6m 38s\n",
      "1160:\tlearn: 682.9216130\ttest: 721.4624841\tbest: 721.4624841 (1160)\ttotal: 52.3s\tremaining: 6m 38s\n",
      "1170:\tlearn: 681.3245135\ttest: 719.8953055\tbest: 719.8953055 (1170)\ttotal: 52.7s\tremaining: 6m 37s\n",
      "1180:\tlearn: 679.4329008\ttest: 718.0492235\tbest: 718.0492235 (1180)\ttotal: 53.1s\tremaining: 6m 36s\n",
      "1190:\tlearn: 677.7206530\ttest: 716.4372200\tbest: 716.4372200 (1190)\ttotal: 53.6s\tremaining: 6m 36s\n",
      "1200:\tlearn: 676.2520775\ttest: 714.7584621\tbest: 714.7584621 (1200)\ttotal: 54s\tremaining: 6m 35s\n",
      "1210:\tlearn: 674.4615175\ttest: 713.0141688\tbest: 713.0141688 (1210)\ttotal: 54.4s\tremaining: 6m 35s\n",
      "1220:\tlearn: 672.8542510\ttest: 711.2668005\tbest: 711.2668005 (1220)\ttotal: 54.9s\tremaining: 6m 34s\n",
      "1230:\tlearn: 671.5181910\ttest: 709.9784202\tbest: 709.9784202 (1230)\ttotal: 55.3s\tremaining: 6m 33s\n",
      "1240:\tlearn: 669.9565128\ttest: 708.4818573\tbest: 708.4818573 (1240)\ttotal: 55.7s\tremaining: 6m 33s\n",
      "1250:\tlearn: 668.2968642\ttest: 706.9668720\tbest: 706.9668720 (1250)\ttotal: 56.2s\tremaining: 6m 32s\n",
      "1260:\tlearn: 667.0433495\ttest: 705.8015174\tbest: 705.8015174 (1260)\ttotal: 56.6s\tremaining: 6m 32s\n",
      "1270:\tlearn: 665.6235516\ttest: 704.3838627\tbest: 704.3838627 (1270)\ttotal: 57s\tremaining: 6m 31s\n",
      "1280:\tlearn: 664.3927081\ttest: 703.1936587\tbest: 703.1936587 (1280)\ttotal: 57.4s\tremaining: 6m 30s\n",
      "1290:\tlearn: 662.9552261\ttest: 701.6996449\tbest: 701.6996449 (1290)\ttotal: 57.9s\tremaining: 6m 30s\n",
      "1300:\tlearn: 661.5939999\ttest: 700.3902732\tbest: 700.3902732 (1300)\ttotal: 58.3s\tremaining: 6m 29s\n",
      "1310:\tlearn: 660.1807134\ttest: 698.9449159\tbest: 698.9449159 (1310)\ttotal: 58.7s\tremaining: 6m 29s\n",
      "1320:\tlearn: 658.8235607\ttest: 697.6496269\tbest: 697.6496269 (1320)\ttotal: 59.2s\tremaining: 6m 28s\n",
      "1330:\tlearn: 657.5893602\ttest: 696.4462190\tbest: 696.4462190 (1330)\ttotal: 59.6s\tremaining: 6m 28s\n",
      "1340:\tlearn: 656.3390638\ttest: 695.1811908\tbest: 695.1811908 (1340)\ttotal: 1m\tremaining: 6m 27s\n",
      "1350:\tlearn: 655.0249930\ttest: 693.9225638\tbest: 693.9225638 (1350)\ttotal: 1m\tremaining: 6m 26s\n",
      "1360:\tlearn: 653.7542076\ttest: 692.6830079\tbest: 692.6830079 (1360)\ttotal: 1m\tremaining: 6m 26s\n",
      "1370:\tlearn: 652.3309054\ttest: 691.2389914\tbest: 691.2389914 (1370)\ttotal: 1m 1s\tremaining: 6m 26s\n",
      "1380:\tlearn: 650.7894327\ttest: 689.8966353\tbest: 689.8966353 (1380)\ttotal: 1m 1s\tremaining: 6m 25s\n",
      "1390:\tlearn: 649.3173916\ttest: 688.4296699\tbest: 688.4296699 (1390)\ttotal: 1m 2s\tremaining: 6m 24s\n",
      "1400:\tlearn: 648.1621100\ttest: 687.3452957\tbest: 687.3452957 (1400)\ttotal: 1m 2s\tremaining: 6m 24s\n",
      "1410:\tlearn: 646.9035040\ttest: 685.9962045\tbest: 685.9962045 (1410)\ttotal: 1m 3s\tremaining: 6m 23s\n",
      "1420:\tlearn: 645.6641798\ttest: 684.6883836\tbest: 684.6883836 (1420)\ttotal: 1m 3s\tremaining: 6m 23s\n",
      "1430:\tlearn: 644.1962508\ttest: 683.3357594\tbest: 683.3357594 (1430)\ttotal: 1m 3s\tremaining: 6m 22s\n",
      "1440:\tlearn: 642.7283467\ttest: 681.8613337\tbest: 681.8613337 (1440)\ttotal: 1m 4s\tremaining: 6m 22s\n",
      "1450:\tlearn: 641.6067670\ttest: 680.7250635\tbest: 680.7250635 (1450)\ttotal: 1m 4s\tremaining: 6m 21s\n",
      "1460:\tlearn: 640.1385133\ttest: 679.3695199\tbest: 679.3695199 (1460)\ttotal: 1m 5s\tremaining: 6m 21s\n",
      "1470:\tlearn: 638.8951258\ttest: 678.1143819\tbest: 678.1143819 (1470)\ttotal: 1m 5s\tremaining: 6m 20s\n",
      "1480:\tlearn: 637.8363880\ttest: 677.0742922\tbest: 677.0742922 (1480)\ttotal: 1m 6s\tremaining: 6m 20s\n",
      "1490:\tlearn: 636.6391600\ttest: 675.9199206\tbest: 675.9199206 (1490)\ttotal: 1m 6s\tremaining: 6m 19s\n",
      "1500:\tlearn: 635.3305752\ttest: 674.6744650\tbest: 674.6744650 (1500)\ttotal: 1m 6s\tremaining: 6m 19s\n",
      "1510:\tlearn: 634.3891634\ttest: 673.7144253\tbest: 673.7144253 (1510)\ttotal: 1m 7s\tremaining: 6m 18s\n",
      "1520:\tlearn: 633.3160877\ttest: 672.8925623\tbest: 672.8925623 (1520)\ttotal: 1m 7s\tremaining: 6m 18s\n",
      "1530:\tlearn: 632.0025047\ttest: 671.5495238\tbest: 671.5495238 (1530)\ttotal: 1m 8s\tremaining: 6m 17s\n",
      "1540:\tlearn: 631.0621174\ttest: 670.6619378\tbest: 670.6619378 (1540)\ttotal: 1m 8s\tremaining: 6m 17s\n",
      "1550:\tlearn: 630.0835063\ttest: 669.6525920\tbest: 669.6525920 (1550)\ttotal: 1m 9s\tremaining: 6m 16s\n",
      "1560:\tlearn: 629.0317927\ttest: 668.7829971\tbest: 668.7829971 (1560)\ttotal: 1m 9s\tremaining: 6m 15s\n",
      "1570:\tlearn: 628.1536501\ttest: 668.0635585\tbest: 668.0635585 (1570)\ttotal: 1m 9s\tremaining: 6m 15s\n",
      "1580:\tlearn: 627.2192624\ttest: 667.2124023\tbest: 667.2124023 (1580)\ttotal: 1m 10s\tremaining: 6m 14s\n",
      "1590:\tlearn: 626.2087743\ttest: 666.1932209\tbest: 666.1932209 (1590)\ttotal: 1m 10s\tremaining: 6m 14s\n",
      "1600:\tlearn: 625.2227988\ttest: 665.2207925\tbest: 665.2207925 (1600)\ttotal: 1m 11s\tremaining: 6m 13s\n",
      "1610:\tlearn: 624.1024104\ttest: 664.1513208\tbest: 664.1513208 (1610)\ttotal: 1m 11s\tremaining: 6m 13s\n",
      "1620:\tlearn: 623.0603302\ttest: 663.0890856\tbest: 663.0890856 (1620)\ttotal: 1m 12s\tremaining: 6m 12s\n",
      "1630:\tlearn: 622.0103869\ttest: 662.0074478\tbest: 662.0074478 (1630)\ttotal: 1m 12s\tremaining: 6m 12s\n",
      "1640:\tlearn: 621.2492952\ttest: 661.1862793\tbest: 661.1862793 (1640)\ttotal: 1m 13s\tremaining: 6m 11s\n",
      "1650:\tlearn: 620.3199216\ttest: 660.2001637\tbest: 660.2001637 (1650)\ttotal: 1m 13s\tremaining: 6m 11s\n",
      "1660:\tlearn: 619.3242103\ttest: 659.1444877\tbest: 659.1444877 (1660)\ttotal: 1m 13s\tremaining: 6m 10s\n",
      "1670:\tlearn: 618.0982700\ttest: 657.9513417\tbest: 657.9513417 (1670)\ttotal: 1m 14s\tremaining: 6m 10s\n",
      "1680:\tlearn: 617.2485571\ttest: 657.0999939\tbest: 657.0999939 (1680)\ttotal: 1m 14s\tremaining: 6m 9s\n"
     ]
    },
    {
     "name": "stdout",
     "output_type": "stream",
     "text": [
      "1690:\tlearn: 616.2020850\ttest: 656.2139882\tbest: 656.2139882 (1690)\ttotal: 1m 15s\tremaining: 6m 9s\n",
      "1700:\tlearn: 615.2843906\ttest: 655.4189608\tbest: 655.4189608 (1700)\ttotal: 1m 15s\tremaining: 6m 8s\n",
      "1710:\tlearn: 614.3311504\ttest: 654.4698773\tbest: 654.4698773 (1710)\ttotal: 1m 16s\tremaining: 6m 8s\n",
      "1720:\tlearn: 613.4051844\ttest: 653.5750681\tbest: 653.5750681 (1720)\ttotal: 1m 16s\tremaining: 6m 7s\n",
      "1730:\tlearn: 612.2335605\ttest: 652.4235314\tbest: 652.4235314 (1730)\ttotal: 1m 16s\tremaining: 6m 7s\n",
      "1740:\tlearn: 611.1313882\ttest: 651.3684875\tbest: 651.3684875 (1740)\ttotal: 1m 17s\tremaining: 6m 6s\n",
      "1750:\tlearn: 610.1908848\ttest: 650.4760648\tbest: 650.4760648 (1750)\ttotal: 1m 17s\tremaining: 6m 6s\n",
      "1760:\tlearn: 609.2160929\ttest: 649.5559794\tbest: 649.5559794 (1760)\ttotal: 1m 18s\tremaining: 6m 5s\n",
      "1770:\tlearn: 608.2504111\ttest: 648.6648282\tbest: 648.6648282 (1770)\ttotal: 1m 18s\tremaining: 6m 5s\n",
      "1780:\tlearn: 607.3404561\ttest: 647.7683994\tbest: 647.7683994 (1780)\ttotal: 1m 19s\tremaining: 6m 4s\n",
      "1790:\tlearn: 606.6916872\ttest: 647.1549243\tbest: 647.1549243 (1790)\ttotal: 1m 19s\tremaining: 6m 4s\n",
      "1800:\tlearn: 605.8557563\ttest: 646.3982612\tbest: 646.3982612 (1800)\ttotal: 1m 19s\tremaining: 6m 3s\n",
      "1810:\tlearn: 605.2771099\ttest: 645.9036381\tbest: 645.9036381 (1810)\ttotal: 1m 20s\tremaining: 6m 3s\n",
      "1820:\tlearn: 604.6773518\ttest: 645.4221324\tbest: 645.4109476 (1818)\ttotal: 1m 20s\tremaining: 6m 2s\n",
      "1830:\tlearn: 603.7018093\ttest: 644.4448548\tbest: 644.4448548 (1830)\ttotal: 1m 21s\tremaining: 6m 2s\n",
      "1840:\tlearn: 602.9835951\ttest: 643.8172202\tbest: 643.8172202 (1840)\ttotal: 1m 21s\tremaining: 6m 1s\n",
      "1850:\tlearn: 602.2207478\ttest: 643.1454482\tbest: 643.1454482 (1850)\ttotal: 1m 22s\tremaining: 6m 1s\n",
      "1860:\tlearn: 601.3613065\ttest: 642.3237441\tbest: 642.3237441 (1860)\ttotal: 1m 22s\tremaining: 6m\n",
      "1870:\tlearn: 600.2367312\ttest: 641.2437349\tbest: 641.2437349 (1870)\ttotal: 1m 22s\tremaining: 6m\n",
      "1880:\tlearn: 599.4775799\ttest: 640.5112496\tbest: 640.5112496 (1880)\ttotal: 1m 23s\tremaining: 5m 59s\n",
      "1890:\tlearn: 598.7008025\ttest: 639.8565408\tbest: 639.8565408 (1890)\ttotal: 1m 23s\tremaining: 5m 59s\n",
      "1900:\tlearn: 597.9039865\ttest: 639.0818779\tbest: 639.0818779 (1900)\ttotal: 1m 24s\tremaining: 5m 58s\n",
      "1910:\tlearn: 597.0916611\ttest: 638.3269781\tbest: 638.3269781 (1910)\ttotal: 1m 24s\tremaining: 5m 58s\n",
      "1920:\tlearn: 596.1538869\ttest: 637.4680348\tbest: 637.4680348 (1920)\ttotal: 1m 25s\tremaining: 5m 57s\n",
      "1930:\tlearn: 595.2773031\ttest: 636.7528852\tbest: 636.7528852 (1930)\ttotal: 1m 25s\tremaining: 5m 57s\n",
      "1940:\tlearn: 594.4304798\ttest: 636.0129421\tbest: 636.0129421 (1940)\ttotal: 1m 25s\tremaining: 5m 56s\n",
      "1950:\tlearn: 593.6720021\ttest: 635.2703950\tbest: 635.2703950 (1950)\ttotal: 1m 26s\tremaining: 5m 56s\n",
      "1960:\tlearn: 592.8047157\ttest: 634.4219377\tbest: 634.4219377 (1960)\ttotal: 1m 26s\tremaining: 5m 55s\n",
      "1970:\tlearn: 591.9437584\ttest: 633.5164231\tbest: 633.5164231 (1970)\ttotal: 1m 27s\tremaining: 5m 55s\n",
      "1980:\tlearn: 591.1781752\ttest: 632.7851877\tbest: 632.7851877 (1980)\ttotal: 1m 27s\tremaining: 5m 54s\n",
      "1990:\tlearn: 590.5183635\ttest: 632.2442319\tbest: 632.2442319 (1990)\ttotal: 1m 28s\tremaining: 5m 54s\n",
      "2000:\tlearn: 589.9221055\ttest: 631.6921948\tbest: 631.6921948 (2000)\ttotal: 1m 28s\tremaining: 5m 53s\n",
      "2010:\tlearn: 589.2425840\ttest: 631.1377822\tbest: 631.1377822 (2010)\ttotal: 1m 28s\tremaining: 5m 53s\n",
      "2020:\tlearn: 588.5089783\ttest: 630.4451660\tbest: 630.4451660 (2020)\ttotal: 1m 29s\tremaining: 5m 52s\n",
      "2030:\tlearn: 587.6701336\ttest: 629.5982300\tbest: 629.5982300 (2030)\ttotal: 1m 29s\tremaining: 5m 52s\n",
      "2040:\tlearn: 586.7819604\ttest: 628.6331906\tbest: 628.6331906 (2040)\ttotal: 1m 30s\tremaining: 5m 51s\n",
      "2050:\tlearn: 586.1332426\ttest: 628.0974193\tbest: 628.0974193 (2050)\ttotal: 1m 30s\tremaining: 5m 51s\n",
      "2060:\tlearn: 585.3446421\ttest: 627.3746065\tbest: 627.3746065 (2060)\ttotal: 1m 31s\tremaining: 5m 50s\n",
      "2070:\tlearn: 584.5198777\ttest: 626.6704273\tbest: 626.6704273 (2070)\ttotal: 1m 31s\tremaining: 5m 50s\n",
      "2080:\tlearn: 583.6306504\ttest: 625.9083909\tbest: 625.9083909 (2080)\ttotal: 1m 31s\tremaining: 5m 50s\n",
      "2090:\tlearn: 582.9720246\ttest: 625.3077508\tbest: 625.3077508 (2090)\ttotal: 1m 32s\tremaining: 5m 49s\n",
      "2100:\tlearn: 582.2479436\ttest: 624.6191267\tbest: 624.6191267 (2100)\ttotal: 1m 32s\tremaining: 5m 49s\n",
      "2110:\tlearn: 581.5815212\ttest: 623.9726471\tbest: 623.9726471 (2110)\ttotal: 1m 33s\tremaining: 5m 49s\n",
      "2120:\tlearn: 580.9729360\ttest: 623.3726449\tbest: 623.3726449 (2120)\ttotal: 1m 33s\tremaining: 5m 48s\n",
      "2130:\tlearn: 580.3221434\ttest: 622.8770019\tbest: 622.8770019 (2130)\ttotal: 1m 34s\tremaining: 5m 48s\n",
      "2140:\tlearn: 579.6689060\ttest: 622.2891982\tbest: 622.2891982 (2140)\ttotal: 1m 34s\tremaining: 5m 48s\n",
      "2150:\tlearn: 578.9180968\ttest: 621.5906593\tbest: 621.5906593 (2150)\ttotal: 1m 35s\tremaining: 5m 47s\n",
      "2160:\tlearn: 578.1620664\ttest: 620.8324663\tbest: 620.8324663 (2160)\ttotal: 1m 35s\tremaining: 5m 47s\n",
      "2170:\tlearn: 577.3674949\ttest: 620.0359177\tbest: 620.0359177 (2170)\ttotal: 1m 36s\tremaining: 5m 46s\n",
      "2180:\tlearn: 576.6471500\ttest: 619.3665688\tbest: 619.3665688 (2180)\ttotal: 1m 36s\tremaining: 5m 46s\n",
      "2190:\tlearn: 576.0838333\ttest: 618.8179152\tbest: 618.8179152 (2190)\ttotal: 1m 37s\tremaining: 5m 45s\n",
      "2200:\tlearn: 575.4151511\ttest: 618.1397659\tbest: 618.1397659 (2200)\ttotal: 1m 37s\tremaining: 5m 45s\n",
      "2210:\tlearn: 574.8858787\ttest: 617.7062246\tbest: 617.7052922 (2209)\ttotal: 1m 37s\tremaining: 5m 44s\n",
      "2220:\tlearn: 574.2548513\ttest: 617.0650620\tbest: 617.0650620 (2220)\ttotal: 1m 38s\tremaining: 5m 44s\n",
      "2230:\tlearn: 573.5239966\ttest: 616.3752180\tbest: 616.3752180 (2230)\ttotal: 1m 38s\tremaining: 5m 43s\n",
      "2240:\tlearn: 572.9399053\ttest: 615.8687995\tbest: 615.8687995 (2240)\ttotal: 1m 39s\tremaining: 5m 43s\n",
      "2250:\tlearn: 572.4392735\ttest: 615.4270082\tbest: 615.4270082 (2250)\ttotal: 1m 39s\tremaining: 5m 42s\n",
      "2260:\tlearn: 571.8149600\ttest: 614.9694039\tbest: 614.9694039 (2260)\ttotal: 1m 39s\tremaining: 5m 42s\n",
      "2270:\tlearn: 571.2320545\ttest: 614.4123105\tbest: 614.4123105 (2270)\ttotal: 1m 40s\tremaining: 5m 41s\n",
      "2280:\tlearn: 570.6887723\ttest: 613.8827346\tbest: 613.8827346 (2280)\ttotal: 1m 40s\tremaining: 5m 41s\n",
      "2290:\tlearn: 570.1106240\ttest: 613.3525516\tbest: 613.3525516 (2290)\ttotal: 1m 41s\tremaining: 5m 40s\n",
      "2300:\tlearn: 569.4350088\ttest: 612.7519437\tbest: 612.7519437 (2300)\ttotal: 1m 41s\tremaining: 5m 40s\n",
      "2310:\tlearn: 568.9715287\ttest: 612.4049213\tbest: 612.4049213 (2310)\ttotal: 1m 42s\tremaining: 5m 39s\n",
      "2320:\tlearn: 568.3403862\ttest: 611.9257163\tbest: 611.9257163 (2320)\ttotal: 1m 42s\tremaining: 5m 39s\n",
      "2330:\tlearn: 567.7367188\ttest: 611.3291745\tbest: 611.3291745 (2330)\ttotal: 1m 42s\tremaining: 5m 38s\n",
      "2340:\tlearn: 567.1527499\ttest: 610.7750638\tbest: 610.7750638 (2340)\ttotal: 1m 43s\tremaining: 5m 38s\n",
      "2350:\tlearn: 566.5318826\ttest: 610.1530899\tbest: 610.1530899 (2350)\ttotal: 1m 43s\tremaining: 5m 37s\n",
      "2360:\tlearn: 565.9030029\ttest: 609.5639849\tbest: 609.5639849 (2360)\ttotal: 1m 44s\tremaining: 5m 37s\n",
      "2370:\tlearn: 565.3027905\ttest: 609.0026121\tbest: 609.0026121 (2370)\ttotal: 1m 44s\tremaining: 5m 36s\n",
      "2380:\tlearn: 564.5838983\ttest: 608.2692181\tbest: 608.2692181 (2380)\ttotal: 1m 45s\tremaining: 5m 36s\n",
      "2390:\tlearn: 563.8628683\ttest: 607.5138508\tbest: 607.5138508 (2390)\ttotal: 1m 45s\tremaining: 5m 36s\n",
      "2400:\tlearn: 563.3996501\ttest: 607.1578256\tbest: 607.1578256 (2400)\ttotal: 1m 46s\tremaining: 5m 35s\n",
      "2410:\tlearn: 562.8358147\ttest: 606.5656556\tbest: 606.5620962 (2409)\ttotal: 1m 46s\tremaining: 5m 35s\n",
      "2420:\tlearn: 562.2683889\ttest: 606.1244165\tbest: 606.1244165 (2420)\ttotal: 1m 46s\tremaining: 5m 34s\n",
      "2430:\tlearn: 561.7553877\ttest: 605.6585167\tbest: 605.6585167 (2430)\ttotal: 1m 47s\tremaining: 5m 34s\n",
      "2440:\tlearn: 561.3448503\ttest: 605.3491199\tbest: 605.3491199 (2440)\ttotal: 1m 47s\tremaining: 5m 34s\n",
      "2450:\tlearn: 560.6772298\ttest: 604.6471510\tbest: 604.6471510 (2450)\ttotal: 1m 48s\tremaining: 5m 33s\n",
      "2460:\tlearn: 560.0869422\ttest: 604.1687351\tbest: 604.1687351 (2460)\ttotal: 1m 48s\tremaining: 5m 33s\n",
      "2470:\tlearn: 559.5685721\ttest: 603.7202277\tbest: 603.7202277 (2470)\ttotal: 1m 49s\tremaining: 5m 32s\n",
      "2480:\tlearn: 558.9797499\ttest: 603.1481083\tbest: 603.1481083 (2480)\ttotal: 1m 49s\tremaining: 5m 32s\n",
      "2490:\tlearn: 558.5389900\ttest: 602.7107389\tbest: 602.7107389 (2490)\ttotal: 1m 50s\tremaining: 5m 31s\n",
      "2500:\tlearn: 558.0272928\ttest: 602.2381613\tbest: 602.2381613 (2500)\ttotal: 1m 50s\tremaining: 5m 31s\n",
      "2510:\tlearn: 557.5024354\ttest: 601.7953959\tbest: 601.7953959 (2510)\ttotal: 1m 50s\tremaining: 5m 30s\n"
     ]
    },
    {
     "name": "stdout",
     "output_type": "stream",
     "text": [
      "2520:\tlearn: 556.9649674\ttest: 601.2693795\tbest: 601.2693795 (2520)\ttotal: 1m 51s\tremaining: 5m 30s\n",
      "2530:\tlearn: 556.3713731\ttest: 600.8052104\tbest: 600.7536378 (2529)\ttotal: 1m 51s\tremaining: 5m 29s\n",
      "2540:\tlearn: 555.7551101\ttest: 600.2048944\tbest: 600.2048944 (2540)\ttotal: 1m 52s\tremaining: 5m 29s\n",
      "2550:\tlearn: 555.1525471\ttest: 599.7169835\tbest: 599.7169835 (2550)\ttotal: 1m 52s\tremaining: 5m 28s\n",
      "2560:\tlearn: 554.6309406\ttest: 599.2003669\tbest: 599.2003669 (2560)\ttotal: 1m 53s\tremaining: 5m 28s\n",
      "2570:\tlearn: 554.1847188\ttest: 598.7824282\tbest: 598.7824282 (2570)\ttotal: 1m 53s\tremaining: 5m 27s\n",
      "2580:\tlearn: 553.6592305\ttest: 598.3203165\tbest: 598.3203165 (2580)\ttotal: 1m 53s\tremaining: 5m 27s\n",
      "2590:\tlearn: 553.0442297\ttest: 597.7482237\tbest: 597.7482237 (2590)\ttotal: 1m 54s\tremaining: 5m 26s\n",
      "2600:\tlearn: 552.4583271\ttest: 597.2112042\tbest: 597.2112042 (2600)\ttotal: 1m 54s\tremaining: 5m 26s\n",
      "2610:\tlearn: 551.8814973\ttest: 596.7088644\tbest: 596.7088644 (2610)\ttotal: 1m 55s\tremaining: 5m 25s\n",
      "2620:\tlearn: 551.4348697\ttest: 596.3731224\tbest: 596.3731224 (2620)\ttotal: 1m 55s\tremaining: 5m 25s\n",
      "2630:\tlearn: 550.9329559\ttest: 595.8892828\tbest: 595.8892828 (2630)\ttotal: 1m 56s\tremaining: 5m 24s\n",
      "2640:\tlearn: 550.3721555\ttest: 595.3357648\tbest: 595.3357648 (2640)\ttotal: 1m 56s\tremaining: 5m 24s\n",
      "2650:\tlearn: 549.8047151\ttest: 594.7919430\tbest: 594.7919430 (2650)\ttotal: 1m 56s\tremaining: 5m 24s\n",
      "2660:\tlearn: 549.2988957\ttest: 594.3179135\tbest: 594.3179135 (2660)\ttotal: 1m 57s\tremaining: 5m 24s\n",
      "2670:\tlearn: 548.7635699\ttest: 593.7953016\tbest: 593.7953016 (2670)\ttotal: 1m 58s\tremaining: 5m 23s\n",
      "2680:\tlearn: 548.2467179\ttest: 593.3206725\tbest: 593.3206725 (2680)\ttotal: 1m 58s\tremaining: 5m 23s\n",
      "2690:\tlearn: 547.8042215\ttest: 592.9810527\tbest: 592.9810527 (2690)\ttotal: 1m 58s\tremaining: 5m 23s\n",
      "2700:\tlearn: 547.4036166\ttest: 592.6085528\tbest: 592.6085528 (2700)\ttotal: 1m 59s\tremaining: 5m 22s\n",
      "2710:\tlearn: 546.9617212\ttest: 592.2292885\tbest: 592.2292885 (2710)\ttotal: 1m 59s\tremaining: 5m 22s\n",
      "2720:\tlearn: 546.5026543\ttest: 591.7245215\tbest: 591.7245215 (2720)\ttotal: 2m\tremaining: 5m 21s\n",
      "2730:\tlearn: 546.0980158\ttest: 591.3651007\tbest: 591.3651007 (2730)\ttotal: 2m\tremaining: 5m 21s\n",
      "2740:\tlearn: 545.5471494\ttest: 590.8919141\tbest: 590.8919141 (2740)\ttotal: 2m 1s\tremaining: 5m 20s\n",
      "2750:\tlearn: 545.0871665\ttest: 590.4538484\tbest: 590.4538484 (2750)\ttotal: 2m 1s\tremaining: 5m 20s\n",
      "2760:\tlearn: 544.5720366\ttest: 589.9268481\tbest: 589.9268481 (2760)\ttotal: 2m 2s\tremaining: 5m 20s\n",
      "2770:\tlearn: 544.1046649\ttest: 589.5133603\tbest: 589.5133603 (2770)\ttotal: 2m 2s\tremaining: 5m 20s\n",
      "2780:\tlearn: 543.4228724\ttest: 588.7547006\tbest: 588.7547006 (2780)\ttotal: 2m 3s\tremaining: 5m 20s\n",
      "2790:\tlearn: 543.0283859\ttest: 588.3836296\tbest: 588.3836296 (2790)\ttotal: 2m 3s\tremaining: 5m 19s\n",
      "2800:\tlearn: 542.6733439\ttest: 588.1456206\tbest: 588.1456206 (2800)\ttotal: 2m 4s\tremaining: 5m 19s\n",
      "2810:\tlearn: 542.3019828\ttest: 587.8198153\tbest: 587.8198153 (2810)\ttotal: 2m 4s\tremaining: 5m 19s\n",
      "2820:\tlearn: 541.7875663\ttest: 587.3372314\tbest: 587.3372314 (2820)\ttotal: 2m 5s\tremaining: 5m 18s\n",
      "2830:\tlearn: 541.4324724\ttest: 587.0272014\tbest: 587.0272014 (2830)\ttotal: 2m 5s\tremaining: 5m 18s\n",
      "2840:\tlearn: 540.8956877\ttest: 586.5048091\tbest: 586.5048091 (2840)\ttotal: 2m 6s\tremaining: 5m 18s\n",
      "2850:\tlearn: 540.4421623\ttest: 586.1142579\tbest: 586.1142579 (2850)\ttotal: 2m 6s\tremaining: 5m 17s\n",
      "2860:\tlearn: 539.9903369\ttest: 585.7880530\tbest: 585.7880530 (2860)\ttotal: 2m 7s\tremaining: 5m 17s\n",
      "2870:\tlearn: 539.6474509\ttest: 585.5112402\tbest: 585.5112402 (2870)\ttotal: 2m 7s\tremaining: 5m 16s\n",
      "2880:\tlearn: 539.2641481\ttest: 585.1726743\tbest: 585.1726743 (2880)\ttotal: 2m 8s\tremaining: 5m 16s\n",
      "2890:\tlearn: 538.8179738\ttest: 584.7932417\tbest: 584.7932417 (2890)\ttotal: 2m 8s\tremaining: 5m 16s\n",
      "2900:\tlearn: 538.3976107\ttest: 584.4052350\tbest: 584.4052350 (2900)\ttotal: 2m 9s\tremaining: 5m 15s\n",
      "2910:\tlearn: 537.9467447\ttest: 583.9461900\tbest: 583.9461900 (2910)\ttotal: 2m 9s\tremaining: 5m 15s\n",
      "2920:\tlearn: 537.5378239\ttest: 583.5004044\tbest: 583.5004044 (2920)\ttotal: 2m 10s\tremaining: 5m 15s\n",
      "2930:\tlearn: 537.1474753\ttest: 583.1770317\tbest: 583.1696012 (2929)\ttotal: 2m 10s\tremaining: 5m 15s\n",
      "2940:\tlearn: 536.6584068\ttest: 582.6492934\tbest: 582.6492934 (2940)\ttotal: 2m 11s\tremaining: 5m 16s\n",
      "2950:\tlearn: 536.2995671\ttest: 582.2993154\tbest: 582.2993154 (2950)\ttotal: 2m 12s\tremaining: 5m 15s\n",
      "2960:\tlearn: 535.8611262\ttest: 581.9297636\tbest: 581.9297636 (2960)\ttotal: 2m 12s\tremaining: 5m 15s\n",
      "2970:\tlearn: 535.3914971\ttest: 581.4872498\tbest: 581.4872498 (2970)\ttotal: 2m 13s\tremaining: 5m 15s\n",
      "2980:\tlearn: 535.0165432\ttest: 581.0963205\tbest: 581.0963205 (2980)\ttotal: 2m 13s\tremaining: 5m 14s\n",
      "2990:\tlearn: 534.6297501\ttest: 580.7613181\tbest: 580.7613181 (2990)\ttotal: 2m 14s\tremaining: 5m 14s\n",
      "3000:\tlearn: 534.2481745\ttest: 580.3850273\tbest: 580.3850273 (3000)\ttotal: 2m 15s\tremaining: 5m 14s\n",
      "3010:\tlearn: 533.8587267\ttest: 580.0365919\tbest: 580.0365919 (3010)\ttotal: 2m 15s\tremaining: 5m 14s\n",
      "3020:\tlearn: 533.3842673\ttest: 579.6231135\tbest: 579.6231135 (3020)\ttotal: 2m 15s\tremaining: 5m 13s\n",
      "3030:\tlearn: 532.8798887\ttest: 579.0948931\tbest: 579.0948931 (3030)\ttotal: 2m 16s\tremaining: 5m 13s\n",
      "3040:\tlearn: 532.5056077\ttest: 578.7928189\tbest: 578.7928189 (3040)\ttotal: 2m 16s\tremaining: 5m 12s\n",
      "3050:\tlearn: 532.2668393\ttest: 578.6451897\tbest: 578.6451897 (3050)\ttotal: 2m 17s\tremaining: 5m 12s\n",
      "3060:\tlearn: 531.9530912\ttest: 578.3890960\tbest: 578.3890960 (3060)\ttotal: 2m 17s\tremaining: 5m 11s\n",
      "3070:\tlearn: 531.5425378\ttest: 578.0427518\tbest: 578.0313700 (3069)\ttotal: 2m 18s\tremaining: 5m 11s\n",
      "3080:\tlearn: 531.0871809\ttest: 577.6701821\tbest: 577.6701821 (3080)\ttotal: 2m 18s\tremaining: 5m 10s\n",
      "3090:\tlearn: 530.6644845\ttest: 577.3218530\tbest: 577.3218530 (3090)\ttotal: 2m 18s\tremaining: 5m 10s\n",
      "3100:\tlearn: 530.2955187\ttest: 577.0379410\tbest: 577.0379410 (3100)\ttotal: 2m 19s\tremaining: 5m 9s\n",
      "3110:\tlearn: 529.8054670\ttest: 576.6444771\tbest: 576.6444771 (3110)\ttotal: 2m 19s\tremaining: 5m 9s\n",
      "3120:\tlearn: 529.4068575\ttest: 576.2702183\tbest: 576.2702183 (3120)\ttotal: 2m 20s\tremaining: 5m 8s\n",
      "3130:\tlearn: 528.9108882\ttest: 575.7898330\tbest: 575.7898330 (3130)\ttotal: 2m 20s\tremaining: 5m 8s\n",
      "3140:\tlearn: 528.4319194\ttest: 575.3235525\tbest: 575.3235525 (3140)\ttotal: 2m 21s\tremaining: 5m 8s\n",
      "3150:\tlearn: 528.1142440\ttest: 575.0606366\tbest: 575.0606366 (3150)\ttotal: 2m 21s\tremaining: 5m 7s\n",
      "3160:\tlearn: 527.6919243\ttest: 574.6320543\tbest: 574.6320543 (3160)\ttotal: 2m 22s\tremaining: 5m 7s\n",
      "3170:\tlearn: 527.3219133\ttest: 574.3012372\tbest: 574.3012372 (3170)\ttotal: 2m 22s\tremaining: 5m 6s\n",
      "3180:\tlearn: 526.9720855\ttest: 573.9939686\tbest: 573.9939686 (3180)\ttotal: 2m 22s\tremaining: 5m 6s\n",
      "3190:\tlearn: 526.6314187\ttest: 573.6819245\tbest: 573.6819245 (3190)\ttotal: 2m 23s\tremaining: 5m 5s\n",
      "3200:\tlearn: 526.3395131\ttest: 573.4604853\tbest: 573.4604853 (3200)\ttotal: 2m 23s\tremaining: 5m 5s\n",
      "3210:\tlearn: 526.0390488\ttest: 573.1863035\tbest: 573.1863035 (3210)\ttotal: 2m 24s\tremaining: 5m 4s\n",
      "3220:\tlearn: 525.7448958\ttest: 572.9544324\tbest: 572.9342258 (3219)\ttotal: 2m 24s\tremaining: 5m 4s\n",
      "3230:\tlearn: 525.2545654\ttest: 572.6159235\tbest: 572.6159235 (3230)\ttotal: 2m 25s\tremaining: 5m 3s\n",
      "3240:\tlearn: 524.9024172\ttest: 572.2895793\tbest: 572.2895793 (3240)\ttotal: 2m 25s\tremaining: 5m 3s\n",
      "3250:\tlearn: 524.5594810\ttest: 571.9591795\tbest: 571.9591795 (3250)\ttotal: 2m 25s\tremaining: 5m 2s\n",
      "3260:\tlearn: 524.2386784\ttest: 571.7350844\tbest: 571.7350844 (3260)\ttotal: 2m 26s\tremaining: 5m 2s\n",
      "3270:\tlearn: 523.9206442\ttest: 571.4692316\tbest: 571.4692316 (3270)\ttotal: 2m 26s\tremaining: 5m 1s\n",
      "3280:\tlearn: 523.6057004\ttest: 571.2528402\tbest: 571.2528402 (3280)\ttotal: 2m 27s\tremaining: 5m 1s\n",
      "3290:\tlearn: 523.3165773\ttest: 571.0858393\tbest: 571.0858393 (3290)\ttotal: 2m 27s\tremaining: 5m\n",
      "3300:\tlearn: 523.0200539\ttest: 570.8503260\tbest: 570.8503260 (3300)\ttotal: 2m 28s\tremaining: 5m\n",
      "3310:\tlearn: 522.6644652\ttest: 570.5450189\tbest: 570.5450189 (3310)\ttotal: 2m 28s\tremaining: 4m 59s\n",
      "3320:\tlearn: 522.2971563\ttest: 570.2043554\tbest: 570.2043554 (3320)\ttotal: 2m 28s\tremaining: 4m 59s\n",
      "3330:\tlearn: 521.9567096\ttest: 569.9353933\tbest: 569.9353933 (3330)\ttotal: 2m 29s\tremaining: 4m 58s\n",
      "3340:\tlearn: 521.5620321\ttest: 569.5320609\tbest: 569.5320609 (3340)\ttotal: 2m 29s\tremaining: 4m 58s\n"
     ]
    },
    {
     "name": "stdout",
     "output_type": "stream",
     "text": [
      "3350:\tlearn: 521.2911589\ttest: 569.2840323\tbest: 569.2840323 (3350)\ttotal: 2m 30s\tremaining: 4m 57s\n",
      "3360:\tlearn: 520.9195650\ttest: 568.9925100\tbest: 568.9925100 (3360)\ttotal: 2m 30s\tremaining: 4m 57s\n",
      "3370:\tlearn: 520.5173117\ttest: 568.6369852\tbest: 568.6369852 (3370)\ttotal: 2m 31s\tremaining: 4m 56s\n",
      "3380:\tlearn: 520.2257734\ttest: 568.4031015\tbest: 568.3954215 (3379)\ttotal: 2m 31s\tremaining: 4m 56s\n",
      "3390:\tlearn: 519.9947270\ttest: 568.2599432\tbest: 568.2599432 (3390)\ttotal: 2m 31s\tremaining: 4m 55s\n",
      "3400:\tlearn: 519.5993013\ttest: 567.8634573\tbest: 567.8634573 (3400)\ttotal: 2m 32s\tremaining: 4m 55s\n",
      "3410:\tlearn: 519.2046783\ttest: 567.5157266\tbest: 567.5157266 (3410)\ttotal: 2m 32s\tremaining: 4m 54s\n",
      "3420:\tlearn: 518.8768537\ttest: 567.2407337\tbest: 567.2407337 (3420)\ttotal: 2m 33s\tremaining: 4m 54s\n",
      "3430:\tlearn: 518.4730431\ttest: 566.8630780\tbest: 566.8630780 (3430)\ttotal: 2m 33s\tremaining: 4m 53s\n",
      "3440:\tlearn: 518.0788238\ttest: 566.5059565\tbest: 566.5059565 (3440)\ttotal: 2m 33s\tremaining: 4m 53s\n",
      "3450:\tlearn: 517.8189746\ttest: 566.3242629\tbest: 566.3242629 (3450)\ttotal: 2m 34s\tremaining: 4m 52s\n",
      "3460:\tlearn: 517.5552469\ttest: 566.1031728\tbest: 566.1031728 (3460)\ttotal: 2m 34s\tremaining: 4m 52s\n",
      "3470:\tlearn: 517.2794789\ttest: 565.9045689\tbest: 565.8985452 (3469)\ttotal: 2m 35s\tremaining: 4m 52s\n",
      "3480:\tlearn: 516.9323923\ttest: 565.6177581\tbest: 565.6177581 (3480)\ttotal: 2m 35s\tremaining: 4m 51s\n",
      "3490:\tlearn: 516.6076666\ttest: 565.3137522\tbest: 565.3131111 (3489)\ttotal: 2m 36s\tremaining: 4m 51s\n",
      "3500:\tlearn: 516.2946422\ttest: 565.0993022\tbest: 565.0993022 (3500)\ttotal: 2m 36s\tremaining: 4m 50s\n",
      "3510:\tlearn: 516.0639975\ttest: 564.8834184\tbest: 564.8834184 (3510)\ttotal: 2m 37s\tremaining: 4m 50s\n",
      "3520:\tlearn: 515.7365280\ttest: 564.5929919\tbest: 564.5929919 (3520)\ttotal: 2m 37s\tremaining: 4m 49s\n",
      "3530:\tlearn: 515.5028011\ttest: 564.4222879\tbest: 564.4222879 (3530)\ttotal: 2m 38s\tremaining: 4m 49s\n",
      "3540:\tlearn: 515.2659027\ttest: 564.1956754\tbest: 564.1956754 (3540)\ttotal: 2m 38s\tremaining: 4m 49s\n",
      "3550:\tlearn: 514.9702252\ttest: 564.0131025\tbest: 564.0131025 (3550)\ttotal: 2m 38s\tremaining: 4m 48s\n",
      "3560:\tlearn: 514.6809973\ttest: 563.7209291\tbest: 563.7209291 (3560)\ttotal: 2m 39s\tremaining: 4m 48s\n",
      "3570:\tlearn: 514.3739623\ttest: 563.5016075\tbest: 563.5016075 (3570)\ttotal: 2m 39s\tremaining: 4m 47s\n",
      "3580:\tlearn: 514.0592839\ttest: 563.2499536\tbest: 563.2499536 (3580)\ttotal: 2m 40s\tremaining: 4m 47s\n",
      "3590:\tlearn: 513.7226990\ttest: 562.9458958\tbest: 562.9458958 (3590)\ttotal: 2m 40s\tremaining: 4m 46s\n",
      "3600:\tlearn: 513.4393055\ttest: 562.7053341\tbest: 562.7053341 (3600)\ttotal: 2m 41s\tremaining: 4m 46s\n",
      "3610:\tlearn: 513.1015984\ttest: 562.4361343\tbest: 562.4361343 (3610)\ttotal: 2m 41s\tremaining: 4m 45s\n",
      "3620:\tlearn: 512.8237061\ttest: 562.2244219\tbest: 562.2244219 (3620)\ttotal: 2m 42s\tremaining: 4m 45s\n",
      "3630:\tlearn: 512.5221641\ttest: 561.9952342\tbest: 561.9952342 (3630)\ttotal: 2m 42s\tremaining: 4m 45s\n",
      "3640:\tlearn: 512.1409775\ttest: 561.6348689\tbest: 561.6348689 (3640)\ttotal: 2m 42s\tremaining: 4m 44s\n",
      "3650:\tlearn: 511.9072933\ttest: 561.4015870\tbest: 561.4015870 (3650)\ttotal: 2m 43s\tremaining: 4m 44s\n",
      "3660:\tlearn: 511.5747068\ttest: 561.0812563\tbest: 561.0812563 (3660)\ttotal: 2m 43s\tremaining: 4m 43s\n",
      "3670:\tlearn: 511.3716516\ttest: 560.9211116\tbest: 560.9211116 (3670)\ttotal: 2m 44s\tremaining: 4m 43s\n",
      "3680:\tlearn: 511.1168795\ttest: 560.7294472\tbest: 560.7173093 (3679)\ttotal: 2m 44s\tremaining: 4m 42s\n",
      "3690:\tlearn: 510.7811407\ttest: 560.4087399\tbest: 560.4087399 (3690)\ttotal: 2m 45s\tremaining: 4m 42s\n",
      "3700:\tlearn: 510.5527012\ttest: 560.2541087\tbest: 560.2541087 (3700)\ttotal: 2m 45s\tremaining: 4m 41s\n",
      "3710:\tlearn: 510.3188673\ttest: 560.0424893\tbest: 560.0424893 (3710)\ttotal: 2m 46s\tremaining: 4m 41s\n",
      "3720:\tlearn: 510.0565890\ttest: 559.7748667\tbest: 559.7748667 (3720)\ttotal: 2m 46s\tremaining: 4m 40s\n",
      "3730:\tlearn: 509.6535800\ttest: 559.4399213\tbest: 559.4399213 (3730)\ttotal: 2m 46s\tremaining: 4m 40s\n",
      "3740:\tlearn: 509.3644712\ttest: 559.2183326\tbest: 559.2183326 (3740)\ttotal: 2m 47s\tremaining: 4m 39s\n",
      "3750:\tlearn: 509.0956709\ttest: 558.9431834\tbest: 558.9431834 (3750)\ttotal: 2m 47s\tremaining: 4m 39s\n",
      "3760:\tlearn: 508.8084664\ttest: 558.6537371\tbest: 558.6537371 (3760)\ttotal: 2m 48s\tremaining: 4m 39s\n",
      "3770:\tlearn: 508.5270849\ttest: 558.4307949\tbest: 558.4307949 (3770)\ttotal: 2m 48s\tremaining: 4m 38s\n",
      "3780:\tlearn: 508.2053198\ttest: 558.0631390\tbest: 558.0631390 (3780)\ttotal: 2m 49s\tremaining: 4m 38s\n",
      "3790:\tlearn: 507.9273248\ttest: 557.8486921\tbest: 557.8486921 (3790)\ttotal: 2m 49s\tremaining: 4m 37s\n",
      "3800:\tlearn: 507.6755139\ttest: 557.6838202\tbest: 557.6838202 (3800)\ttotal: 2m 49s\tremaining: 4m 37s\n",
      "3810:\tlearn: 507.4043420\ttest: 557.4292880\tbest: 557.4292880 (3810)\ttotal: 2m 50s\tremaining: 4m 36s\n",
      "3820:\tlearn: 507.1446953\ttest: 557.2055883\tbest: 557.2055883 (3820)\ttotal: 2m 50s\tremaining: 4m 36s\n",
      "3830:\tlearn: 506.9093650\ttest: 557.0323743\tbest: 557.0273313 (3829)\ttotal: 2m 51s\tremaining: 4m 35s\n",
      "3840:\tlearn: 506.5754651\ttest: 556.7225082\tbest: 556.7225082 (3840)\ttotal: 2m 51s\tremaining: 4m 35s\n",
      "3850:\tlearn: 506.2501651\ttest: 556.4017791\tbest: 556.4017791 (3850)\ttotal: 2m 52s\tremaining: 4m 34s\n",
      "3860:\tlearn: 506.0479552\ttest: 556.2139167\tbest: 556.2139167 (3860)\ttotal: 2m 52s\tremaining: 4m 34s\n",
      "3870:\tlearn: 505.8686091\ttest: 556.0812657\tbest: 556.0812657 (3870)\ttotal: 2m 53s\tremaining: 4m 33s\n",
      "3880:\tlearn: 505.6448235\ttest: 555.9537798\tbest: 555.9537798 (3880)\ttotal: 2m 53s\tremaining: 4m 33s\n",
      "3890:\tlearn: 505.3454644\ttest: 555.7182366\tbest: 555.7182366 (3890)\ttotal: 2m 53s\tremaining: 4m 32s\n",
      "3900:\tlearn: 505.1302319\ttest: 555.5458836\tbest: 555.5430564 (3899)\ttotal: 2m 54s\tremaining: 4m 32s\n",
      "3910:\tlearn: 504.8481135\ttest: 555.3400647\tbest: 555.3400647 (3910)\ttotal: 2m 54s\tremaining: 4m 32s\n",
      "3920:\tlearn: 504.5981418\ttest: 555.1123738\tbest: 555.1123738 (3920)\ttotal: 2m 55s\tremaining: 4m 31s\n",
      "3930:\tlearn: 504.2969241\ttest: 554.7890985\tbest: 554.7890985 (3930)\ttotal: 2m 55s\tremaining: 4m 31s\n",
      "3940:\tlearn: 504.1309227\ttest: 554.6488869\tbest: 554.6488869 (3940)\ttotal: 2m 56s\tremaining: 4m 30s\n",
      "3950:\tlearn: 503.8435369\ttest: 554.4733241\tbest: 554.4733241 (3950)\ttotal: 2m 56s\tremaining: 4m 30s\n",
      "3960:\tlearn: 503.6147636\ttest: 554.2552258\tbest: 554.2552258 (3960)\ttotal: 2m 56s\tremaining: 4m 29s\n",
      "3970:\tlearn: 503.4123297\ttest: 554.0673227\tbest: 554.0673227 (3970)\ttotal: 2m 57s\tremaining: 4m 29s\n",
      "3980:\tlearn: 503.2304116\ttest: 553.9141778\tbest: 553.9141778 (3980)\ttotal: 2m 57s\tremaining: 4m 28s\n",
      "3990:\tlearn: 503.0640791\ttest: 553.7992190\tbest: 553.7992190 (3990)\ttotal: 2m 58s\tremaining: 4m 28s\n",
      "4000:\tlearn: 502.7159844\ttest: 553.4703283\tbest: 553.4703283 (4000)\ttotal: 2m 58s\tremaining: 4m 27s\n",
      "4010:\tlearn: 502.4133166\ttest: 553.1574485\tbest: 553.1574485 (4010)\ttotal: 2m 59s\tremaining: 4m 27s\n",
      "4020:\tlearn: 502.1798920\ttest: 552.9620576\tbest: 552.9620576 (4020)\ttotal: 2m 59s\tremaining: 4m 26s\n",
      "4030:\tlearn: 501.8105812\ttest: 552.6427224\tbest: 552.6427224 (4030)\ttotal: 2m 59s\tremaining: 4m 26s\n",
      "4040:\tlearn: 501.5789006\ttest: 552.4464665\tbest: 552.4464665 (4040)\ttotal: 3m\tremaining: 4m 25s\n",
      "4050:\tlearn: 501.2670230\ttest: 552.1326893\tbest: 552.1326893 (4050)\ttotal: 3m\tremaining: 4m 25s\n",
      "4060:\tlearn: 501.0526634\ttest: 551.9686321\tbest: 551.9686321 (4060)\ttotal: 3m 1s\tremaining: 4m 25s\n",
      "4070:\tlearn: 500.8549308\ttest: 551.7913324\tbest: 551.7913324 (4070)\ttotal: 3m 1s\tremaining: 4m 24s\n",
      "4080:\tlearn: 500.6750443\ttest: 551.6844786\tbest: 551.6844786 (4080)\ttotal: 3m 2s\tremaining: 4m 24s\n",
      "4090:\tlearn: 500.3493068\ttest: 551.4209428\tbest: 551.4209428 (4090)\ttotal: 3m 2s\tremaining: 4m 23s\n",
      "4100:\tlearn: 500.0329528\ttest: 551.1621260\tbest: 551.1619757 (4099)\ttotal: 3m 3s\tremaining: 4m 23s\n",
      "4110:\tlearn: 499.7233353\ttest: 550.8528185\tbest: 550.8528185 (4110)\ttotal: 3m 3s\tremaining: 4m 22s\n",
      "4120:\tlearn: 499.5287730\ttest: 550.7197928\tbest: 550.7197928 (4120)\ttotal: 3m 3s\tremaining: 4m 22s\n",
      "4130:\tlearn: 499.3368937\ttest: 550.5754886\tbest: 550.5726334 (4129)\ttotal: 3m 4s\tremaining: 4m 21s\n",
      "4140:\tlearn: 499.1727332\ttest: 550.4454788\tbest: 550.4454788 (4140)\ttotal: 3m 4s\tremaining: 4m 21s\n",
      "4150:\tlearn: 498.9236284\ttest: 550.2149379\tbest: 550.2149379 (4150)\ttotal: 3m 5s\tremaining: 4m 20s\n",
      "4160:\tlearn: 498.7475512\ttest: 550.1274025\tbest: 550.1175554 (4158)\ttotal: 3m 5s\tremaining: 4m 20s\n",
      "4170:\tlearn: 498.5705452\ttest: 549.9991584\tbest: 549.9991584 (4170)\ttotal: 3m 5s\tremaining: 4m 19s\n"
     ]
    },
    {
     "name": "stdout",
     "output_type": "stream",
     "text": [
      "4180:\tlearn: 498.3140207\ttest: 549.7791281\tbest: 549.7791281 (4180)\ttotal: 3m 6s\tremaining: 4m 19s\n",
      "4190:\tlearn: 498.1021361\ttest: 549.6063922\tbest: 549.6063922 (4190)\ttotal: 3m 6s\tremaining: 4m 18s\n",
      "4200:\tlearn: 497.9175497\ttest: 549.4816520\tbest: 549.4816520 (4200)\ttotal: 3m 7s\tremaining: 4m 18s\n",
      "4210:\tlearn: 497.7015267\ttest: 549.3156597\tbest: 549.3156597 (4210)\ttotal: 3m 7s\tremaining: 4m 17s\n",
      "4220:\tlearn: 497.5414262\ttest: 549.2136517\tbest: 549.1783167 (4219)\ttotal: 3m 8s\tremaining: 4m 17s\n",
      "4230:\tlearn: 497.3506200\ttest: 549.0682625\tbest: 549.0682625 (4230)\ttotal: 3m 8s\tremaining: 4m 16s\n",
      "4240:\tlearn: 497.1378017\ttest: 548.9401376\tbest: 548.9293970 (4237)\ttotal: 3m 8s\tremaining: 4m 16s\n",
      "4250:\tlearn: 496.8212677\ttest: 548.5994714\tbest: 548.5994714 (4250)\ttotal: 3m 9s\tremaining: 4m 16s\n",
      "4260:\tlearn: 496.6366690\ttest: 548.4769409\tbest: 548.4769409 (4260)\ttotal: 3m 9s\tremaining: 4m 15s\n",
      "4270:\tlearn: 496.4220691\ttest: 548.3011489\tbest: 548.3011489 (4270)\ttotal: 3m 10s\tremaining: 4m 15s\n",
      "4280:\tlearn: 496.2953158\ttest: 548.2111733\tbest: 548.2111733 (4280)\ttotal: 3m 10s\tremaining: 4m 14s\n",
      "4290:\tlearn: 496.1096651\ttest: 548.0602677\tbest: 548.0602677 (4290)\ttotal: 3m 11s\tremaining: 4m 14s\n",
      "4300:\tlearn: 495.8719679\ttest: 547.9227296\tbest: 547.9227296 (4300)\ttotal: 3m 11s\tremaining: 4m 14s\n",
      "4310:\tlearn: 495.6559978\ttest: 547.7694729\tbest: 547.7529991 (4309)\ttotal: 3m 12s\tremaining: 4m 13s\n",
      "4320:\tlearn: 495.3501507\ttest: 547.4640002\tbest: 547.4640002 (4320)\ttotal: 3m 12s\tremaining: 4m 13s\n",
      "4330:\tlearn: 495.1658179\ttest: 547.3484036\tbest: 547.3484036 (4330)\ttotal: 3m 13s\tremaining: 4m 13s\n",
      "4340:\tlearn: 494.9122912\ttest: 547.1296663\tbest: 547.1296663 (4340)\ttotal: 3m 13s\tremaining: 4m 12s\n",
      "4350:\tlearn: 494.6738534\ttest: 546.8974439\tbest: 546.8974439 (4350)\ttotal: 3m 14s\tremaining: 4m 12s\n",
      "4360:\tlearn: 494.5020308\ttest: 546.7258724\tbest: 546.7258724 (4360)\ttotal: 3m 14s\tremaining: 4m 11s\n",
      "4370:\tlearn: 494.2927491\ttest: 546.5384655\tbest: 546.5384655 (4370)\ttotal: 3m 15s\tremaining: 4m 11s\n",
      "4380:\tlearn: 494.1262718\ttest: 546.4277041\tbest: 546.4277041 (4380)\ttotal: 3m 15s\tremaining: 4m 10s\n",
      "4390:\tlearn: 493.8571954\ttest: 546.1632928\tbest: 546.1632928 (4390)\ttotal: 3m 15s\tremaining: 4m 10s\n",
      "4400:\tlearn: 493.6596157\ttest: 545.9856991\tbest: 545.9856991 (4400)\ttotal: 3m 16s\tremaining: 4m 9s\n",
      "4410:\tlearn: 493.4497476\ttest: 545.8850733\tbest: 545.8540855 (4409)\ttotal: 3m 16s\tremaining: 4m 9s\n",
      "4420:\tlearn: 493.2008609\ttest: 545.6633953\tbest: 545.6633953 (4420)\ttotal: 3m 17s\tremaining: 4m 8s\n",
      "4430:\tlearn: 493.0026021\ttest: 545.5120571\tbest: 545.5120571 (4430)\ttotal: 3m 17s\tremaining: 4m 8s\n",
      "4440:\tlearn: 492.7771622\ttest: 545.3121298\tbest: 545.3121003 (4439)\ttotal: 3m 18s\tremaining: 4m 7s\n",
      "4450:\tlearn: 492.5468036\ttest: 545.0762625\tbest: 545.0762625 (4450)\ttotal: 3m 18s\tremaining: 4m 7s\n",
      "4460:\tlearn: 492.4038693\ttest: 544.9675317\tbest: 544.9458290 (4459)\ttotal: 3m 18s\tremaining: 4m 6s\n",
      "4470:\tlearn: 492.1716373\ttest: 544.7981536\tbest: 544.7981536 (4470)\ttotal: 3m 19s\tremaining: 4m 6s\n",
      "4480:\tlearn: 491.9258795\ttest: 544.5278769\tbest: 544.5278769 (4480)\ttotal: 3m 19s\tremaining: 4m 5s\n",
      "4490:\tlearn: 491.6905231\ttest: 544.3402934\tbest: 544.3402934 (4490)\ttotal: 3m 20s\tremaining: 4m 5s\n",
      "4500:\tlearn: 491.5211724\ttest: 544.2336942\tbest: 544.2336942 (4500)\ttotal: 3m 20s\tremaining: 4m 5s\n",
      "4510:\tlearn: 491.3277613\ttest: 544.0770011\tbest: 544.0770011 (4510)\ttotal: 3m 21s\tremaining: 4m 4s\n",
      "4520:\tlearn: 491.1442470\ttest: 543.9446819\tbest: 543.9446819 (4520)\ttotal: 3m 21s\tremaining: 4m 4s\n",
      "4530:\tlearn: 490.9833331\ttest: 543.7793593\tbest: 543.7793593 (4530)\ttotal: 3m 21s\tremaining: 4m 3s\n",
      "4540:\tlearn: 490.7942533\ttest: 543.6167655\tbest: 543.6167655 (4540)\ttotal: 3m 22s\tremaining: 4m 3s\n",
      "4550:\tlearn: 490.5513113\ttest: 543.4063514\tbest: 543.4063514 (4550)\ttotal: 3m 22s\tremaining: 4m 2s\n",
      "4560:\tlearn: 490.4069540\ttest: 543.3129073\tbest: 543.3129073 (4560)\ttotal: 3m 23s\tremaining: 4m 2s\n",
      "4570:\tlearn: 490.2289908\ttest: 543.1916552\tbest: 543.1916552 (4570)\ttotal: 3m 23s\tremaining: 4m 1s\n",
      "4580:\tlearn: 490.0174898\ttest: 543.0076375\tbest: 543.0076375 (4580)\ttotal: 3m 24s\tremaining: 4m 1s\n",
      "4590:\tlearn: 489.8480923\ttest: 542.9132074\tbest: 542.9132074 (4590)\ttotal: 3m 24s\tremaining: 4m\n",
      "4600:\tlearn: 489.6614409\ttest: 542.7522690\tbest: 542.7522690 (4600)\ttotal: 3m 24s\tremaining: 4m\n",
      "4610:\tlearn: 489.4363964\ttest: 542.5715674\tbest: 542.5715674 (4610)\ttotal: 3m 25s\tremaining: 3m 59s\n",
      "4620:\tlearn: 489.2100721\ttest: 542.3198539\tbest: 542.3198539 (4620)\ttotal: 3m 25s\tremaining: 3m 59s\n",
      "4630:\tlearn: 489.0260541\ttest: 542.1834983\tbest: 542.1748947 (4629)\ttotal: 3m 26s\tremaining: 3m 58s\n",
      "4640:\tlearn: 488.8296449\ttest: 542.0463342\tbest: 542.0463342 (4640)\ttotal: 3m 26s\tremaining: 3m 58s\n",
      "4650:\tlearn: 488.6300113\ttest: 541.8982031\tbest: 541.8820915 (4648)\ttotal: 3m 27s\tremaining: 3m 58s\n",
      "4660:\tlearn: 488.4969962\ttest: 541.8198142\tbest: 541.8198142 (4660)\ttotal: 3m 27s\tremaining: 3m 57s\n",
      "4670:\tlearn: 488.3111012\ttest: 541.6860402\tbest: 541.6860402 (4670)\ttotal: 3m 27s\tremaining: 3m 57s\n",
      "4680:\tlearn: 488.1081906\ttest: 541.4946282\tbest: 541.4946282 (4680)\ttotal: 3m 28s\tremaining: 3m 56s\n",
      "4690:\tlearn: 487.9556512\ttest: 541.3748637\tbest: 541.3748637 (4690)\ttotal: 3m 28s\tremaining: 3m 56s\n",
      "4700:\tlearn: 487.7095597\ttest: 541.1862913\tbest: 541.1862913 (4700)\ttotal: 3m 29s\tremaining: 3m 55s\n",
      "4710:\tlearn: 487.5189877\ttest: 541.0537450\tbest: 541.0537450 (4710)\ttotal: 3m 29s\tremaining: 3m 55s\n",
      "4720:\tlearn: 487.3416626\ttest: 540.8847292\tbest: 540.8847292 (4720)\ttotal: 3m 30s\tremaining: 3m 54s\n",
      "4730:\tlearn: 487.1926109\ttest: 540.7673440\tbest: 540.7673440 (4730)\ttotal: 3m 30s\tremaining: 3m 54s\n",
      "4740:\tlearn: 486.9250704\ttest: 540.5841358\tbest: 540.5841358 (4740)\ttotal: 3m 31s\tremaining: 3m 54s\n",
      "4750:\tlearn: 486.7569306\ttest: 540.4597569\tbest: 540.4597569 (4750)\ttotal: 3m 32s\tremaining: 3m 54s\n",
      "4760:\tlearn: 486.5936237\ttest: 540.2907505\tbest: 540.2907505 (4760)\ttotal: 3m 32s\tremaining: 3m 54s\n",
      "4770:\tlearn: 486.3798813\ttest: 540.1010502\tbest: 540.1010502 (4770)\ttotal: 3m 33s\tremaining: 3m 53s\n",
      "4780:\tlearn: 486.1160657\ttest: 539.8504823\tbest: 539.8504823 (4780)\ttotal: 3m 33s\tremaining: 3m 53s\n",
      "4790:\tlearn: 485.9657033\ttest: 539.7426291\tbest: 539.7426291 (4790)\ttotal: 3m 34s\tremaining: 3m 53s\n",
      "4800:\tlearn: 485.7745873\ttest: 539.5862077\tbest: 539.5862077 (4800)\ttotal: 3m 34s\tremaining: 3m 52s\n",
      "4810:\tlearn: 485.6108809\ttest: 539.4464649\tbest: 539.4464649 (4810)\ttotal: 3m 35s\tremaining: 3m 52s\n",
      "4820:\tlearn: 485.3843402\ttest: 539.2569109\tbest: 539.2569109 (4820)\ttotal: 3m 36s\tremaining: 3m 52s\n",
      "4830:\tlearn: 485.1647663\ttest: 539.0439272\tbest: 539.0439272 (4830)\ttotal: 3m 36s\tremaining: 3m 51s\n",
      "4840:\tlearn: 485.0344572\ttest: 538.9773556\tbest: 538.9773556 (4840)\ttotal: 3m 37s\tremaining: 3m 51s\n",
      "4850:\tlearn: 484.8607529\ttest: 538.8548174\tbest: 538.8548174 (4850)\ttotal: 3m 37s\tremaining: 3m 50s\n",
      "4860:\tlearn: 484.6947581\ttest: 538.7410614\tbest: 538.7374908 (4858)\ttotal: 3m 38s\tremaining: 3m 50s\n",
      "4870:\tlearn: 484.5766157\ttest: 538.6720002\tbest: 538.6605862 (4869)\ttotal: 3m 38s\tremaining: 3m 50s\n",
      "4880:\tlearn: 484.3537125\ttest: 538.4556296\tbest: 538.4556296 (4880)\ttotal: 3m 39s\tremaining: 3m 49s\n",
      "4890:\tlearn: 484.2008536\ttest: 538.3365881\tbest: 538.3365881 (4890)\ttotal: 3m 39s\tremaining: 3m 49s\n",
      "4900:\tlearn: 483.9774346\ttest: 538.1496326\tbest: 538.1496326 (4900)\ttotal: 3m 40s\tremaining: 3m 49s\n",
      "4910:\tlearn: 483.8427815\ttest: 538.0157797\tbest: 538.0157797 (4910)\ttotal: 3m 40s\tremaining: 3m 48s\n",
      "4920:\tlearn: 483.7009330\ttest: 537.9489289\tbest: 537.9489289 (4920)\ttotal: 3m 41s\tremaining: 3m 48s\n",
      "4930:\tlearn: 483.5082550\ttest: 537.8288204\tbest: 537.8288204 (4930)\ttotal: 3m 41s\tremaining: 3m 47s\n",
      "4940:\tlearn: 483.3053923\ttest: 537.6536286\tbest: 537.6536286 (4940)\ttotal: 3m 42s\tremaining: 3m 47s\n",
      "4950:\tlearn: 483.1333641\ttest: 537.4837339\tbest: 537.4837339 (4950)\ttotal: 3m 42s\tremaining: 3m 47s\n",
      "4960:\tlearn: 482.9684457\ttest: 537.3399481\tbest: 537.3399481 (4960)\ttotal: 3m 43s\tremaining: 3m 46s\n",
      "4970:\tlearn: 482.8263016\ttest: 537.2261695\tbest: 537.2261695 (4970)\ttotal: 3m 43s\tremaining: 3m 46s\n",
      "4980:\tlearn: 482.6761497\ttest: 537.1083408\tbest: 537.1083408 (4980)\ttotal: 3m 44s\tremaining: 3m 46s\n",
      "4990:\tlearn: 482.4546424\ttest: 536.9426529\tbest: 536.9426529 (4990)\ttotal: 3m 45s\tremaining: 3m 45s\n",
      "5000:\tlearn: 482.2572453\ttest: 536.7853529\tbest: 536.7853529 (5000)\ttotal: 3m 45s\tremaining: 3m 45s\n"
     ]
    },
    {
     "name": "stdout",
     "output_type": "stream",
     "text": [
      "5010:\tlearn: 482.1136700\ttest: 536.6534802\tbest: 536.6471242 (5009)\ttotal: 3m 46s\tremaining: 3m 45s\n",
      "5020:\tlearn: 481.9673178\ttest: 536.5610884\tbest: 536.5610884 (5020)\ttotal: 3m 46s\tremaining: 3m 44s\n",
      "5030:\tlearn: 481.8237954\ttest: 536.4470451\tbest: 536.4470451 (5030)\ttotal: 3m 47s\tremaining: 3m 44s\n",
      "5040:\tlearn: 481.6422659\ttest: 536.3206836\tbest: 536.3206836 (5040)\ttotal: 3m 48s\tremaining: 3m 44s\n",
      "5050:\tlearn: 481.4522243\ttest: 536.1465962\tbest: 536.1465962 (5050)\ttotal: 3m 48s\tremaining: 3m 44s\n",
      "5060:\tlearn: 481.2497153\ttest: 535.9633623\tbest: 535.9617663 (5059)\ttotal: 3m 49s\tremaining: 3m 43s\n",
      "5070:\tlearn: 481.0730182\ttest: 535.8032141\tbest: 535.8029272 (5069)\ttotal: 3m 49s\tremaining: 3m 43s\n",
      "5080:\tlearn: 480.9543676\ttest: 535.7401012\tbest: 535.7401012 (5080)\ttotal: 3m 50s\tremaining: 3m 42s\n",
      "5090:\tlearn: 480.8011971\ttest: 535.6124733\tbest: 535.6120396 (5089)\ttotal: 3m 50s\tremaining: 3m 42s\n",
      "5100:\tlearn: 480.6788476\ttest: 535.5194128\tbest: 535.5155508 (5098)\ttotal: 3m 51s\tremaining: 3m 42s\n",
      "5110:\tlearn: 480.4801340\ttest: 535.3490941\tbest: 535.3490941 (5110)\ttotal: 3m 51s\tremaining: 3m 41s\n",
      "5120:\tlearn: 480.2941380\ttest: 535.1965691\tbest: 535.1965691 (5120)\ttotal: 3m 52s\tremaining: 3m 41s\n",
      "5130:\tlearn: 480.0724142\ttest: 534.9936299\tbest: 534.9936299 (5130)\ttotal: 3m 52s\tremaining: 3m 40s\n",
      "5140:\tlearn: 479.8700949\ttest: 534.8214518\tbest: 534.8214518 (5140)\ttotal: 3m 53s\tremaining: 3m 40s\n",
      "5150:\tlearn: 479.6748399\ttest: 534.6455012\tbest: 534.6455012 (5150)\ttotal: 3m 53s\tremaining: 3m 40s\n",
      "5160:\tlearn: 479.5057153\ttest: 534.5739417\tbest: 534.5661607 (5157)\ttotal: 3m 54s\tremaining: 3m 39s\n",
      "5170:\tlearn: 479.3270904\ttest: 534.4406742\tbest: 534.4406742 (5170)\ttotal: 3m 54s\tremaining: 3m 39s\n",
      "5180:\tlearn: 479.2063593\ttest: 534.3634361\tbest: 534.3527915 (5179)\ttotal: 3m 55s\tremaining: 3m 38s\n",
      "5190:\tlearn: 479.0918593\ttest: 534.2918448\tbest: 534.2918448 (5190)\ttotal: 3m 55s\tremaining: 3m 38s\n",
      "5200:\tlearn: 478.9621400\ttest: 534.1805501\tbest: 534.1771245 (5199)\ttotal: 3m 56s\tremaining: 3m 38s\n",
      "5210:\tlearn: 478.8225132\ttest: 534.1066488\tbest: 534.1066488 (5210)\ttotal: 3m 56s\tremaining: 3m 37s\n",
      "5220:\tlearn: 478.6359550\ttest: 533.9527846\tbest: 533.9527846 (5220)\ttotal: 3m 57s\tremaining: 3m 37s\n",
      "5230:\tlearn: 478.4643849\ttest: 533.8045361\tbest: 533.7995523 (5229)\ttotal: 3m 57s\tremaining: 3m 36s\n",
      "5240:\tlearn: 478.2846959\ttest: 533.6241298\tbest: 533.6241298 (5240)\ttotal: 3m 58s\tremaining: 3m 36s\n",
      "5250:\tlearn: 478.1214230\ttest: 533.4546844\tbest: 533.4546844 (5250)\ttotal: 3m 58s\tremaining: 3m 35s\n",
      "5260:\tlearn: 477.9489144\ttest: 533.3264478\tbest: 533.3264478 (5260)\ttotal: 3m 59s\tremaining: 3m 35s\n",
      "5270:\tlearn: 477.8184528\ttest: 533.2504157\tbest: 533.2504157 (5270)\ttotal: 3m 59s\tremaining: 3m 35s\n",
      "5280:\tlearn: 477.7192311\ttest: 533.1705639\tbest: 533.1705639 (5280)\ttotal: 4m\tremaining: 3m 34s\n",
      "5290:\tlearn: 477.5727651\ttest: 533.0501897\tbest: 533.0501897 (5290)\ttotal: 4m\tremaining: 3m 34s\n",
      "5300:\tlearn: 477.4763288\ttest: 532.9535782\tbest: 532.9469830 (5299)\ttotal: 4m 1s\tremaining: 3m 33s\n",
      "5310:\tlearn: 477.3232325\ttest: 532.8135854\tbest: 532.8129308 (5309)\ttotal: 4m 1s\tremaining: 3m 33s\n",
      "5320:\tlearn: 477.1736795\ttest: 532.6691689\tbest: 532.6691689 (5320)\ttotal: 4m 2s\tremaining: 3m 33s\n",
      "5330:\tlearn: 477.0268606\ttest: 532.5572302\tbest: 532.5572302 (5330)\ttotal: 4m 2s\tremaining: 3m 32s\n",
      "5340:\tlearn: 476.8974475\ttest: 532.4485307\tbest: 532.4485307 (5340)\ttotal: 4m 3s\tremaining: 3m 32s\n",
      "5350:\tlearn: 476.6825200\ttest: 532.2531362\tbest: 532.2531362 (5350)\ttotal: 4m 4s\tremaining: 3m 31s\n",
      "5360:\tlearn: 476.5538452\ttest: 532.1634199\tbest: 532.1634199 (5360)\ttotal: 4m 4s\tremaining: 3m 31s\n",
      "5370:\tlearn: 476.4112576\ttest: 532.0729667\tbest: 532.0729667 (5370)\ttotal: 4m 4s\tremaining: 3m 31s\n",
      "5380:\tlearn: 476.2092396\ttest: 531.9139053\tbest: 531.9139053 (5380)\ttotal: 4m 5s\tremaining: 3m 30s\n",
      "5390:\tlearn: 476.0990747\ttest: 531.8528653\tbest: 531.8528653 (5390)\ttotal: 4m 5s\tremaining: 3m 30s\n",
      "5400:\tlearn: 475.9747109\ttest: 531.7388317\tbest: 531.7388317 (5400)\ttotal: 4m 6s\tremaining: 3m 29s\n",
      "5410:\tlearn: 475.8455627\ttest: 531.6380370\tbest: 531.6380370 (5410)\ttotal: 4m 6s\tremaining: 3m 29s\n",
      "5420:\tlearn: 475.6830200\ttest: 531.4898313\tbest: 531.4898313 (5420)\ttotal: 4m 7s\tremaining: 3m 28s\n",
      "5430:\tlearn: 475.5407938\ttest: 531.3876840\tbest: 531.3876840 (5430)\ttotal: 4m 7s\tremaining: 3m 28s\n",
      "5440:\tlearn: 475.3664441\ttest: 531.2636442\tbest: 531.2636442 (5440)\ttotal: 4m 8s\tremaining: 3m 28s\n",
      "5450:\tlearn: 475.2090909\ttest: 531.1552254\tbest: 531.1552254 (5450)\ttotal: 4m 8s\tremaining: 3m 27s\n",
      "5460:\tlearn: 475.0927938\ttest: 531.0740938\tbest: 531.0740938 (5460)\ttotal: 4m 9s\tremaining: 3m 27s\n",
      "5470:\tlearn: 474.9589582\ttest: 530.9682446\tbest: 530.9682446 (5470)\ttotal: 4m 9s\tremaining: 3m 26s\n",
      "5480:\tlearn: 474.8102365\ttest: 530.8457098\tbest: 530.8436425 (5479)\ttotal: 4m 10s\tremaining: 3m 26s\n",
      "5490:\tlearn: 474.6821826\ttest: 530.7543916\tbest: 530.7518624 (5488)\ttotal: 4m 10s\tremaining: 3m 25s\n",
      "5500:\tlearn: 474.5151275\ttest: 530.6103037\tbest: 530.6087973 (5499)\ttotal: 4m 11s\tremaining: 3m 25s\n",
      "5510:\tlearn: 474.3701534\ttest: 530.4764819\tbest: 530.4764819 (5510)\ttotal: 4m 11s\tremaining: 3m 24s\n",
      "5520:\tlearn: 474.2457989\ttest: 530.3650777\tbest: 530.3650777 (5520)\ttotal: 4m 12s\tremaining: 3m 24s\n",
      "5530:\tlearn: 474.1148596\ttest: 530.2593809\tbest: 530.2593809 (5530)\ttotal: 4m 12s\tremaining: 3m 24s\n",
      "5540:\tlearn: 473.9503562\ttest: 530.0951752\tbest: 530.0951752 (5540)\ttotal: 4m 13s\tremaining: 3m 23s\n",
      "5550:\tlearn: 473.8073641\ttest: 529.9994055\tbest: 529.9994055 (5550)\ttotal: 4m 13s\tremaining: 3m 23s\n",
      "5560:\tlearn: 473.6966725\ttest: 529.9182847\tbest: 529.9182847 (5560)\ttotal: 4m 13s\tremaining: 3m 22s\n",
      "5570:\tlearn: 473.6042970\ttest: 529.8581482\tbest: 529.8581482 (5570)\ttotal: 4m 14s\tremaining: 3m 22s\n",
      "5580:\tlearn: 473.4556324\ttest: 529.7658303\tbest: 529.7658303 (5580)\ttotal: 4m 14s\tremaining: 3m 21s\n",
      "5590:\tlearn: 473.2935503\ttest: 529.6280337\tbest: 529.6280337 (5590)\ttotal: 4m 15s\tremaining: 3m 21s\n",
      "5600:\tlearn: 473.1535977\ttest: 529.4994673\tbest: 529.4994673 (5600)\ttotal: 4m 15s\tremaining: 3m 20s\n",
      "5610:\tlearn: 472.9935468\ttest: 529.4000495\tbest: 529.4000495 (5610)\ttotal: 4m 16s\tremaining: 3m 20s\n",
      "5620:\tlearn: 472.8914199\ttest: 529.3546325\tbest: 529.3546325 (5620)\ttotal: 4m 16s\tremaining: 3m 19s\n",
      "5630:\tlearn: 472.7763995\ttest: 529.2837816\tbest: 529.2837816 (5630)\ttotal: 4m 17s\tremaining: 3m 19s\n",
      "5640:\tlearn: 472.6671103\ttest: 529.1988278\tbest: 529.1988278 (5640)\ttotal: 4m 17s\tremaining: 3m 18s\n",
      "5650:\tlearn: 472.5288311\ttest: 529.1117504\tbest: 529.1117504 (5650)\ttotal: 4m 18s\tremaining: 3m 18s\n",
      "5660:\tlearn: 472.4235592\ttest: 529.0316087\tbest: 529.0316087 (5660)\ttotal: 4m 18s\tremaining: 3m 18s\n",
      "5670:\tlearn: 472.2943737\ttest: 528.9403008\tbest: 528.9403008 (5670)\ttotal: 4m 18s\tremaining: 3m 17s\n",
      "5680:\tlearn: 472.1932481\ttest: 528.8693330\tbest: 528.8693330 (5680)\ttotal: 4m 19s\tremaining: 3m 17s\n",
      "5690:\tlearn: 471.9698334\ttest: 528.6405194\tbest: 528.6405194 (5690)\ttotal: 4m 19s\tremaining: 3m 16s\n",
      "5700:\tlearn: 471.8369788\ttest: 528.5226564\tbest: 528.5203379 (5699)\ttotal: 4m 20s\tremaining: 3m 16s\n",
      "5710:\tlearn: 471.7119600\ttest: 528.4192219\tbest: 528.4192219 (5710)\ttotal: 4m 20s\tremaining: 3m 15s\n",
      "5720:\tlearn: 471.5558795\ttest: 528.2603024\tbest: 528.2603024 (5720)\ttotal: 4m 21s\tremaining: 3m 15s\n",
      "5730:\tlearn: 471.4338032\ttest: 528.1853498\tbest: 528.1853498 (5730)\ttotal: 4m 21s\tremaining: 3m 14s\n",
      "5740:\tlearn: 471.2902864\ttest: 528.0488570\tbest: 528.0488570 (5740)\ttotal: 4m 22s\tremaining: 3m 14s\n",
      "5750:\tlearn: 471.1456688\ttest: 527.9419502\tbest: 527.9419502 (5750)\ttotal: 4m 22s\tremaining: 3m 13s\n",
      "5760:\tlearn: 471.0469273\ttest: 527.8667325\tbest: 527.8621108 (5758)\ttotal: 4m 22s\tremaining: 3m 13s\n",
      "5770:\tlearn: 470.8922653\ttest: 527.7195639\tbest: 527.7195639 (5770)\ttotal: 4m 23s\tremaining: 3m 12s\n",
      "5780:\tlearn: 470.6893003\ttest: 527.5369228\tbest: 527.5369228 (5780)\ttotal: 4m 23s\tremaining: 3m 12s\n",
      "5790:\tlearn: 470.6139214\ttest: 527.4832439\tbest: 527.4759289 (5787)\ttotal: 4m 24s\tremaining: 3m 11s\n",
      "5800:\tlearn: 470.4348538\ttest: 527.3519793\tbest: 527.3519793 (5800)\ttotal: 4m 24s\tremaining: 3m 11s\n",
      "5810:\tlearn: 470.3025514\ttest: 527.2742497\tbest: 527.2615647 (5809)\ttotal: 4m 25s\tremaining: 3m 11s\n",
      "5820:\tlearn: 470.1631746\ttest: 527.1792959\tbest: 527.1792959 (5820)\ttotal: 4m 25s\tremaining: 3m 10s\n",
      "5830:\tlearn: 470.0028173\ttest: 527.0469619\tbest: 527.0469619 (5830)\ttotal: 4m 25s\tremaining: 3m 10s\n"
     ]
    },
    {
     "name": "stdout",
     "output_type": "stream",
     "text": [
      "5840:\tlearn: 469.9298874\ttest: 527.0207476\tbest: 527.0207476 (5840)\ttotal: 4m 26s\tremaining: 3m 9s\n",
      "5850:\tlearn: 469.8246877\ttest: 526.9362889\tbest: 526.9362889 (5850)\ttotal: 4m 26s\tremaining: 3m 9s\n",
      "5860:\tlearn: 469.6950737\ttest: 526.8278137\tbest: 526.8278137 (5860)\ttotal: 4m 27s\tremaining: 3m 8s\n",
      "5870:\tlearn: 469.5680927\ttest: 526.7227223\tbest: 526.7227223 (5870)\ttotal: 4m 27s\tremaining: 3m 8s\n",
      "5880:\tlearn: 469.4266500\ttest: 526.6276952\tbest: 526.6276952 (5880)\ttotal: 4m 28s\tremaining: 3m 7s\n",
      "5890:\tlearn: 469.3335457\ttest: 526.5594135\tbest: 526.5594135 (5890)\ttotal: 4m 28s\tremaining: 3m 7s\n",
      "5900:\tlearn: 469.2323056\ttest: 526.4946909\tbest: 526.4946909 (5900)\ttotal: 4m 29s\tremaining: 3m 6s\n",
      "5910:\tlearn: 469.1210314\ttest: 526.4024895\tbest: 526.4004732 (5905)\ttotal: 4m 29s\tremaining: 3m 6s\n",
      "5920:\tlearn: 468.9980709\ttest: 526.3279806\tbest: 526.3252494 (5919)\ttotal: 4m 29s\tremaining: 3m 5s\n",
      "5930:\tlearn: 468.8426111\ttest: 526.2125715\tbest: 526.2125715 (5930)\ttotal: 4m 30s\tremaining: 3m 5s\n",
      "5940:\tlearn: 468.7298402\ttest: 526.1501248\tbest: 526.1453293 (5939)\ttotal: 4m 30s\tremaining: 3m 4s\n",
      "5950:\tlearn: 468.6097805\ttest: 526.0656262\tbest: 526.0656262 (5950)\ttotal: 4m 31s\tremaining: 3m 4s\n",
      "5960:\tlearn: 468.4379320\ttest: 525.9040562\tbest: 525.9040562 (5960)\ttotal: 4m 31s\tremaining: 3m 4s\n",
      "5970:\tlearn: 468.3642536\ttest: 525.8543485\tbest: 525.8543485 (5970)\ttotal: 4m 32s\tremaining: 3m 3s\n",
      "5980:\tlearn: 468.1875718\ttest: 525.6912039\tbest: 525.6912039 (5980)\ttotal: 4m 32s\tremaining: 3m 3s\n",
      "5990:\tlearn: 468.0429745\ttest: 525.5512250\tbest: 525.5512250 (5990)\ttotal: 4m 33s\tremaining: 3m 2s\n",
      "6000:\tlearn: 467.8840297\ttest: 525.4131750\tbest: 525.4131750 (6000)\ttotal: 4m 33s\tremaining: 3m 2s\n",
      "6010:\tlearn: 467.7906506\ttest: 525.3777176\tbest: 525.3777176 (6010)\ttotal: 4m 33s\tremaining: 3m 1s\n",
      "6020:\tlearn: 467.6395906\ttest: 525.3282368\tbest: 525.3282368 (6020)\ttotal: 4m 34s\tremaining: 3m 1s\n",
      "6030:\tlearn: 467.5746431\ttest: 525.3129132\tbest: 525.3053331 (6023)\ttotal: 4m 34s\tremaining: 3m\n",
      "6040:\tlearn: 467.4465652\ttest: 525.2238092\tbest: 525.2238092 (6040)\ttotal: 4m 35s\tremaining: 3m\n",
      "6050:\tlearn: 467.3156659\ttest: 525.1071545\tbest: 525.1071545 (6050)\ttotal: 4m 35s\tremaining: 2m 59s\n",
      "6060:\tlearn: 467.1607808\ttest: 524.9738760\tbest: 524.9738760 (6060)\ttotal: 4m 36s\tremaining: 2m 59s\n",
      "6070:\tlearn: 467.0669787\ttest: 524.9022416\tbest: 524.9022416 (6070)\ttotal: 4m 36s\tremaining: 2m 58s\n",
      "6080:\tlearn: 466.9715661\ttest: 524.8455749\tbest: 524.8455749 (6080)\ttotal: 4m 37s\tremaining: 2m 58s\n",
      "6090:\tlearn: 466.8371547\ttest: 524.7564003\tbest: 524.7564003 (6090)\ttotal: 4m 37s\tremaining: 2m 58s\n",
      "6100:\tlearn: 466.7328571\ttest: 524.7210149\tbest: 524.7126647 (6098)\ttotal: 4m 37s\tremaining: 2m 57s\n",
      "6110:\tlearn: 466.6055706\ttest: 524.6367072\tbest: 524.6367072 (6110)\ttotal: 4m 38s\tremaining: 2m 57s\n",
      "6120:\tlearn: 466.4942259\ttest: 524.5362369\tbest: 524.5362369 (6120)\ttotal: 4m 38s\tremaining: 2m 56s\n",
      "6130:\tlearn: 466.3493764\ttest: 524.4133969\tbest: 524.4133969 (6130)\ttotal: 4m 39s\tremaining: 2m 56s\n",
      "6140:\tlearn: 466.2590815\ttest: 524.3191553\tbest: 524.3191553 (6140)\ttotal: 4m 39s\tremaining: 2m 55s\n",
      "6150:\tlearn: 466.1476749\ttest: 524.2269414\tbest: 524.2209234 (6148)\ttotal: 4m 40s\tremaining: 2m 55s\n",
      "6160:\tlearn: 466.0267073\ttest: 524.1528053\tbest: 524.1528053 (6160)\ttotal: 4m 40s\tremaining: 2m 54s\n",
      "6170:\tlearn: 465.9364353\ttest: 524.0893086\tbest: 524.0893086 (6170)\ttotal: 4m 41s\tremaining: 2m 54s\n",
      "6180:\tlearn: 465.8059931\ttest: 523.9556735\tbest: 523.9556735 (6180)\ttotal: 4m 41s\tremaining: 2m 53s\n",
      "6190:\tlearn: 465.7322035\ttest: 523.9085839\tbest: 523.9014668 (6188)\ttotal: 4m 41s\tremaining: 2m 53s\n",
      "6200:\tlearn: 465.6287402\ttest: 523.8286845\tbest: 523.8286845 (6200)\ttotal: 4m 42s\tremaining: 2m 52s\n",
      "6210:\tlearn: 465.5470246\ttest: 523.8066934\tbest: 523.8044512 (6207)\ttotal: 4m 42s\tremaining: 2m 52s\n",
      "6220:\tlearn: 465.5062026\ttest: 523.7953428\tbest: 523.7935164 (6219)\ttotal: 4m 43s\tremaining: 2m 51s\n",
      "6230:\tlearn: 465.4320893\ttest: 523.7772549\tbest: 523.7716611 (6225)\ttotal: 4m 43s\tremaining: 2m 51s\n",
      "6240:\tlearn: 465.3701186\ttest: 523.7562563\tbest: 523.7511821 (6233)\ttotal: 4m 44s\tremaining: 2m 51s\n",
      "6250:\tlearn: 465.2544827\ttest: 523.6324400\tbest: 523.6324400 (6250)\ttotal: 4m 44s\tremaining: 2m 50s\n",
      "6260:\tlearn: 465.1679942\ttest: 523.5735911\tbest: 523.5715110 (6258)\ttotal: 4m 44s\tremaining: 2m 50s\n",
      "6270:\tlearn: 465.0727554\ttest: 523.4920980\tbest: 523.4901452 (6267)\ttotal: 4m 45s\tremaining: 2m 49s\n",
      "6280:\tlearn: 464.9699167\ttest: 523.4153729\tbest: 523.4153729 (6280)\ttotal: 4m 45s\tremaining: 2m 49s\n",
      "6290:\tlearn: 464.8506520\ttest: 523.3078129\tbest: 523.3078129 (6290)\ttotal: 4m 46s\tremaining: 2m 48s\n",
      "6300:\tlearn: 464.7406473\ttest: 523.2314751\tbest: 523.2314751 (6300)\ttotal: 4m 47s\tremaining: 2m 48s\n",
      "6310:\tlearn: 464.6047249\ttest: 523.1242909\tbest: 523.1242909 (6310)\ttotal: 4m 47s\tremaining: 2m 48s\n",
      "6320:\tlearn: 464.5092500\ttest: 523.0500968\tbest: 523.0500968 (6320)\ttotal: 4m 48s\tremaining: 2m 47s\n",
      "6330:\tlearn: 464.4205561\ttest: 522.9633791\tbest: 522.9633791 (6330)\ttotal: 4m 48s\tremaining: 2m 47s\n",
      "6340:\tlearn: 464.3335971\ttest: 522.9007040\tbest: 522.9007040 (6340)\ttotal: 4m 49s\tremaining: 2m 46s\n",
      "6350:\tlearn: 464.2222604\ttest: 522.8285861\tbest: 522.8269922 (6349)\ttotal: 4m 49s\tremaining: 2m 46s\n",
      "6360:\tlearn: 464.1289006\ttest: 522.7517232\tbest: 522.7517232 (6360)\ttotal: 4m 50s\tremaining: 2m 46s\n",
      "6370:\tlearn: 463.9869993\ttest: 522.6456614\tbest: 522.6456614 (6370)\ttotal: 4m 51s\tremaining: 2m 45s\n",
      "6380:\tlearn: 463.9267378\ttest: 522.6258901\tbest: 522.6107616 (6378)\ttotal: 4m 51s\tremaining: 2m 45s\n",
      "6390:\tlearn: 463.8238890\ttest: 522.5766162\tbest: 522.5742377 (6389)\ttotal: 4m 52s\tremaining: 2m 44s\n",
      "6400:\tlearn: 463.6648087\ttest: 522.4481881\tbest: 522.4481881 (6400)\ttotal: 4m 52s\tremaining: 2m 44s\n",
      "6410:\tlearn: 463.5790485\ttest: 522.3919724\tbest: 522.3848706 (6408)\ttotal: 4m 53s\tremaining: 2m 44s\n",
      "6420:\tlearn: 463.5159641\ttest: 522.3575517\tbest: 522.3575517 (6420)\ttotal: 4m 53s\tremaining: 2m 43s\n",
      "6430:\tlearn: 463.4421512\ttest: 522.3036203\tbest: 522.3036203 (6430)\ttotal: 4m 54s\tremaining: 2m 43s\n",
      "6440:\tlearn: 463.3241365\ttest: 522.2011300\tbest: 522.2011300 (6440)\ttotal: 4m 54s\tremaining: 2m 42s\n",
      "6450:\tlearn: 463.2311011\ttest: 522.1200498\tbest: 522.1200498 (6450)\ttotal: 4m 55s\tremaining: 2m 42s\n",
      "6460:\tlearn: 463.1268120\ttest: 522.0426648\tbest: 522.0426648 (6460)\ttotal: 4m 55s\tremaining: 2m 42s\n",
      "6470:\tlearn: 463.0365963\ttest: 521.9824248\tbest: 521.9824248 (6470)\ttotal: 4m 56s\tremaining: 2m 41s\n",
      "6480:\tlearn: 462.9749150\ttest: 521.9548821\tbest: 521.9548821 (6480)\ttotal: 4m 56s\tremaining: 2m 41s\n",
      "6490:\tlearn: 462.8422899\ttest: 521.8329346\tbest: 521.8329346 (6490)\ttotal: 4m 57s\tremaining: 2m 40s\n",
      "6500:\tlearn: 462.7382165\ttest: 521.7414316\tbest: 521.7410539 (6499)\ttotal: 4m 57s\tremaining: 2m 40s\n",
      "6510:\tlearn: 462.6730604\ttest: 521.7093144\tbest: 521.7093144 (6510)\ttotal: 4m 58s\tremaining: 2m 39s\n",
      "6520:\tlearn: 462.5830363\ttest: 521.6485079\tbest: 521.6420564 (6518)\ttotal: 4m 58s\tremaining: 2m 39s\n",
      "6530:\tlearn: 462.4699829\ttest: 521.5630016\tbest: 521.5630016 (6530)\ttotal: 4m 59s\tremaining: 2m 38s\n",
      "6540:\tlearn: 462.3474472\ttest: 521.4456278\tbest: 521.4434327 (6539)\ttotal: 4m 59s\tremaining: 2m 38s\n",
      "6550:\tlearn: 462.2720898\ttest: 521.4013143\tbest: 521.4011879 (6549)\ttotal: 4m 59s\tremaining: 2m 37s\n",
      "6560:\tlearn: 462.1746229\ttest: 521.3190704\tbest: 521.3190704 (6560)\ttotal: 5m\tremaining: 2m 37s\n",
      "6570:\tlearn: 462.0670330\ttest: 521.2133260\tbest: 521.2133260 (6570)\ttotal: 5m\tremaining: 2m 36s\n",
      "6580:\tlearn: 461.9776330\ttest: 521.1564537\tbest: 521.1564537 (6580)\ttotal: 5m 1s\tremaining: 2m 36s\n",
      "6590:\tlearn: 461.8917876\ttest: 521.0710981\tbest: 521.0710981 (6590)\ttotal: 5m 1s\tremaining: 2m 35s\n",
      "6600:\tlearn: 461.7571336\ttest: 520.9470038\tbest: 520.9470038 (6600)\ttotal: 5m 2s\tremaining: 2m 35s\n",
      "6610:\tlearn: 461.6648183\ttest: 520.8948336\tbest: 520.8874777 (6608)\ttotal: 5m 2s\tremaining: 2m 34s\n",
      "6620:\tlearn: 461.5969401\ttest: 520.8568568\tbest: 520.8568568 (6620)\ttotal: 5m 2s\tremaining: 2m 34s\n",
      "6630:\tlearn: 461.5414459\ttest: 520.8361055\tbest: 520.8320378 (6625)\ttotal: 5m 3s\tremaining: 2m 34s\n",
      "6640:\tlearn: 461.4845551\ttest: 520.8150752\tbest: 520.8150752 (6640)\ttotal: 5m 3s\tremaining: 2m 33s\n",
      "6650:\tlearn: 461.4397723\ttest: 520.8201788\tbest: 520.8150752 (6640)\ttotal: 5m 4s\tremaining: 2m 33s\n",
      "Stopped by overfitting detector  (10 iterations wait)\n",
      "\n",
      "bestTest = 520.8150752\n",
      "bestIteration = 6640\n",
      "\n",
      "Shrink model to first 6641 iterations.\n",
      "CPU times: user 15min 37s, sys: 46.3 s, total: 16min 23s\n",
      "Wall time: 5min 11s\n"
     ]
    }
   ],
   "source": [
    "%%time\n",
    "model_cb = cb.train(train_cb, params_cb, eval_set=validation_cb)"
   ]
  },
  {
   "cell_type": "code",
   "execution_count": null,
   "metadata": {},
   "outputs": [],
   "source": []
  }
 ],
 "metadata": {
  "kernelspec": {
   "display_name": "Python 3",
   "language": "python",
   "name": "python3"
  },
  "language_info": {
   "codemirror_mode": {
    "name": "ipython",
    "version": 3
   },
   "file_extension": ".py",
   "mimetype": "text/x-python",
   "name": "python",
   "nbconvert_exporter": "python",
   "pygments_lexer": "ipython3",
   "version": "3.7.1"
  }
 },
 "nbformat": 4,
 "nbformat_minor": 2
}
